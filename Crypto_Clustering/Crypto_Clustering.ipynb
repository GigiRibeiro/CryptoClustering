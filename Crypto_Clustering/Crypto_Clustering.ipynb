{
  "cells": [
    {
      "cell_type": "code",
      "source": [
        "! pip install hvplot"
      ],
      "metadata": {
        "colab": {
          "base_uri": "https://localhost:8080/"
        },
        "id": "FRlsBC0ix31s",
        "outputId": "98bc8907-fc98-40ad-fa61-41aa18f6ed17"
      },
      "execution_count": null,
      "outputs": [
        {
          "output_type": "stream",
          "name": "stdout",
          "text": [
            "Requirement already satisfied: hvplot in /usr/local/lib/python3.10/dist-packages (0.8.4)\n",
            "Requirement already satisfied: bokeh>=1.0.0 in /usr/local/lib/python3.10/dist-packages (from hvplot) (2.4.3)\n",
            "Requirement already satisfied: colorcet>=2 in /usr/local/lib/python3.10/dist-packages (from hvplot) (3.0.1)\n",
            "Requirement already satisfied: holoviews>=1.11.0 in /usr/local/lib/python3.10/dist-packages (from hvplot) (1.15.4)\n",
            "Requirement already satisfied: pandas in /usr/local/lib/python3.10/dist-packages (from hvplot) (1.5.3)\n",
            "Requirement already satisfied: numpy>=1.15 in /usr/local/lib/python3.10/dist-packages (from hvplot) (1.22.4)\n",
            "Requirement already satisfied: packaging in /usr/local/lib/python3.10/dist-packages (from hvplot) (23.1)\n",
            "Requirement already satisfied: panel>=0.11.0 in /usr/local/lib/python3.10/dist-packages (from hvplot) (0.14.4)\n",
            "Requirement already satisfied: param>=1.9.0 in /usr/local/lib/python3.10/dist-packages (from hvplot) (1.13.0)\n",
            "Requirement already satisfied: Jinja2>=2.9 in /usr/local/lib/python3.10/dist-packages (from bokeh>=1.0.0->hvplot) (3.1.2)\n",
            "Requirement already satisfied: pillow>=7.1.0 in /usr/local/lib/python3.10/dist-packages (from bokeh>=1.0.0->hvplot) (8.4.0)\n",
            "Requirement already satisfied: PyYAML>=3.10 in /usr/local/lib/python3.10/dist-packages (from bokeh>=1.0.0->hvplot) (6.0)\n",
            "Requirement already satisfied: tornado>=5.1 in /usr/local/lib/python3.10/dist-packages (from bokeh>=1.0.0->hvplot) (6.3.1)\n",
            "Requirement already satisfied: typing-extensions>=3.10.0 in /usr/local/lib/python3.10/dist-packages (from bokeh>=1.0.0->hvplot) (4.6.3)\n",
            "Requirement already satisfied: pyct>=0.4.4 in /usr/local/lib/python3.10/dist-packages (from colorcet>=2->hvplot) (0.5.0)\n",
            "Requirement already satisfied: pyviz-comms>=0.7.4 in /usr/local/lib/python3.10/dist-packages (from holoviews>=1.11.0->hvplot) (2.3.2)\n",
            "Requirement already satisfied: python-dateutil>=2.8.1 in /usr/local/lib/python3.10/dist-packages (from pandas->hvplot) (2.8.2)\n",
            "Requirement already satisfied: pytz>=2020.1 in /usr/local/lib/python3.10/dist-packages (from pandas->hvplot) (2022.7.1)\n",
            "Requirement already satisfied: markdown in /usr/local/lib/python3.10/dist-packages (from panel>=0.11.0->hvplot) (3.4.3)\n",
            "Requirement already satisfied: requests in /usr/local/lib/python3.10/dist-packages (from panel>=0.11.0->hvplot) (2.27.1)\n",
            "Requirement already satisfied: tqdm>=4.48.0 in /usr/local/lib/python3.10/dist-packages (from panel>=0.11.0->hvplot) (4.65.0)\n",
            "Requirement already satisfied: bleach in /usr/local/lib/python3.10/dist-packages (from panel>=0.11.0->hvplot) (6.0.0)\n",
            "Requirement already satisfied: setuptools>=42 in /usr/local/lib/python3.10/dist-packages (from panel>=0.11.0->hvplot) (67.7.2)\n",
            "Requirement already satisfied: MarkupSafe>=2.0 in /usr/local/lib/python3.10/dist-packages (from Jinja2>=2.9->bokeh>=1.0.0->hvplot) (2.1.3)\n",
            "Requirement already satisfied: six>=1.5 in /usr/local/lib/python3.10/dist-packages (from python-dateutil>=2.8.1->pandas->hvplot) (1.16.0)\n",
            "Requirement already satisfied: webencodings in /usr/local/lib/python3.10/dist-packages (from bleach->panel>=0.11.0->hvplot) (0.5.1)\n",
            "Requirement already satisfied: urllib3<1.27,>=1.21.1 in /usr/local/lib/python3.10/dist-packages (from requests->panel>=0.11.0->hvplot) (1.26.16)\n",
            "Requirement already satisfied: certifi>=2017.4.17 in /usr/local/lib/python3.10/dist-packages (from requests->panel>=0.11.0->hvplot) (2023.5.7)\n",
            "Requirement already satisfied: charset-normalizer~=2.0.0 in /usr/local/lib/python3.10/dist-packages (from requests->panel>=0.11.0->hvplot) (2.0.12)\n",
            "Requirement already satisfied: idna<4,>=2.5 in /usr/local/lib/python3.10/dist-packages (from requests->panel>=0.11.0->hvplot) (3.4)\n"
          ]
        }
      ]
    },
    {
      "cell_type": "code",
      "execution_count": null,
      "metadata": {
        "id": "5-y4bTJAxKth"
      },
      "outputs": [],
      "source": [
        "# Import required libraries and dependencies\n",
        "import pandas as pd\n",
        "import hvplot.pandas\n",
        "from sklearn.cluster import KMeans\n",
        "from sklearn.decomposition import PCA\n",
        "from sklearn.preprocessing import StandardScaler\n",
        "import matplotlib.pyplot as plt"
      ]
    },
    {
      "cell_type": "code",
      "execution_count": null,
      "metadata": {
        "colab": {
          "base_uri": "https://localhost:8080/",
          "height": 493
        },
        "id": "mHV9mcKfxKt5",
        "outputId": "f008d366-989f-491c-da5a-bd85be30de71"
      },
      "outputs": [
        {
          "output_type": "execute_result",
          "data": {
            "text/plain": [
              "                 price_change_percentage_24h  price_change_percentage_7d  \\\n",
              "coin_id                                                                    \n",
              "bitcoin                              1.08388                     7.60278   \n",
              "ethereum                             0.22392                    10.38134   \n",
              "tether                              -0.21173                     0.04935   \n",
              "ripple                              -0.37819                    -0.60926   \n",
              "bitcoin-cash                         2.90585                    17.09717   \n",
              "binancecoin                          2.10423                    12.85511   \n",
              "chainlink                           -0.23935                    20.69459   \n",
              "cardano                              0.00322                    13.99302   \n",
              "litecoin                            -0.06341                     6.60221   \n",
              "bitcoin-cash-sv                      0.92530                     3.29641   \n",
              "\n",
              "                 price_change_percentage_14d  price_change_percentage_30d  \\\n",
              "coin_id                                                                     \n",
              "bitcoin                              6.57509                      7.67258   \n",
              "ethereum                             4.80849                      0.13169   \n",
              "tether                               0.00640                     -0.04237   \n",
              "ripple                               2.24984                      0.23455   \n",
              "bitcoin-cash                        14.75334                     15.74903   \n",
              "binancecoin                          6.80688                      0.05865   \n",
              "chainlink                            9.30098                    -11.21747   \n",
              "cardano                              5.55476                     10.10553   \n",
              "litecoin                             7.28931                      1.21662   \n",
              "bitcoin-cash-sv                     -1.86656                      2.88926   \n",
              "\n",
              "                 price_change_percentage_60d  price_change_percentage_200d  \\\n",
              "coin_id                                                                      \n",
              "bitcoin                             -3.25185                      83.51840   \n",
              "ethereum                           -12.88890                     186.77418   \n",
              "tether                               0.28037                      -0.00542   \n",
              "ripple                             -17.55245                      39.53888   \n",
              "bitcoin-cash                       -13.71793                      21.66042   \n",
              "binancecoin                         36.33486                     155.61937   \n",
              "chainlink                          -43.69522                     403.22917   \n",
              "cardano                            -22.84776                     264.51418   \n",
              "litecoin                           -17.23960                      27.49919   \n",
              "bitcoin-cash-sv                    -24.87434                       7.42562   \n",
              "\n",
              "                 price_change_percentage_1y  \n",
              "coin_id                                      \n",
              "bitcoin                            37.51761  \n",
              "ethereum                          101.96023  \n",
              "tether                              0.01954  \n",
              "ripple                            -16.60193  \n",
              "bitcoin-cash                       14.49384  \n",
              "binancecoin                        69.69195  \n",
              "chainlink                         325.13186  \n",
              "cardano                           156.09756  \n",
              "litecoin                          -12.66408  \n",
              "bitcoin-cash-sv                    93.73082  "
            ],
            "text/html": [
              "\n",
              "  <div id=\"df-65256a76-db2b-4f60-910c-fa8ca8ed00dd\">\n",
              "    <div class=\"colab-df-container\">\n",
              "      <div>\n",
              "<style scoped>\n",
              "    .dataframe tbody tr th:only-of-type {\n",
              "        vertical-align: middle;\n",
              "    }\n",
              "\n",
              "    .dataframe tbody tr th {\n",
              "        vertical-align: top;\n",
              "    }\n",
              "\n",
              "    .dataframe thead th {\n",
              "        text-align: right;\n",
              "    }\n",
              "</style>\n",
              "<table border=\"1\" class=\"dataframe\">\n",
              "  <thead>\n",
              "    <tr style=\"text-align: right;\">\n",
              "      <th></th>\n",
              "      <th>price_change_percentage_24h</th>\n",
              "      <th>price_change_percentage_7d</th>\n",
              "      <th>price_change_percentage_14d</th>\n",
              "      <th>price_change_percentage_30d</th>\n",
              "      <th>price_change_percentage_60d</th>\n",
              "      <th>price_change_percentage_200d</th>\n",
              "      <th>price_change_percentage_1y</th>\n",
              "    </tr>\n",
              "    <tr>\n",
              "      <th>coin_id</th>\n",
              "      <th></th>\n",
              "      <th></th>\n",
              "      <th></th>\n",
              "      <th></th>\n",
              "      <th></th>\n",
              "      <th></th>\n",
              "      <th></th>\n",
              "    </tr>\n",
              "  </thead>\n",
              "  <tbody>\n",
              "    <tr>\n",
              "      <th>bitcoin</th>\n",
              "      <td>1.08388</td>\n",
              "      <td>7.60278</td>\n",
              "      <td>6.57509</td>\n",
              "      <td>7.67258</td>\n",
              "      <td>-3.25185</td>\n",
              "      <td>83.51840</td>\n",
              "      <td>37.51761</td>\n",
              "    </tr>\n",
              "    <tr>\n",
              "      <th>ethereum</th>\n",
              "      <td>0.22392</td>\n",
              "      <td>10.38134</td>\n",
              "      <td>4.80849</td>\n",
              "      <td>0.13169</td>\n",
              "      <td>-12.88890</td>\n",
              "      <td>186.77418</td>\n",
              "      <td>101.96023</td>\n",
              "    </tr>\n",
              "    <tr>\n",
              "      <th>tether</th>\n",
              "      <td>-0.21173</td>\n",
              "      <td>0.04935</td>\n",
              "      <td>0.00640</td>\n",
              "      <td>-0.04237</td>\n",
              "      <td>0.28037</td>\n",
              "      <td>-0.00542</td>\n",
              "      <td>0.01954</td>\n",
              "    </tr>\n",
              "    <tr>\n",
              "      <th>ripple</th>\n",
              "      <td>-0.37819</td>\n",
              "      <td>-0.60926</td>\n",
              "      <td>2.24984</td>\n",
              "      <td>0.23455</td>\n",
              "      <td>-17.55245</td>\n",
              "      <td>39.53888</td>\n",
              "      <td>-16.60193</td>\n",
              "    </tr>\n",
              "    <tr>\n",
              "      <th>bitcoin-cash</th>\n",
              "      <td>2.90585</td>\n",
              "      <td>17.09717</td>\n",
              "      <td>14.75334</td>\n",
              "      <td>15.74903</td>\n",
              "      <td>-13.71793</td>\n",
              "      <td>21.66042</td>\n",
              "      <td>14.49384</td>\n",
              "    </tr>\n",
              "    <tr>\n",
              "      <th>binancecoin</th>\n",
              "      <td>2.10423</td>\n",
              "      <td>12.85511</td>\n",
              "      <td>6.80688</td>\n",
              "      <td>0.05865</td>\n",
              "      <td>36.33486</td>\n",
              "      <td>155.61937</td>\n",
              "      <td>69.69195</td>\n",
              "    </tr>\n",
              "    <tr>\n",
              "      <th>chainlink</th>\n",
              "      <td>-0.23935</td>\n",
              "      <td>20.69459</td>\n",
              "      <td>9.30098</td>\n",
              "      <td>-11.21747</td>\n",
              "      <td>-43.69522</td>\n",
              "      <td>403.22917</td>\n",
              "      <td>325.13186</td>\n",
              "    </tr>\n",
              "    <tr>\n",
              "      <th>cardano</th>\n",
              "      <td>0.00322</td>\n",
              "      <td>13.99302</td>\n",
              "      <td>5.55476</td>\n",
              "      <td>10.10553</td>\n",
              "      <td>-22.84776</td>\n",
              "      <td>264.51418</td>\n",
              "      <td>156.09756</td>\n",
              "    </tr>\n",
              "    <tr>\n",
              "      <th>litecoin</th>\n",
              "      <td>-0.06341</td>\n",
              "      <td>6.60221</td>\n",
              "      <td>7.28931</td>\n",
              "      <td>1.21662</td>\n",
              "      <td>-17.23960</td>\n",
              "      <td>27.49919</td>\n",
              "      <td>-12.66408</td>\n",
              "    </tr>\n",
              "    <tr>\n",
              "      <th>bitcoin-cash-sv</th>\n",
              "      <td>0.92530</td>\n",
              "      <td>3.29641</td>\n",
              "      <td>-1.86656</td>\n",
              "      <td>2.88926</td>\n",
              "      <td>-24.87434</td>\n",
              "      <td>7.42562</td>\n",
              "      <td>93.73082</td>\n",
              "    </tr>\n",
              "  </tbody>\n",
              "</table>\n",
              "</div>\n",
              "      <button class=\"colab-df-convert\" onclick=\"convertToInteractive('df-65256a76-db2b-4f60-910c-fa8ca8ed00dd')\"\n",
              "              title=\"Convert this dataframe to an interactive table.\"\n",
              "              style=\"display:none;\">\n",
              "        \n",
              "  <svg xmlns=\"http://www.w3.org/2000/svg\" height=\"24px\"viewBox=\"0 0 24 24\"\n",
              "       width=\"24px\">\n",
              "    <path d=\"M0 0h24v24H0V0z\" fill=\"none\"/>\n",
              "    <path d=\"M18.56 5.44l.94 2.06.94-2.06 2.06-.94-2.06-.94-.94-2.06-.94 2.06-2.06.94zm-11 1L8.5 8.5l.94-2.06 2.06-.94-2.06-.94L8.5 2.5l-.94 2.06-2.06.94zm10 10l.94 2.06.94-2.06 2.06-.94-2.06-.94-.94-2.06-.94 2.06-2.06.94z\"/><path d=\"M17.41 7.96l-1.37-1.37c-.4-.4-.92-.59-1.43-.59-.52 0-1.04.2-1.43.59L10.3 9.45l-7.72 7.72c-.78.78-.78 2.05 0 2.83L4 21.41c.39.39.9.59 1.41.59.51 0 1.02-.2 1.41-.59l7.78-7.78 2.81-2.81c.8-.78.8-2.07 0-2.86zM5.41 20L4 18.59l7.72-7.72 1.47 1.35L5.41 20z\"/>\n",
              "  </svg>\n",
              "      </button>\n",
              "      \n",
              "  <style>\n",
              "    .colab-df-container {\n",
              "      display:flex;\n",
              "      flex-wrap:wrap;\n",
              "      gap: 12px;\n",
              "    }\n",
              "\n",
              "    .colab-df-convert {\n",
              "      background-color: #E8F0FE;\n",
              "      border: none;\n",
              "      border-radius: 50%;\n",
              "      cursor: pointer;\n",
              "      display: none;\n",
              "      fill: #1967D2;\n",
              "      height: 32px;\n",
              "      padding: 0 0 0 0;\n",
              "      width: 32px;\n",
              "    }\n",
              "\n",
              "    .colab-df-convert:hover {\n",
              "      background-color: #E2EBFA;\n",
              "      box-shadow: 0px 1px 2px rgba(60, 64, 67, 0.3), 0px 1px 3px 1px rgba(60, 64, 67, 0.15);\n",
              "      fill: #174EA6;\n",
              "    }\n",
              "\n",
              "    [theme=dark] .colab-df-convert {\n",
              "      background-color: #3B4455;\n",
              "      fill: #D2E3FC;\n",
              "    }\n",
              "\n",
              "    [theme=dark] .colab-df-convert:hover {\n",
              "      background-color: #434B5C;\n",
              "      box-shadow: 0px 1px 3px 1px rgba(0, 0, 0, 0.15);\n",
              "      filter: drop-shadow(0px 1px 2px rgba(0, 0, 0, 0.3));\n",
              "      fill: #FFFFFF;\n",
              "    }\n",
              "  </style>\n",
              "\n",
              "      <script>\n",
              "        const buttonEl =\n",
              "          document.querySelector('#df-65256a76-db2b-4f60-910c-fa8ca8ed00dd button.colab-df-convert');\n",
              "        buttonEl.style.display =\n",
              "          google.colab.kernel.accessAllowed ? 'block' : 'none';\n",
              "\n",
              "        async function convertToInteractive(key) {\n",
              "          const element = document.querySelector('#df-65256a76-db2b-4f60-910c-fa8ca8ed00dd');\n",
              "          const dataTable =\n",
              "            await google.colab.kernel.invokeFunction('convertToInteractive',\n",
              "                                                     [key], {});\n",
              "          if (!dataTable) return;\n",
              "\n",
              "          const docLinkHtml = 'Like what you see? Visit the ' +\n",
              "            '<a target=\"_blank\" href=https://colab.research.google.com/notebooks/data_table.ipynb>data table notebook</a>'\n",
              "            + ' to learn more about interactive tables.';\n",
              "          element.innerHTML = '';\n",
              "          dataTable['output_type'] = 'display_data';\n",
              "          await google.colab.output.renderOutput(dataTable, element);\n",
              "          const docLink = document.createElement('div');\n",
              "          docLink.innerHTML = docLinkHtml;\n",
              "          element.appendChild(docLink);\n",
              "        }\n",
              "      </script>\n",
              "    </div>\n",
              "  </div>\n",
              "  "
            ]
          },
          "metadata": {},
          "execution_count": 34
        }
      ],
      "source": [
        "# Load the data into a Pandas DataFrame\n",
        "df_market_data = pd.read_csv(\n",
        "    \"crypto_market_data.csv\",\n",
        "    index_col=\"coin_id\")\n",
        "\n",
        "# Display sample data\n",
        "df_market_data.head(10)"
      ]
    },
    {
      "cell_type": "code",
      "execution_count": null,
      "metadata": {
        "colab": {
          "base_uri": "https://localhost:8080/",
          "height": 364
        },
        "id": "TgyRfBDYxKt8",
        "outputId": "06e7a537-a4ea-4062-e3b1-0ef3914d1fdf"
      },
      "outputs": [
        {
          "output_type": "execute_result",
          "data": {
            "text/plain": [
              "       price_change_percentage_24h  price_change_percentage_7d  \\\n",
              "count                    41.000000                   41.000000   \n",
              "mean                     -0.269686                    4.497147   \n",
              "std                       2.694793                    6.375218   \n",
              "min                     -13.527860                   -6.094560   \n",
              "25%                      -0.608970                    0.047260   \n",
              "50%                      -0.063410                    3.296410   \n",
              "75%                       0.612090                    7.602780   \n",
              "max                       4.840330                   20.694590   \n",
              "\n",
              "       price_change_percentage_14d  price_change_percentage_30d  \\\n",
              "count                    41.000000                    41.000000   \n",
              "mean                      0.185787                     1.545693   \n",
              "std                       8.376939                    26.344218   \n",
              "min                     -18.158900                   -34.705480   \n",
              "25%                      -5.026620                   -10.438470   \n",
              "50%                       0.109740                    -0.042370   \n",
              "75%                       5.510740                     4.578130   \n",
              "max                      24.239190                   140.795700   \n",
              "\n",
              "       price_change_percentage_60d  price_change_percentage_200d  \\\n",
              "count                    41.000000                     41.000000   \n",
              "mean                     -0.094119                    236.537432   \n",
              "std                      47.365803                    435.225304   \n",
              "min                     -44.822480                     -0.392100   \n",
              "25%                     -25.907990                     21.660420   \n",
              "50%                      -7.544550                     83.905200   \n",
              "75%                       0.657260                    216.177610   \n",
              "max                     223.064370                   2227.927820   \n",
              "\n",
              "       price_change_percentage_1y  \n",
              "count                   41.000000  \n",
              "mean                   347.667956  \n",
              "std                   1247.842884  \n",
              "min                    -17.567530  \n",
              "25%                      0.406170  \n",
              "50%                     69.691950  \n",
              "75%                    168.372510  \n",
              "max                   7852.089700  "
            ],
            "text/html": [
              "\n",
              "  <div id=\"df-23a07990-3d6f-42b3-a07d-fdfbb19c1e26\">\n",
              "    <div class=\"colab-df-container\">\n",
              "      <div>\n",
              "<style scoped>\n",
              "    .dataframe tbody tr th:only-of-type {\n",
              "        vertical-align: middle;\n",
              "    }\n",
              "\n",
              "    .dataframe tbody tr th {\n",
              "        vertical-align: top;\n",
              "    }\n",
              "\n",
              "    .dataframe thead th {\n",
              "        text-align: right;\n",
              "    }\n",
              "</style>\n",
              "<table border=\"1\" class=\"dataframe\">\n",
              "  <thead>\n",
              "    <tr style=\"text-align: right;\">\n",
              "      <th></th>\n",
              "      <th>price_change_percentage_24h</th>\n",
              "      <th>price_change_percentage_7d</th>\n",
              "      <th>price_change_percentage_14d</th>\n",
              "      <th>price_change_percentage_30d</th>\n",
              "      <th>price_change_percentage_60d</th>\n",
              "      <th>price_change_percentage_200d</th>\n",
              "      <th>price_change_percentage_1y</th>\n",
              "    </tr>\n",
              "  </thead>\n",
              "  <tbody>\n",
              "    <tr>\n",
              "      <th>count</th>\n",
              "      <td>41.000000</td>\n",
              "      <td>41.000000</td>\n",
              "      <td>41.000000</td>\n",
              "      <td>41.000000</td>\n",
              "      <td>41.000000</td>\n",
              "      <td>41.000000</td>\n",
              "      <td>41.000000</td>\n",
              "    </tr>\n",
              "    <tr>\n",
              "      <th>mean</th>\n",
              "      <td>-0.269686</td>\n",
              "      <td>4.497147</td>\n",
              "      <td>0.185787</td>\n",
              "      <td>1.545693</td>\n",
              "      <td>-0.094119</td>\n",
              "      <td>236.537432</td>\n",
              "      <td>347.667956</td>\n",
              "    </tr>\n",
              "    <tr>\n",
              "      <th>std</th>\n",
              "      <td>2.694793</td>\n",
              "      <td>6.375218</td>\n",
              "      <td>8.376939</td>\n",
              "      <td>26.344218</td>\n",
              "      <td>47.365803</td>\n",
              "      <td>435.225304</td>\n",
              "      <td>1247.842884</td>\n",
              "    </tr>\n",
              "    <tr>\n",
              "      <th>min</th>\n",
              "      <td>-13.527860</td>\n",
              "      <td>-6.094560</td>\n",
              "      <td>-18.158900</td>\n",
              "      <td>-34.705480</td>\n",
              "      <td>-44.822480</td>\n",
              "      <td>-0.392100</td>\n",
              "      <td>-17.567530</td>\n",
              "    </tr>\n",
              "    <tr>\n",
              "      <th>25%</th>\n",
              "      <td>-0.608970</td>\n",
              "      <td>0.047260</td>\n",
              "      <td>-5.026620</td>\n",
              "      <td>-10.438470</td>\n",
              "      <td>-25.907990</td>\n",
              "      <td>21.660420</td>\n",
              "      <td>0.406170</td>\n",
              "    </tr>\n",
              "    <tr>\n",
              "      <th>50%</th>\n",
              "      <td>-0.063410</td>\n",
              "      <td>3.296410</td>\n",
              "      <td>0.109740</td>\n",
              "      <td>-0.042370</td>\n",
              "      <td>-7.544550</td>\n",
              "      <td>83.905200</td>\n",
              "      <td>69.691950</td>\n",
              "    </tr>\n",
              "    <tr>\n",
              "      <th>75%</th>\n",
              "      <td>0.612090</td>\n",
              "      <td>7.602780</td>\n",
              "      <td>5.510740</td>\n",
              "      <td>4.578130</td>\n",
              "      <td>0.657260</td>\n",
              "      <td>216.177610</td>\n",
              "      <td>168.372510</td>\n",
              "    </tr>\n",
              "    <tr>\n",
              "      <th>max</th>\n",
              "      <td>4.840330</td>\n",
              "      <td>20.694590</td>\n",
              "      <td>24.239190</td>\n",
              "      <td>140.795700</td>\n",
              "      <td>223.064370</td>\n",
              "      <td>2227.927820</td>\n",
              "      <td>7852.089700</td>\n",
              "    </tr>\n",
              "  </tbody>\n",
              "</table>\n",
              "</div>\n",
              "      <button class=\"colab-df-convert\" onclick=\"convertToInteractive('df-23a07990-3d6f-42b3-a07d-fdfbb19c1e26')\"\n",
              "              title=\"Convert this dataframe to an interactive table.\"\n",
              "              style=\"display:none;\">\n",
              "        \n",
              "  <svg xmlns=\"http://www.w3.org/2000/svg\" height=\"24px\"viewBox=\"0 0 24 24\"\n",
              "       width=\"24px\">\n",
              "    <path d=\"M0 0h24v24H0V0z\" fill=\"none\"/>\n",
              "    <path d=\"M18.56 5.44l.94 2.06.94-2.06 2.06-.94-2.06-.94-.94-2.06-.94 2.06-2.06.94zm-11 1L8.5 8.5l.94-2.06 2.06-.94-2.06-.94L8.5 2.5l-.94 2.06-2.06.94zm10 10l.94 2.06.94-2.06 2.06-.94-2.06-.94-.94-2.06-.94 2.06-2.06.94z\"/><path d=\"M17.41 7.96l-1.37-1.37c-.4-.4-.92-.59-1.43-.59-.52 0-1.04.2-1.43.59L10.3 9.45l-7.72 7.72c-.78.78-.78 2.05 0 2.83L4 21.41c.39.39.9.59 1.41.59.51 0 1.02-.2 1.41-.59l7.78-7.78 2.81-2.81c.8-.78.8-2.07 0-2.86zM5.41 20L4 18.59l7.72-7.72 1.47 1.35L5.41 20z\"/>\n",
              "  </svg>\n",
              "      </button>\n",
              "      \n",
              "  <style>\n",
              "    .colab-df-container {\n",
              "      display:flex;\n",
              "      flex-wrap:wrap;\n",
              "      gap: 12px;\n",
              "    }\n",
              "\n",
              "    .colab-df-convert {\n",
              "      background-color: #E8F0FE;\n",
              "      border: none;\n",
              "      border-radius: 50%;\n",
              "      cursor: pointer;\n",
              "      display: none;\n",
              "      fill: #1967D2;\n",
              "      height: 32px;\n",
              "      padding: 0 0 0 0;\n",
              "      width: 32px;\n",
              "    }\n",
              "\n",
              "    .colab-df-convert:hover {\n",
              "      background-color: #E2EBFA;\n",
              "      box-shadow: 0px 1px 2px rgba(60, 64, 67, 0.3), 0px 1px 3px 1px rgba(60, 64, 67, 0.15);\n",
              "      fill: #174EA6;\n",
              "    }\n",
              "\n",
              "    [theme=dark] .colab-df-convert {\n",
              "      background-color: #3B4455;\n",
              "      fill: #D2E3FC;\n",
              "    }\n",
              "\n",
              "    [theme=dark] .colab-df-convert:hover {\n",
              "      background-color: #434B5C;\n",
              "      box-shadow: 0px 1px 3px 1px rgba(0, 0, 0, 0.15);\n",
              "      filter: drop-shadow(0px 1px 2px rgba(0, 0, 0, 0.3));\n",
              "      fill: #FFFFFF;\n",
              "    }\n",
              "  </style>\n",
              "\n",
              "      <script>\n",
              "        const buttonEl =\n",
              "          document.querySelector('#df-23a07990-3d6f-42b3-a07d-fdfbb19c1e26 button.colab-df-convert');\n",
              "        buttonEl.style.display =\n",
              "          google.colab.kernel.accessAllowed ? 'block' : 'none';\n",
              "\n",
              "        async function convertToInteractive(key) {\n",
              "          const element = document.querySelector('#df-23a07990-3d6f-42b3-a07d-fdfbb19c1e26');\n",
              "          const dataTable =\n",
              "            await google.colab.kernel.invokeFunction('convertToInteractive',\n",
              "                                                     [key], {});\n",
              "          if (!dataTable) return;\n",
              "\n",
              "          const docLinkHtml = 'Like what you see? Visit the ' +\n",
              "            '<a target=\"_blank\" href=https://colab.research.google.com/notebooks/data_table.ipynb>data table notebook</a>'\n",
              "            + ' to learn more about interactive tables.';\n",
              "          element.innerHTML = '';\n",
              "          dataTable['output_type'] = 'display_data';\n",
              "          await google.colab.output.renderOutput(dataTable, element);\n",
              "          const docLink = document.createElement('div');\n",
              "          docLink.innerHTML = docLinkHtml;\n",
              "          element.appendChild(docLink);\n",
              "        }\n",
              "      </script>\n",
              "    </div>\n",
              "  </div>\n",
              "  "
            ]
          },
          "metadata": {},
          "execution_count": 35
        }
      ],
      "source": [
        "# Generate summary statistics\n",
        "df_market_data.describe()"
      ]
    },
    {
      "cell_type": "code",
      "execution_count": null,
      "metadata": {
        "colab": {
          "base_uri": "https://localhost:8080/",
          "height": 17
        },
        "id": "O1XGOAujxKt_",
        "outputId": "ca40e679-fb27-4003-a2e5-b592a6bcba08"
      },
      "outputs": [
        {
          "output_type": "display_data",
          "data": {},
          "metadata": {}
        },
        {
          "output_type": "execute_result",
          "data": {
            "text/html": [
              "<div id='1367'>\n",
              "  <div class=\"bk-root\" id=\"d8854173-0bcc-4397-8278-e0118e73bac6\" data-root-id=\"1367\"></div>\n",
              "</div>\n",
              "<script type=\"application/javascript\">(function(root) {\n",
              "  function embed_document(root) {\n",
              "    var docs_json = {\"75ebaae6-db71-419e-bfda-74f717493919\":{\"defs\":[{\"extends\":null,\"module\":null,\"name\":\"ReactiveHTML1\",\"overrides\":[],\"properties\":[]},{\"extends\":null,\"module\":null,\"name\":\"FlexBox1\",\"overrides\":[],\"properties\":[{\"default\":\"flex-start\",\"kind\":null,\"name\":\"align_content\"},{\"default\":\"flex-start\",\"kind\":null,\"name\":\"align_items\"},{\"default\":\"row\",\"kind\":null,\"name\":\"flex_direction\"},{\"default\":\"wrap\",\"kind\":null,\"name\":\"flex_wrap\"},{\"default\":\"flex-start\",\"kind\":null,\"name\":\"justify_content\"}]},{\"extends\":null,\"module\":null,\"name\":\"GridStack1\",\"overrides\":[],\"properties\":[{\"default\":\"warn\",\"kind\":null,\"name\":\"mode\"},{\"default\":null,\"kind\":null,\"name\":\"ncols\"},{\"default\":null,\"kind\":null,\"name\":\"nrows\"},{\"default\":true,\"kind\":null,\"name\":\"allow_resize\"},{\"default\":true,\"kind\":null,\"name\":\"allow_drag\"},{\"default\":[],\"kind\":null,\"name\":\"state\"}]},{\"extends\":null,\"module\":null,\"name\":\"click1\",\"overrides\":[],\"properties\":[{\"default\":\"\",\"kind\":null,\"name\":\"terminal_output\"},{\"default\":\"\",\"kind\":null,\"name\":\"debug_name\"},{\"default\":0,\"kind\":null,\"name\":\"clears\"}]},{\"extends\":null,\"module\":null,\"name\":\"NotificationAreaBase1\",\"overrides\":[],\"properties\":[{\"default\":\"bottom-right\",\"kind\":null,\"name\":\"position\"},{\"default\":0,\"kind\":null,\"name\":\"_clear\"}]},{\"extends\":null,\"module\":null,\"name\":\"NotificationArea1\",\"overrides\":[],\"properties\":[{\"default\":[],\"kind\":null,\"name\":\"notifications\"},{\"default\":\"bottom-right\",\"kind\":null,\"name\":\"position\"},{\"default\":0,\"kind\":null,\"name\":\"_clear\"},{\"default\":[{\"background\":\"#ffc107\",\"icon\":{\"className\":\"fas fa-exclamation-triangle\",\"color\":\"white\",\"tagName\":\"i\"},\"type\":\"warning\"},{\"background\":\"#007bff\",\"icon\":{\"className\":\"fas fa-info-circle\",\"color\":\"white\",\"tagName\":\"i\"},\"type\":\"info\"}],\"kind\":null,\"name\":\"types\"}]},{\"extends\":null,\"module\":null,\"name\":\"Notification\",\"overrides\":[],\"properties\":[{\"default\":null,\"kind\":null,\"name\":\"background\"},{\"default\":3000,\"kind\":null,\"name\":\"duration\"},{\"default\":null,\"kind\":null,\"name\":\"icon\"},{\"default\":\"\",\"kind\":null,\"name\":\"message\"},{\"default\":null,\"kind\":null,\"name\":\"notification_type\"},{\"default\":false,\"kind\":null,\"name\":\"_destroyed\"}]},{\"extends\":null,\"module\":null,\"name\":\"TemplateActions1\",\"overrides\":[],\"properties\":[{\"default\":0,\"kind\":null,\"name\":\"open_modal\"},{\"default\":0,\"kind\":null,\"name\":\"close_modal\"}]},{\"extends\":null,\"module\":null,\"name\":\"MaterialTemplateActions1\",\"overrides\":[],\"properties\":[{\"default\":0,\"kind\":null,\"name\":\"open_modal\"},{\"default\":0,\"kind\":null,\"name\":\"close_modal\"}]}],\"roots\":{\"references\":[{\"attributes\":{\"source\":{\"id\":\"1433\"}},\"id\":\"1440\",\"type\":\"CDSView\"},{\"attributes\":{\"line_color\":\"#8b8b8b\",\"line_width\":2,\"x\":{\"field\":\"coin_id\"},\"y\":{\"field\":\"value\"}},\"id\":\"1508\",\"type\":\"Line\"},{\"attributes\":{\"coordinates\":null,\"data_source\":{\"id\":\"1563\"},\"glyph\":{\"id\":\"1566\"},\"group\":null,\"hover_glyph\":null,\"muted_glyph\":{\"id\":\"1568\"},\"nonselection_glyph\":{\"id\":\"1567\"},\"selection_glyph\":{\"id\":\"1594\"},\"view\":{\"id\":\"1570\"}},\"id\":\"1569\",\"type\":\"GlyphRenderer\"},{\"attributes\":{\"coordinates\":null,\"group\":null,\"text_color\":\"black\",\"text_font_size\":\"12pt\"},\"id\":\"1378\",\"type\":\"Title\"},{\"attributes\":{\"source\":{\"id\":\"1412\"}},\"id\":\"1419\",\"type\":\"CDSView\"},{\"attributes\":{\"data\":{\"Variable\":[\"price_change_percentage_30d\",\"price_change_percentage_30d\",\"price_change_percentage_30d\",\"price_change_percentage_30d\",\"price_change_percentage_30d\",\"price_change_percentage_30d\",\"price_change_percentage_30d\",\"price_change_percentage_30d\",\"price_change_percentage_30d\",\"price_change_percentage_30d\",\"price_change_percentage_30d\",\"price_change_percentage_30d\",\"price_change_percentage_30d\",\"price_change_percentage_30d\",\"price_change_percentage_30d\",\"price_change_percentage_30d\",\"price_change_percentage_30d\",\"price_change_percentage_30d\",\"price_change_percentage_30d\",\"price_change_percentage_30d\",\"price_change_percentage_30d\",\"price_change_percentage_30d\",\"price_change_percentage_30d\",\"price_change_percentage_30d\",\"price_change_percentage_30d\",\"price_change_percentage_30d\",\"price_change_percentage_30d\",\"price_change_percentage_30d\",\"price_change_percentage_30d\",\"price_change_percentage_30d\",\"price_change_percentage_30d\",\"price_change_percentage_30d\",\"price_change_percentage_30d\",\"price_change_percentage_30d\",\"price_change_percentage_30d\",\"price_change_percentage_30d\",\"price_change_percentage_30d\",\"price_change_percentage_30d\",\"price_change_percentage_30d\",\"price_change_percentage_30d\",\"price_change_percentage_30d\"],\"coin_id\":[\"bitcoin\",\"ethereum\",\"tether\",\"ripple\",\"bitcoin-cash\",\"binancecoin\",\"chainlink\",\"cardano\",\"litecoin\",\"bitcoin-cash-sv\",\"crypto-com-chain\",\"usd-coin\",\"eos\",\"monero\",\"tron\",\"tezos\",\"okb\",\"stellar\",\"cosmos\",\"cdai\",\"neo\",\"wrapped-bitcoin\",\"leo-token\",\"huobi-token\",\"nem\",\"binance-usd\",\"iota\",\"vechain\",\"zcash\",\"theta-token\",\"dash\",\"ethereum-classic\",\"ethlend\",\"maker\",\"havven\",\"omisego\",\"celsius-degree-token\",\"ontology\",\"ftx-token\",\"true-usd\",\"digibyte\"],\"value\":{\"__ndarray__\":\"VMa/z7iwHkAl6ZrJN9vAP/28qUiFsaW/L26jAbwFzj8dcjPcgH8vQPMf0m9fB64/5bhTOlhvJsBnfjUHCDYkQGWNeohGd/M/sCDNWDQdB0Cmft5UpHIxwJgvL8A+OsW/t0WZDTKJEsDeVKTC2HpDQEzD8BExNSnAjWK5pdVALMDjjcwjf+AkwIrIsIo3QiDAjliLTwFQEkAWpBmLpnMBwE3WqIdo9DXAVG8NbJWAHUAnMQisHJoIQGA8g4b+CQrACcTr+gU7DcCPpQ9dUN+SP80Bgjl6nBDA9S1zuixWLMBC7Eyh83odQEku/yH9bj9AtTf4wmQqH8Am/FI/byoHQNjYJaq3/j3A9GxWfa62MECdRloqb9c0wF4R/G8lOyLArK3YX3aZYUC1/SsrTVpBwP/PYb68ICXAFR3J5T+knz+ndLD+z4EqQA==\",\"dtype\":\"float64\",\"order\":\"little\",\"shape\":[41]}},\"selected\":{\"id\":\"1480\"},\"selection_policy\":{\"id\":\"1500\"}},\"id\":\"1479\",\"type\":\"ColumnDataSource\"},{\"attributes\":{\"source\":{\"id\":\"1563\"}},\"id\":\"1570\",\"type\":\"CDSView\"},{\"attributes\":{\"label\":{\"value\":\"price_change_percentage_7d\"},\"renderers\":[{\"id\":\"1439\"}]},\"id\":\"1453\",\"type\":\"LegendItem\"},{\"attributes\":{\"line_alpha\":0.2,\"line_color\":\"#9467bd\",\"line_width\":2,\"x\":{\"field\":\"coin_id\"},\"y\":{\"field\":\"value\"}},\"id\":\"1568\",\"type\":\"Line\"},{\"attributes\":{},\"id\":\"1474\",\"type\":\"UnionRenderers\"},{\"attributes\":{},\"id\":\"1564\",\"type\":\"Selection\"},{\"attributes\":{},\"id\":\"1411\",\"type\":\"AllLabels\"},{\"attributes\":{\"coordinates\":null,\"data_source\":{\"id\":\"1433\"},\"glyph\":{\"id\":\"1436\"},\"group\":null,\"hover_glyph\":null,\"muted_glyph\":{\"id\":\"1438\"},\"nonselection_glyph\":{\"id\":\"1437\"},\"selection_glyph\":{\"id\":\"1454\"},\"view\":{\"id\":\"1440\"}},\"id\":\"1439\",\"type\":\"GlyphRenderer\"},{\"attributes\":{},\"id\":\"1384\",\"type\":\"LinearScale\"},{\"attributes\":{},\"id\":\"1407\",\"type\":\"CategoricalTickFormatter\"},{\"attributes\":{},\"id\":\"1413\",\"type\":\"Selection\"},{\"attributes\":{},\"id\":\"1387\",\"type\":\"CategoricalTicker\"},{\"attributes\":{\"line_color\":\"#6d904f\",\"line_width\":2,\"x\":{\"field\":\"coin_id\"},\"y\":{\"field\":\"value\"}},\"id\":\"1482\",\"type\":\"Line\"},{\"attributes\":{\"axis\":{\"id\":\"1386\"},\"coordinates\":null,\"grid_line_color\":null,\"group\":null,\"ticker\":null},\"id\":\"1388\",\"type\":\"Grid\"},{\"attributes\":{\"line_alpha\":0.2,\"line_color\":\"#fc4f30\",\"line_width\":2,\"x\":{\"field\":\"coin_id\"},\"y\":{\"field\":\"value\"}},\"id\":\"1438\",\"type\":\"Line\"},{\"attributes\":{},\"id\":\"1394\",\"type\":\"PanTool\"},{\"attributes\":{},\"id\":\"1434\",\"type\":\"Selection\"},{\"attributes\":{\"axis_label\":\"\",\"coordinates\":null,\"formatter\":{\"id\":\"1410\"},\"group\":null,\"major_label_policy\":{\"id\":\"1411\"},\"ticker\":{\"id\":\"1390\"}},\"id\":\"1389\",\"type\":\"LinearAxis\"},{\"attributes\":{\"line_color\":\"#e5ae38\",\"line_width\":2,\"x\":{\"field\":\"coin_id\"},\"y\":{\"field\":\"value\"}},\"id\":\"1478\",\"type\":\"Line\"},{\"attributes\":{\"axis\":{\"id\":\"1389\"},\"coordinates\":null,\"dimension\":1,\"grid_line_color\":null,\"group\":null,\"ticker\":null},\"id\":\"1392\",\"type\":\"Grid\"},{\"attributes\":{\"line_color\":\"#9467bd\",\"line_width\":2,\"x\":{\"field\":\"coin_id\"},\"y\":{\"field\":\"value\"}},\"id\":\"1566\",\"type\":\"Line\"},{\"attributes\":{},\"id\":\"1450\",\"type\":\"UnionRenderers\"},{\"attributes\":{},\"id\":\"1390\",\"type\":\"BasicTicker\"},{\"attributes\":{\"line_color\":\"#30a2da\",\"line_width\":2,\"x\":{\"field\":\"coin_id\"},\"y\":{\"field\":\"value\"}},\"id\":\"1415\",\"type\":\"Line\"},{\"attributes\":{},\"id\":\"1395\",\"type\":\"WheelZoomTool\"},{\"attributes\":{\"label\":{\"value\":\"price_change_percentage_24h\"},\"renderers\":[{\"id\":\"1418\"}]},\"id\":\"1431\",\"type\":\"LegendItem\"},{\"attributes\":{},\"id\":\"1393\",\"type\":\"SaveTool\"},{\"attributes\":{\"line_color\":\"#fc4f30\",\"line_width\":2,\"x\":{\"field\":\"coin_id\"},\"y\":{\"field\":\"value\"}},\"id\":\"1436\",\"type\":\"Line\"},{\"attributes\":{\"overlay\":{\"id\":\"1398\"}},\"id\":\"1396\",\"type\":\"BoxZoomTool\"},{\"attributes\":{},\"id\":\"1397\",\"type\":\"ResetTool\"},{\"attributes\":{},\"id\":\"1427\",\"type\":\"UnionRenderers\"},{\"attributes\":{},\"id\":\"1500\",\"type\":\"UnionRenderers\"},{\"attributes\":{\"line_alpha\":0.1,\"line_color\":\"#30a2da\",\"line_width\":2,\"x\":{\"field\":\"coin_id\"},\"y\":{\"field\":\"value\"}},\"id\":\"1416\",\"type\":\"Line\"},{\"attributes\":{\"line_color\":\"#8b8b8b\",\"line_width\":2,\"x\":{\"field\":\"coin_id\"},\"y\":{\"field\":\"value\"}},\"id\":\"1532\",\"type\":\"Line\"},{\"attributes\":{\"source\":{\"id\":\"1479\"}},\"id\":\"1486\",\"type\":\"CDSView\"},{\"attributes\":{\"label\":{\"value\":\"price_change_percentage_30d\"},\"renderers\":[{\"id\":\"1485\"}]},\"id\":\"1503\",\"type\":\"LegendItem\"},{\"attributes\":{\"coordinates\":null,\"data_source\":{\"id\":\"1479\"},\"glyph\":{\"id\":\"1482\"},\"group\":null,\"hover_glyph\":null,\"muted_glyph\":{\"id\":\"1484\"},\"nonselection_glyph\":{\"id\":\"1483\"},\"selection_glyph\":{\"id\":\"1504\"},\"view\":{\"id\":\"1486\"}},\"id\":\"1485\",\"type\":\"GlyphRenderer\"},{\"attributes\":{\"data\":{\"Variable\":[\"price_change_percentage_200d\",\"price_change_percentage_200d\",\"price_change_percentage_200d\",\"price_change_percentage_200d\",\"price_change_percentage_200d\",\"price_change_percentage_200d\",\"price_change_percentage_200d\",\"price_change_percentage_200d\",\"price_change_percentage_200d\",\"price_change_percentage_200d\",\"price_change_percentage_200d\",\"price_change_percentage_200d\",\"price_change_percentage_200d\",\"price_change_percentage_200d\",\"price_change_percentage_200d\",\"price_change_percentage_200d\",\"price_change_percentage_200d\",\"price_change_percentage_200d\",\"price_change_percentage_200d\",\"price_change_percentage_200d\",\"price_change_percentage_200d\",\"price_change_percentage_200d\",\"price_change_percentage_200d\",\"price_change_percentage_200d\",\"price_change_percentage_200d\",\"price_change_percentage_200d\",\"price_change_percentage_200d\",\"price_change_percentage_200d\",\"price_change_percentage_200d\",\"price_change_percentage_200d\",\"price_change_percentage_200d\",\"price_change_percentage_200d\",\"price_change_percentage_200d\",\"price_change_percentage_200d\",\"price_change_percentage_200d\",\"price_change_percentage_200d\",\"price_change_percentage_200d\",\"price_change_percentage_200d\",\"price_change_percentage_200d\",\"price_change_percentage_200d\",\"price_change_percentage_200d\"],\"coin_id\":[\"bitcoin\",\"ethereum\",\"tether\",\"ripple\",\"bitcoin-cash\",\"binancecoin\",\"chainlink\",\"cardano\",\"litecoin\",\"bitcoin-cash-sv\",\"crypto-com-chain\",\"usd-coin\",\"eos\",\"monero\",\"tron\",\"tezos\",\"okb\",\"stellar\",\"cosmos\",\"cdai\",\"neo\",\"wrapped-bitcoin\",\"leo-token\",\"huobi-token\",\"nem\",\"binance-usd\",\"iota\",\"vechain\",\"zcash\",\"theta-token\",\"dash\",\"ethereum-classic\",\"ethlend\",\"maker\",\"havven\",\"omisego\",\"celsius-degree-token\",\"ontology\",\"ftx-token\",\"true-usd\",\"digibyte\"],\"value\":{\"__ndarray__\":\"xY8xdy3hVED0piIVxlhnQBe86CtIM3a/9zsUBfrEQ0DTn/1IEak1QPTDCOHRc2NAl3MprqozeUAexM4UOohwQIB9dOrKfztAFhiyutWzHUCN7iB2plZsQIQqNXugFcS/ZHWr56QPMkALe9rhrzBlQH+8V61MnGBA5nlwd9a2RUARHm0csfpDQC+Lic3HJ1VAkj8YeO4/Z0AOvjCZKhjZv2vUQzS61GNAtRX7y+75VEC5GW7A52cwQAPso1NXHkVAKa4q+64Fa0A7NgLxun65P+TaUDHOwVdAyM1wAz7bcEAFwHgGDaNeQH3Qs1k1lYtAOUVHcvnvGEANGvonuMgkQCYZOQvbZ6FAGD4ipkSiVED5MeauZXeDQHi0ccQaSoJAC170FcTYmEB1PGagMmJLQC2yne+nvkxAndfYJaq3tr9R9wFIbSl+QA==\",\"dtype\":\"float64\",\"order\":\"little\",\"shape\":[41]}},\"selected\":{\"id\":\"1534\"},\"selection_policy\":{\"id\":\"1558\"}},\"id\":\"1533\",\"type\":\"ColumnDataSource\"},{\"attributes\":{\"line_alpha\":0.1,\"line_color\":\"#9467bd\",\"line_width\":2,\"x\":{\"field\":\"coin_id\"},\"y\":{\"field\":\"value\"}},\"id\":\"1567\",\"type\":\"Line\"},{\"attributes\":{\"label\":{\"value\":\"price_change_percentage_200d\"},\"renderers\":[{\"id\":\"1539\"}]},\"id\":\"1561\",\"type\":\"LegendItem\"},{\"attributes\":{\"line_alpha\":0.1,\"line_color\":\"#6d904f\",\"line_width\":2,\"x\":{\"field\":\"coin_id\"},\"y\":{\"field\":\"value\"}},\"id\":\"1483\",\"type\":\"Line\"},{\"attributes\":{\"line_alpha\":0.2,\"line_color\":\"#6d904f\",\"line_width\":2,\"x\":{\"field\":\"coin_id\"},\"y\":{\"field\":\"value\"}},\"id\":\"1484\",\"type\":\"Line\"},{\"attributes\":{\"data\":{\"Variable\":[\"price_change_percentage_7d\",\"price_change_percentage_7d\",\"price_change_percentage_7d\",\"price_change_percentage_7d\",\"price_change_percentage_7d\",\"price_change_percentage_7d\",\"price_change_percentage_7d\",\"price_change_percentage_7d\",\"price_change_percentage_7d\",\"price_change_percentage_7d\",\"price_change_percentage_7d\",\"price_change_percentage_7d\",\"price_change_percentage_7d\",\"price_change_percentage_7d\",\"price_change_percentage_7d\",\"price_change_percentage_7d\",\"price_change_percentage_7d\",\"price_change_percentage_7d\",\"price_change_percentage_7d\",\"price_change_percentage_7d\",\"price_change_percentage_7d\",\"price_change_percentage_7d\",\"price_change_percentage_7d\",\"price_change_percentage_7d\",\"price_change_percentage_7d\",\"price_change_percentage_7d\",\"price_change_percentage_7d\",\"price_change_percentage_7d\",\"price_change_percentage_7d\",\"price_change_percentage_7d\",\"price_change_percentage_7d\",\"price_change_percentage_7d\",\"price_change_percentage_7d\",\"price_change_percentage_7d\",\"price_change_percentage_7d\",\"price_change_percentage_7d\",\"price_change_percentage_7d\",\"price_change_percentage_7d\",\"price_change_percentage_7d\",\"price_change_percentage_7d\",\"price_change_percentage_7d\"],\"coin_id\":[\"bitcoin\",\"ethereum\",\"tether\",\"ripple\",\"bitcoin-cash\",\"binancecoin\",\"chainlink\",\"cardano\",\"litecoin\",\"bitcoin-cash-sv\",\"crypto-com-chain\",\"usd-coin\",\"eos\",\"monero\",\"tron\",\"tezos\",\"okb\",\"stellar\",\"cosmos\",\"cdai\",\"neo\",\"wrapped-bitcoin\",\"leo-token\",\"huobi-token\",\"nem\",\"binance-usd\",\"iota\",\"vechain\",\"zcash\",\"theta-token\",\"dash\",\"ethereum-classic\",\"ethlend\",\"maker\",\"havven\",\"omisego\",\"celsius-degree-token\",\"ontology\",\"ftx-token\",\"true-usd\",\"digibyte\"],\"value\":{\"__ndarray__\":\"RbsKKT9pHkAzUBn/PsMkQL99HThnRKk/yVnY0w5/47/+JhQi4BgxQBL3WPrQtSlA7yB2ptCxNEA/jBAebfwrQPFL/bypaBpArKjBNAxfCkByv0NRoK8WwPlJtU/HY76/lPsdigL99L+n6Egu/5EvQE1KQbeX9BBA0m9fB87pIUBlU67wLjcSwKbtX1lpkgBAZwqd19gVMEBcIEHxY8ytP3wnZr0YigNAOh4zUBmfHUD3Hi457pT1vzNQGf8+4/k/kQ96Nqs+6781Y9F0djKoP2dEaW/wRRhAgXhdv2A3/L/8GHPXErIkQP8JLlbUYBjAVU0QdR9gFEDRlnMprmoIQGCrBIvD2RBAAiuHFtlOIECbG9MTllgRQKhXyjLEURtAqn06HjNQ4z+UvDrHgGzzvwltOZfiahxAsD2zJEBNxT8yj/zBwHPlPw==\",\"dtype\":\"float64\",\"order\":\"little\",\"shape\":[41]}},\"selected\":{\"id\":\"1434\"},\"selection_policy\":{\"id\":\"1450\"}},\"id\":\"1433\",\"type\":\"ColumnDataSource\"},{\"attributes\":{\"line_color\":\"#9467bd\",\"line_width\":2,\"x\":{\"field\":\"coin_id\"},\"y\":{\"field\":\"value\"}},\"id\":\"1594\",\"type\":\"Line\"},{\"attributes\":{\"children\":[{\"id\":\"1377\"}],\"height\":400,\"margin\":[0,0,0,0],\"name\":\"Row02539\",\"sizing_mode\":\"fixed\",\"tags\":[\"embedded\"],\"width\":800},\"id\":\"1367\",\"type\":\"Row\"},{\"attributes\":{},\"id\":\"1558\",\"type\":\"UnionRenderers\"},{\"attributes\":{\"line_alpha\":0.1,\"line_color\":\"#17becf\",\"line_width\":2,\"x\":{\"field\":\"coin_id\"},\"y\":{\"field\":\"value\"}},\"id\":\"1537\",\"type\":\"Line\"},{\"attributes\":{\"line_alpha\":0.1,\"line_color\":\"#e5ae38\",\"line_width\":2,\"x\":{\"field\":\"coin_id\"},\"y\":{\"field\":\"value\"}},\"id\":\"1459\",\"type\":\"Line\"},{\"attributes\":{\"bottom_units\":\"screen\",\"coordinates\":null,\"fill_alpha\":0.5,\"fill_color\":\"lightgrey\",\"group\":null,\"left_units\":\"screen\",\"level\":\"overlay\",\"line_alpha\":1.0,\"line_color\":\"black\",\"line_dash\":[4,4],\"line_width\":2,\"right_units\":\"screen\",\"syncable\":false,\"top_units\":\"screen\"},\"id\":\"1398\",\"type\":\"BoxAnnotation\"},{\"attributes\":{\"coordinates\":null,\"data_source\":{\"id\":\"1533\"},\"glyph\":{\"id\":\"1536\"},\"group\":null,\"hover_glyph\":null,\"muted_glyph\":{\"id\":\"1538\"},\"nonselection_glyph\":{\"id\":\"1537\"},\"selection_glyph\":{\"id\":\"1562\"},\"view\":{\"id\":\"1540\"}},\"id\":\"1539\",\"type\":\"GlyphRenderer\"},{\"attributes\":{\"source\":{\"id\":\"1533\"}},\"id\":\"1540\",\"type\":\"CDSView\"},{\"attributes\":{\"line_color\":\"#fc4f30\",\"line_width\":2,\"x\":{\"field\":\"coin_id\"},\"y\":{\"field\":\"value\"}},\"id\":\"1454\",\"type\":\"Line\"},{\"attributes\":{\"line_alpha\":0.2,\"line_color\":\"#17becf\",\"line_width\":2,\"x\":{\"field\":\"coin_id\"},\"y\":{\"field\":\"value\"}},\"id\":\"1538\",\"type\":\"Line\"},{\"attributes\":{},\"id\":\"1534\",\"type\":\"Selection\"},{\"attributes\":{\"data\":{\"Variable\":[\"price_change_percentage_14d\",\"price_change_percentage_14d\",\"price_change_percentage_14d\",\"price_change_percentage_14d\",\"price_change_percentage_14d\",\"price_change_percentage_14d\",\"price_change_percentage_14d\",\"price_change_percentage_14d\",\"price_change_percentage_14d\",\"price_change_percentage_14d\",\"price_change_percentage_14d\",\"price_change_percentage_14d\",\"price_change_percentage_14d\",\"price_change_percentage_14d\",\"price_change_percentage_14d\",\"price_change_percentage_14d\",\"price_change_percentage_14d\",\"price_change_percentage_14d\",\"price_change_percentage_14d\",\"price_change_percentage_14d\",\"price_change_percentage_14d\",\"price_change_percentage_14d\",\"price_change_percentage_14d\",\"price_change_percentage_14d\",\"price_change_percentage_14d\",\"price_change_percentage_14d\",\"price_change_percentage_14d\",\"price_change_percentage_14d\",\"price_change_percentage_14d\",\"price_change_percentage_14d\",\"price_change_percentage_14d\",\"price_change_percentage_14d\",\"price_change_percentage_14d\",\"price_change_percentage_14d\",\"price_change_percentage_14d\",\"price_change_percentage_14d\",\"price_change_percentage_14d\",\"price_change_percentage_14d\",\"price_change_percentage_14d\",\"price_change_percentage_14d\",\"price_change_percentage_14d\"],\"coin_id\":[\"bitcoin\",\"ethereum\",\"tether\",\"ripple\",\"bitcoin-cash\",\"binancecoin\",\"chainlink\",\"cardano\",\"litecoin\",\"bitcoin-cash-sv\",\"crypto-com-chain\",\"usd-coin\",\"eos\",\"monero\",\"tron\",\"tezos\",\"okb\",\"stellar\",\"cosmos\",\"cdai\",\"neo\",\"wrapped-bitcoin\",\"leo-token\",\"huobi-token\",\"nem\",\"binance-usd\",\"iota\",\"vechain\",\"zcash\",\"theta-token\",\"dash\",\"ethereum-classic\",\"ethlend\",\"maker\",\"havven\",\"omisego\",\"celsius-degree-token\",\"ontology\",\"ftx-token\",\"true-usd\",\"digibyte\"],\"value\":{\"__ndarray__\":\"zQaZZORMGkB5knTN5DsTQC1DHOviNno/ctwpHaz/AUCLic3HtYEtQJgvL8A+OhtACoDxDBqaIkAOhGQBEzgWQICfceFAKB1AIVnABG7d/b8xsfm4NhQhwGtI3GPpQ3e/pfeNrz0z8j8ao3VUNWkyQBUA4xk0dPY/VIzzN6GQAkCXrfVFQhsUwKpla32RUPG/Qgkzbf8KFkDPg7uzdtvFP8MN+PwwsiPAYFlpUgo6GkB3+GuyRh0cwM2v5gDBHN0/jliLTwEwBUDWrZ6T3jeuP7pOIy2VNw7Am1Wfq60oMsAJM23/yioXQJfK2xFOSxrAQE0tW+uL4D9OucK7XET0v0SLbOf7mSPA/pqsUQ/R978vaYzWUZUqwDtT6LzGbirAvodLjjs9OEByUMJM2x8lwJ30vvG1Z8q/ZCMQr+sXvD+7D0BqE0cdwA==\",\"dtype\":\"float64\",\"order\":\"little\",\"shape\":[41]}},\"selected\":{\"id\":\"1456\"},\"selection_policy\":{\"id\":\"1474\"}},\"id\":\"1455\",\"type\":\"ColumnDataSource\"},{\"attributes\":{\"click_policy\":\"mute\",\"coordinates\":null,\"group\":null,\"items\":[{\"id\":\"1431\"},{\"id\":\"1453\"},{\"id\":\"1477\"},{\"id\":\"1503\"},{\"id\":\"1531\"},{\"id\":\"1561\"},{\"id\":\"1593\"}],\"location\":[0,0],\"title\":\"Variable\"},\"id\":\"1430\",\"type\":\"Legend\"},{\"attributes\":{\"line_color\":\"#17becf\",\"line_width\":2,\"x\":{\"field\":\"coin_id\"},\"y\":{\"field\":\"value\"}},\"id\":\"1536\",\"type\":\"Line\"},{\"attributes\":{\"data\":{\"Variable\":[\"price_change_percentage_24h\",\"price_change_percentage_24h\",\"price_change_percentage_24h\",\"price_change_percentage_24h\",\"price_change_percentage_24h\",\"price_change_percentage_24h\",\"price_change_percentage_24h\",\"price_change_percentage_24h\",\"price_change_percentage_24h\",\"price_change_percentage_24h\",\"price_change_percentage_24h\",\"price_change_percentage_24h\",\"price_change_percentage_24h\",\"price_change_percentage_24h\",\"price_change_percentage_24h\",\"price_change_percentage_24h\",\"price_change_percentage_24h\",\"price_change_percentage_24h\",\"price_change_percentage_24h\",\"price_change_percentage_24h\",\"price_change_percentage_24h\",\"price_change_percentage_24h\",\"price_change_percentage_24h\",\"price_change_percentage_24h\",\"price_change_percentage_24h\",\"price_change_percentage_24h\",\"price_change_percentage_24h\",\"price_change_percentage_24h\",\"price_change_percentage_24h\",\"price_change_percentage_24h\",\"price_change_percentage_24h\",\"price_change_percentage_24h\",\"price_change_percentage_24h\",\"price_change_percentage_24h\",\"price_change_percentage_24h\",\"price_change_percentage_24h\",\"price_change_percentage_24h\",\"price_change_percentage_24h\",\"price_change_percentage_24h\",\"price_change_percentage_24h\",\"price_change_percentage_24h\"],\"coin_id\":[\"bitcoin\",\"ethereum\",\"tether\",\"ripple\",\"bitcoin-cash\",\"binancecoin\",\"chainlink\",\"cardano\",\"litecoin\",\"bitcoin-cash-sv\",\"crypto-com-chain\",\"usd-coin\",\"eos\",\"monero\",\"tron\",\"tezos\",\"okb\",\"stellar\",\"cosmos\",\"cdai\",\"neo\",\"wrapped-bitcoin\",\"leo-token\",\"huobi-token\",\"nem\",\"binance-usd\",\"iota\",\"vechain\",\"zcash\",\"theta-token\",\"dash\",\"ethereum-classic\",\"ethlend\",\"maker\",\"havven\",\"omisego\",\"celsius-degree-token\",\"ontology\",\"ftx-token\",\"true-usd\",\"digibyte\"],\"value\":{\"__ndarray__\":\"nZ0MjpJX8T8MzXUaaanMP5mByvj3Gcu/wCZr1EM02L8ep+hILj8HQL0Yyol21QBAwhcmUwWjzr//CS5W1GBqP7JGPUSjO7C/QKTfvg6c7T8urYbEPZbjPzeJQWDl0Ma/1pC4x9KHwj87NgLxun7bP90HILWJk7M/JjYf14aK5b83iUFg5dAFwG3i5H6HIvC/5nlwd9Zu7r9i83FtqBjLP+iHEcKjjd8/M9yAzw+j8T/fGtgqweLAv+RmuAGfH9q/UdobfGEy678D7KNTVz67v8YzaOif4No/teBFX0Ga9D8G2Eenrnzjvx+duvJZPhLAoMN8eQH28L+cxCCwcmjdv667eapDDivAX5hMFYxK479EUaBP5EkQwAZkr3d/XBNA0JuKVBgbBEDqBDQRNrz1vxo09E9wseo/tI6qJoi6r79qMA3DR8QHQA==\",\"dtype\":\"float64\",\"order\":\"little\",\"shape\":[41]}},\"selected\":{\"id\":\"1413\"},\"selection_policy\":{\"id\":\"1427\"}},\"id\":\"1412\",\"type\":\"ColumnDataSource\"},{\"attributes\":{\"line_alpha\":0.1,\"line_color\":\"#8b8b8b\",\"line_width\":2,\"x\":{\"field\":\"coin_id\"},\"y\":{\"field\":\"value\"}},\"id\":\"1509\",\"type\":\"Line\"},{\"attributes\":{},\"id\":\"1408\",\"type\":\"AllLabels\"},{\"attributes\":{\"data\":{\"Variable\":[\"price_change_percentage_60d\",\"price_change_percentage_60d\",\"price_change_percentage_60d\",\"price_change_percentage_60d\",\"price_change_percentage_60d\",\"price_change_percentage_60d\",\"price_change_percentage_60d\",\"price_change_percentage_60d\",\"price_change_percentage_60d\",\"price_change_percentage_60d\",\"price_change_percentage_60d\",\"price_change_percentage_60d\",\"price_change_percentage_60d\",\"price_change_percentage_60d\",\"price_change_percentage_60d\",\"price_change_percentage_60d\",\"price_change_percentage_60d\",\"price_change_percentage_60d\",\"price_change_percentage_60d\",\"price_change_percentage_60d\",\"price_change_percentage_60d\",\"price_change_percentage_60d\",\"price_change_percentage_60d\",\"price_change_percentage_60d\",\"price_change_percentage_60d\",\"price_change_percentage_60d\",\"price_change_percentage_60d\",\"price_change_percentage_60d\",\"price_change_percentage_60d\",\"price_change_percentage_60d\",\"price_change_percentage_60d\",\"price_change_percentage_60d\",\"price_change_percentage_60d\",\"price_change_percentage_60d\",\"price_change_percentage_60d\",\"price_change_percentage_60d\",\"price_change_percentage_60d\",\"price_change_percentage_60d\",\"price_change_percentage_60d\",\"price_change_percentage_60d\",\"price_change_percentage_60d\"],\"coin_id\":[\"bitcoin\",\"ethereum\",\"tether\",\"ripple\",\"bitcoin-cash\",\"binancecoin\",\"chainlink\",\"cardano\",\"litecoin\",\"bitcoin-cash-sv\",\"crypto-com-chain\",\"usd-coin\",\"eos\",\"monero\",\"tron\",\"tezos\",\"okb\",\"stellar\",\"cosmos\",\"cdai\",\"neo\",\"wrapped-bitcoin\",\"leo-token\",\"huobi-token\",\"nem\",\"binance-usd\",\"iota\",\"vechain\",\"zcash\",\"theta-token\",\"dash\",\"ethereum-classic\",\"ethlend\",\"maker\",\"havven\",\"omisego\",\"celsius-degree-token\",\"ontology\",\"ftx-token\",\"true-usd\",\"digibyte\"],\"value\":{\"__ndarray__\":\"FvvL7skDCsAs1JrmHccpwKjjMQOV8dE/2qz6XG2NMcBzol2FlG8rwIleRrHcKkJAN8MN+PzYRcBi26LMBtk2wCEf9GxWPTHAq5UJv9TfOMBg5dAi23kwwDygbMoV3qU/l631RUIrPsDNzMzMzNxEQJm7lpAPGhZAms5OBkdpRsBKe4MvTKYGwEsfuqC+zT7APL1SliHOHMC4AZ8fRgjlP9L7xteeCStAFqQZi6azDMCvJeSDni0ewDeOWItPQQvAXvQVpBm3VEDaOGItPgW4PwpLPKBsQkHAaw4QzNHPRcAJM23/yoo0wBmQvd79AVRAfa62Yn85OsBVGFsIcug5wLCsNCkFHQFA529CIQKeMsA0uoPYmbZDwPKwUGua0VNA/pqsUQ/ia0Ao8iTpmllAwFuxv+yenBdAmrFoOjsZ0D8s1JrmHRc/wA==\",\"dtype\":\"float64\",\"order\":\"little\",\"shape\":[41]}},\"selected\":{\"id\":\"1506\"},\"selection_policy\":{\"id\":\"1528\"}},\"id\":\"1505\",\"type\":\"ColumnDataSource\"},{\"attributes\":{\"line_color\":\"#6d904f\",\"line_width\":2,\"x\":{\"field\":\"coin_id\"},\"y\":{\"field\":\"value\"}},\"id\":\"1504\",\"type\":\"Line\"},{\"attributes\":{\"label\":{\"value\":\"price_change_percentage_14d\"},\"renderers\":[{\"id\":\"1461\"}]},\"id\":\"1477\",\"type\":\"LegendItem\"},{\"attributes\":{\"callback\":null,\"renderers\":[{\"id\":\"1418\"},{\"id\":\"1439\"},{\"id\":\"1461\"},{\"id\":\"1485\"},{\"id\":\"1511\"},{\"id\":\"1539\"},{\"id\":\"1569\"}],\"tags\":[\"hv_created\"],\"tooltips\":[[\"Variable\",\"@{Variable}\"],[\"coin_id\",\"@{coin_id}\"],[\"value\",\"@{value}\"]]},\"id\":\"1370\",\"type\":\"HoverTool\"},{\"attributes\":{\"coordinates\":null,\"data_source\":{\"id\":\"1455\"},\"glyph\":{\"id\":\"1458\"},\"group\":null,\"hover_glyph\":null,\"muted_glyph\":{\"id\":\"1460\"},\"nonselection_glyph\":{\"id\":\"1459\"},\"selection_glyph\":{\"id\":\"1478\"},\"view\":{\"id\":\"1462\"}},\"id\":\"1461\",\"type\":\"GlyphRenderer\"},{\"attributes\":{\"source\":{\"id\":\"1505\"}},\"id\":\"1512\",\"type\":\"CDSView\"},{\"attributes\":{\"source\":{\"id\":\"1455\"}},\"id\":\"1462\",\"type\":\"CDSView\"},{\"attributes\":{},\"id\":\"1410\",\"type\":\"BasicTickFormatter\"},{\"attributes\":{\"line_alpha\":0.2,\"line_color\":\"#e5ae38\",\"line_width\":2,\"x\":{\"field\":\"coin_id\"},\"y\":{\"field\":\"value\"}},\"id\":\"1460\",\"type\":\"Line\"},{\"attributes\":{},\"id\":\"1528\",\"type\":\"UnionRenderers\"},{\"attributes\":{\"active_drag\":{\"id\":\"1394\"},\"active_scroll\":{\"id\":\"1395\"},\"tools\":[{\"id\":\"1370\"},{\"id\":\"1393\"},{\"id\":\"1394\"},{\"id\":\"1395\"},{\"id\":\"1396\"},{\"id\":\"1397\"}]},\"id\":\"1399\",\"type\":\"Toolbar\"},{\"attributes\":{},\"id\":\"1456\",\"type\":\"Selection\"},{\"attributes\":{},\"id\":\"1382\",\"type\":\"CategoricalScale\"},{\"attributes\":{\"axis_label\":\"coin_id\",\"coordinates\":null,\"formatter\":{\"id\":\"1407\"},\"group\":null,\"major_label_orientation\":1.5707963267948966,\"major_label_policy\":{\"id\":\"1408\"},\"ticker\":{\"id\":\"1387\"}},\"id\":\"1386\",\"type\":\"CategoricalAxis\"},{\"attributes\":{\"line_alpha\":0.2,\"line_color\":\"#30a2da\",\"line_width\":2,\"x\":{\"field\":\"coin_id\"},\"y\":{\"field\":\"value\"}},\"id\":\"1417\",\"type\":\"Line\"},{\"attributes\":{\"below\":[{\"id\":\"1386\"}],\"center\":[{\"id\":\"1388\"},{\"id\":\"1392\"}],\"height\":400,\"left\":[{\"id\":\"1389\"}],\"margin\":[5,5,5,5],\"min_border_bottom\":10,\"min_border_left\":10,\"min_border_right\":10,\"min_border_top\":10,\"renderers\":[{\"id\":\"1418\"},{\"id\":\"1439\"},{\"id\":\"1461\"},{\"id\":\"1485\"},{\"id\":\"1511\"},{\"id\":\"1539\"},{\"id\":\"1569\"}],\"right\":[{\"id\":\"1430\"}],\"sizing_mode\":\"fixed\",\"title\":{\"id\":\"1378\"},\"toolbar\":{\"id\":\"1399\"},\"width\":800,\"x_range\":{\"id\":\"1368\"},\"x_scale\":{\"id\":\"1382\"},\"y_range\":{\"id\":\"1369\"},\"y_scale\":{\"id\":\"1384\"}},\"id\":\"1377\",\"subtype\":\"Figure\",\"type\":\"Plot\"},{\"attributes\":{\"label\":{\"value\":\"price_change_percentage_60d\"},\"renderers\":[{\"id\":\"1511\"}]},\"id\":\"1531\",\"type\":\"LegendItem\"},{\"attributes\":{\"line_color\":\"#e5ae38\",\"line_width\":2,\"x\":{\"field\":\"coin_id\"},\"y\":{\"field\":\"value\"}},\"id\":\"1458\",\"type\":\"Line\"},{\"attributes\":{\"line_color\":\"#17becf\",\"line_width\":2,\"x\":{\"field\":\"coin_id\"},\"y\":{\"field\":\"value\"}},\"id\":\"1562\",\"type\":\"Line\"},{\"attributes\":{\"line_alpha\":0.1,\"line_color\":\"#fc4f30\",\"line_width\":2,\"x\":{\"field\":\"coin_id\"},\"y\":{\"field\":\"value\"}},\"id\":\"1437\",\"type\":\"Line\"},{\"attributes\":{\"factors\":[\"bitcoin\",\"ethereum\",\"tether\",\"ripple\",\"bitcoin-cash\",\"binancecoin\",\"chainlink\",\"cardano\",\"litecoin\",\"bitcoin-cash-sv\",\"crypto-com-chain\",\"usd-coin\",\"eos\",\"monero\",\"tron\",\"tezos\",\"okb\",\"stellar\",\"cosmos\",\"cdai\",\"neo\",\"wrapped-bitcoin\",\"leo-token\",\"huobi-token\",\"nem\",\"binance-usd\",\"iota\",\"vechain\",\"zcash\",\"theta-token\",\"dash\",\"ethereum-classic\",\"ethlend\",\"maker\",\"havven\",\"omisego\",\"celsius-degree-token\",\"ontology\",\"ftx-token\",\"true-usd\",\"digibyte\"],\"tags\":[[[\"coin_id\",\"coin_id\",null]]]},\"id\":\"1368\",\"type\":\"FactorRange\"},{\"attributes\":{\"coordinates\":null,\"data_source\":{\"id\":\"1505\"},\"glyph\":{\"id\":\"1508\"},\"group\":null,\"hover_glyph\":null,\"muted_glyph\":{\"id\":\"1510\"},\"nonselection_glyph\":{\"id\":\"1509\"},\"selection_glyph\":{\"id\":\"1532\"},\"view\":{\"id\":\"1512\"}},\"id\":\"1511\",\"type\":\"GlyphRenderer\"},{\"attributes\":{\"line_color\":\"#30a2da\",\"line_width\":2,\"x\":{\"field\":\"coin_id\"},\"y\":{\"field\":\"value\"}},\"id\":\"1432\",\"type\":\"Line\"},{\"attributes\":{\"end\":8641.780918,\"reset_end\":8641.780918,\"reset_start\":-834.5136980000001,\"start\":-834.5136980000001,\"tags\":[[[\"value\",\"value\",null]]]},\"id\":\"1369\",\"type\":\"Range1d\"},{\"attributes\":{\"data\":{\"Variable\":[\"price_change_percentage_1y\",\"price_change_percentage_1y\",\"price_change_percentage_1y\",\"price_change_percentage_1y\",\"price_change_percentage_1y\",\"price_change_percentage_1y\",\"price_change_percentage_1y\",\"price_change_percentage_1y\",\"price_change_percentage_1y\",\"price_change_percentage_1y\",\"price_change_percentage_1y\",\"price_change_percentage_1y\",\"price_change_percentage_1y\",\"price_change_percentage_1y\",\"price_change_percentage_1y\",\"price_change_percentage_1y\",\"price_change_percentage_1y\",\"price_change_percentage_1y\",\"price_change_percentage_1y\",\"price_change_percentage_1y\",\"price_change_percentage_1y\",\"price_change_percentage_1y\",\"price_change_percentage_1y\",\"price_change_percentage_1y\",\"price_change_percentage_1y\",\"price_change_percentage_1y\",\"price_change_percentage_1y\",\"price_change_percentage_1y\",\"price_change_percentage_1y\",\"price_change_percentage_1y\",\"price_change_percentage_1y\",\"price_change_percentage_1y\",\"price_change_percentage_1y\",\"price_change_percentage_1y\",\"price_change_percentage_1y\",\"price_change_percentage_1y\",\"price_change_percentage_1y\",\"price_change_percentage_1y\",\"price_change_percentage_1y\",\"price_change_percentage_1y\",\"price_change_percentage_1y\"],\"coin_id\":[\"bitcoin\",\"ethereum\",\"tether\",\"ripple\",\"bitcoin-cash\",\"binancecoin\",\"chainlink\",\"cardano\",\"litecoin\",\"bitcoin-cash-sv\",\"crypto-com-chain\",\"usd-coin\",\"eos\",\"monero\",\"tron\",\"tezos\",\"okb\",\"stellar\",\"cosmos\",\"cdai\",\"neo\",\"wrapped-bitcoin\",\"leo-token\",\"huobi-token\",\"nem\",\"binance-usd\",\"iota\",\"vechain\",\"zcash\",\"theta-token\",\"dash\",\"ethereum-classic\",\"ethlend\",\"maker\",\"havven\",\"omisego\",\"celsius-degree-token\",\"ontology\",\"ftx-token\",\"true-usd\",\"digibyte\"],\"value\":{\"__ndarray__\":\"kQpjC0HCQkDWqIdodH1ZQN/42jNLApQ/NXugFRiaMMDN6bKY2PwsQOcdp+hIbFFAaTo7GRxSdEC6LCY2H4NjQPnaM0sCVCnA0NA/wcVuV0CQvd798RBzQL4wmSoYlci/t39lpUmRMcDovMYuUaFhQEPKT6p9nk1A6PaSxmiAYUBdUN8yp75hQMzuycNCnStAw7ZFmQ2cVEAHsTOFzmvSvx/0bFZ9aWBAhhvw+WHEQkAN/RNcrAA1QN8Vwf9WkjhAS7A4nPkWaUAVUn5S7dPBPzUk7rH04Q/AIsMq3shbaUBf0hito7hUQPyMCwcC64VAzsKedvirA8Dwoq8gzTgmQHRGlPYWrL5Ayk+qfTpOJUDfiVkvRjaFQEfJq3MMC3RAnFCIgONmn0CsVib8Uk8pwNttF5rrC2VAyXGndLD+2T/ZfFwbKgxnQA==\",\"dtype\":\"float64\",\"order\":\"little\",\"shape\":[41]}},\"selected\":{\"id\":\"1564\"},\"selection_policy\":{\"id\":\"1590\"}},\"id\":\"1563\",\"type\":\"ColumnDataSource\"},{\"attributes\":{\"line_alpha\":0.2,\"line_color\":\"#8b8b8b\",\"line_width\":2,\"x\":{\"field\":\"coin_id\"},\"y\":{\"field\":\"value\"}},\"id\":\"1510\",\"type\":\"Line\"},{\"attributes\":{},\"id\":\"1506\",\"type\":\"Selection\"},{\"attributes\":{},\"id\":\"1480\",\"type\":\"Selection\"},{\"attributes\":{\"coordinates\":null,\"data_source\":{\"id\":\"1412\"},\"glyph\":{\"id\":\"1415\"},\"group\":null,\"hover_glyph\":null,\"muted_glyph\":{\"id\":\"1417\"},\"nonselection_glyph\":{\"id\":\"1416\"},\"selection_glyph\":{\"id\":\"1432\"},\"view\":{\"id\":\"1419\"}},\"id\":\"1418\",\"type\":\"GlyphRenderer\"},{\"attributes\":{},\"id\":\"1590\",\"type\":\"UnionRenderers\"},{\"attributes\":{\"label\":{\"value\":\"price_change_percentage_1y\"},\"renderers\":[{\"id\":\"1569\"}]},\"id\":\"1593\",\"type\":\"LegendItem\"}],\"root_ids\":[\"1367\"]},\"title\":\"Bokeh Application\",\"version\":\"2.4.3\"}};\n",
              "    var render_items = [{\"docid\":\"75ebaae6-db71-419e-bfda-74f717493919\",\"root_ids\":[\"1367\"],\"roots\":{\"1367\":\"d8854173-0bcc-4397-8278-e0118e73bac6\"}}];\n",
              "    root.Bokeh.embed.embed_items_notebook(docs_json, render_items);\n",
              "    for (const render_item of render_items) {\n",
              "      for (const root_id of render_item.root_ids) {\n",
              "\tconst id_el = document.getElementById(root_id)\n",
              "\tif (id_el.children.length && (id_el.children[0].className === 'bk-root')) {\n",
              "\t  const root_el = id_el.children[0]\n",
              "\t  root_el.id = root_el.id + '-rendered'\n",
              "\t}\n",
              "      }\n",
              "    }\n",
              "  }\n",
              "  if (root.Bokeh !== undefined && root.Bokeh.Panel !== undefined) {\n",
              "    embed_document(root);\n",
              "  } else {\n",
              "    var attempts = 0;\n",
              "    var timer = setInterval(function(root) {\n",
              "      if (root.Bokeh !== undefined && root.Bokeh.Panel !== undefined) {\n",
              "        clearInterval(timer);\n",
              "        embed_document(root);\n",
              "      } else if (document.readyState == \"complete\") {\n",
              "        attempts++;\n",
              "        if (attempts > 200) {\n",
              "          clearInterval(timer);\n",
              "          console.log(\"Bokeh: ERROR: Unable to run BokehJS code because BokehJS library is missing\");\n",
              "        }\n",
              "      }\n",
              "    }, 25, root)\n",
              "  }\n",
              "})(window);</script>"
            ],
            "application/vnd.holoviews_exec.v0+json": "",
            "text/plain": [
              ":NdOverlay   [Variable]\n",
              "   :Curve   [coin_id]   (value)"
            ]
          },
          "metadata": {
            "application/vnd.holoviews_exec.v0+json": {
              "id": "1367"
            }
          },
          "execution_count": 36
        }
      ],
      "source": [
        "# Plot your data to see what's in your DataFrame\n",
        "df_market_data.hvplot.line(\n",
        "    width=800,\n",
        "    height=400,\n",
        "    rot=90\n",
        ")\n",
        "\n",
        "\n"
      ]
    },
    {
      "cell_type": "markdown",
      "metadata": {
        "id": "6QPk593sxKuC"
      },
      "source": [
        "---"
      ]
    },
    {
      "cell_type": "markdown",
      "metadata": {
        "id": "ndAZV6o_xKuJ"
      },
      "source": [
        "### Prepare the Data"
      ]
    },
    {
      "cell_type": "code",
      "execution_count": null,
      "metadata": {
        "id": "wj9hKjMdxKuM"
      },
      "outputs": [],
      "source": [
        "# Use the `StandardScaler()` module from scikit-learn to normalize the data from the CSV file\n",
        "scaled_data = StandardScaler().fit_transform(df_market_data)"
      ]
    },
    {
      "cell_type": "code",
      "execution_count": null,
      "metadata": {
        "colab": {
          "base_uri": "https://localhost:8080/",
          "height": 319
        },
        "id": "08na8FAMxKuP",
        "outputId": "97cbc296-321d-4d94-dd18-43b8876a9345"
      },
      "outputs": [
        {
          "output_type": "execute_result",
          "data": {
            "text/plain": [
              "              price_change_percentage_24h  price_change_percentage_7d  \\\n",
              "coin_id                                                                 \n",
              "bitcoin                          0.508529                    0.493193   \n",
              "ethereum                         0.185446                    0.934445   \n",
              "tether                           0.021774                   -0.706337   \n",
              "ripple                          -0.040764                   -0.810928   \n",
              "bitcoin-cash                     1.193036                    2.000959   \n",
              "\n",
              "              price_change_percentage_14d  price_change_percentage_30d  \\\n",
              "coin_id                                                                  \n",
              "bitcoin                          0.772200                     0.235460   \n",
              "ethereum                         0.558692                    -0.054341   \n",
              "tether                          -0.021680                    -0.061030   \n",
              "ripple                           0.249458                    -0.050388   \n",
              "bitcoin-cash                     1.760610                     0.545842   \n",
              "\n",
              "              price_change_percentage_60d  price_change_percentage_200d  \\\n",
              "coin_id                                                                   \n",
              "bitcoin                         -0.067495                     -0.355953   \n",
              "ethereum                        -0.273483                     -0.115759   \n",
              "tether                           0.008005                     -0.550247   \n",
              "ripple                          -0.373164                     -0.458259   \n",
              "bitcoin-cash                    -0.291203                     -0.499848   \n",
              "\n",
              "              price_change_percentage_1y  \n",
              "coin_id                                   \n",
              "bitcoin                        -0.251637  \n",
              "ethereum                       -0.199352  \n",
              "tether                         -0.282061  \n",
              "ripple                         -0.295546  \n",
              "bitcoin-cash                   -0.270317  "
            ],
            "text/html": [
              "\n",
              "  <div id=\"df-fb6cfcca-5a21-478f-8674-f2cc3987c7fd\">\n",
              "    <div class=\"colab-df-container\">\n",
              "      <div>\n",
              "<style scoped>\n",
              "    .dataframe tbody tr th:only-of-type {\n",
              "        vertical-align: middle;\n",
              "    }\n",
              "\n",
              "    .dataframe tbody tr th {\n",
              "        vertical-align: top;\n",
              "    }\n",
              "\n",
              "    .dataframe thead th {\n",
              "        text-align: right;\n",
              "    }\n",
              "</style>\n",
              "<table border=\"1\" class=\"dataframe\">\n",
              "  <thead>\n",
              "    <tr style=\"text-align: right;\">\n",
              "      <th></th>\n",
              "      <th>price_change_percentage_24h</th>\n",
              "      <th>price_change_percentage_7d</th>\n",
              "      <th>price_change_percentage_14d</th>\n",
              "      <th>price_change_percentage_30d</th>\n",
              "      <th>price_change_percentage_60d</th>\n",
              "      <th>price_change_percentage_200d</th>\n",
              "      <th>price_change_percentage_1y</th>\n",
              "    </tr>\n",
              "    <tr>\n",
              "      <th>coin_id</th>\n",
              "      <th></th>\n",
              "      <th></th>\n",
              "      <th></th>\n",
              "      <th></th>\n",
              "      <th></th>\n",
              "      <th></th>\n",
              "      <th></th>\n",
              "    </tr>\n",
              "  </thead>\n",
              "  <tbody>\n",
              "    <tr>\n",
              "      <th>bitcoin</th>\n",
              "      <td>0.508529</td>\n",
              "      <td>0.493193</td>\n",
              "      <td>0.772200</td>\n",
              "      <td>0.235460</td>\n",
              "      <td>-0.067495</td>\n",
              "      <td>-0.355953</td>\n",
              "      <td>-0.251637</td>\n",
              "    </tr>\n",
              "    <tr>\n",
              "      <th>ethereum</th>\n",
              "      <td>0.185446</td>\n",
              "      <td>0.934445</td>\n",
              "      <td>0.558692</td>\n",
              "      <td>-0.054341</td>\n",
              "      <td>-0.273483</td>\n",
              "      <td>-0.115759</td>\n",
              "      <td>-0.199352</td>\n",
              "    </tr>\n",
              "    <tr>\n",
              "      <th>tether</th>\n",
              "      <td>0.021774</td>\n",
              "      <td>-0.706337</td>\n",
              "      <td>-0.021680</td>\n",
              "      <td>-0.061030</td>\n",
              "      <td>0.008005</td>\n",
              "      <td>-0.550247</td>\n",
              "      <td>-0.282061</td>\n",
              "    </tr>\n",
              "    <tr>\n",
              "      <th>ripple</th>\n",
              "      <td>-0.040764</td>\n",
              "      <td>-0.810928</td>\n",
              "      <td>0.249458</td>\n",
              "      <td>-0.050388</td>\n",
              "      <td>-0.373164</td>\n",
              "      <td>-0.458259</td>\n",
              "      <td>-0.295546</td>\n",
              "    </tr>\n",
              "    <tr>\n",
              "      <th>bitcoin-cash</th>\n",
              "      <td>1.193036</td>\n",
              "      <td>2.000959</td>\n",
              "      <td>1.760610</td>\n",
              "      <td>0.545842</td>\n",
              "      <td>-0.291203</td>\n",
              "      <td>-0.499848</td>\n",
              "      <td>-0.270317</td>\n",
              "    </tr>\n",
              "  </tbody>\n",
              "</table>\n",
              "</div>\n",
              "      <button class=\"colab-df-convert\" onclick=\"convertToInteractive('df-fb6cfcca-5a21-478f-8674-f2cc3987c7fd')\"\n",
              "              title=\"Convert this dataframe to an interactive table.\"\n",
              "              style=\"display:none;\">\n",
              "        \n",
              "  <svg xmlns=\"http://www.w3.org/2000/svg\" height=\"24px\"viewBox=\"0 0 24 24\"\n",
              "       width=\"24px\">\n",
              "    <path d=\"M0 0h24v24H0V0z\" fill=\"none\"/>\n",
              "    <path d=\"M18.56 5.44l.94 2.06.94-2.06 2.06-.94-2.06-.94-.94-2.06-.94 2.06-2.06.94zm-11 1L8.5 8.5l.94-2.06 2.06-.94-2.06-.94L8.5 2.5l-.94 2.06-2.06.94zm10 10l.94 2.06.94-2.06 2.06-.94-2.06-.94-.94-2.06-.94 2.06-2.06.94z\"/><path d=\"M17.41 7.96l-1.37-1.37c-.4-.4-.92-.59-1.43-.59-.52 0-1.04.2-1.43.59L10.3 9.45l-7.72 7.72c-.78.78-.78 2.05 0 2.83L4 21.41c.39.39.9.59 1.41.59.51 0 1.02-.2 1.41-.59l7.78-7.78 2.81-2.81c.8-.78.8-2.07 0-2.86zM5.41 20L4 18.59l7.72-7.72 1.47 1.35L5.41 20z\"/>\n",
              "  </svg>\n",
              "      </button>\n",
              "      \n",
              "  <style>\n",
              "    .colab-df-container {\n",
              "      display:flex;\n",
              "      flex-wrap:wrap;\n",
              "      gap: 12px;\n",
              "    }\n",
              "\n",
              "    .colab-df-convert {\n",
              "      background-color: #E8F0FE;\n",
              "      border: none;\n",
              "      border-radius: 50%;\n",
              "      cursor: pointer;\n",
              "      display: none;\n",
              "      fill: #1967D2;\n",
              "      height: 32px;\n",
              "      padding: 0 0 0 0;\n",
              "      width: 32px;\n",
              "    }\n",
              "\n",
              "    .colab-df-convert:hover {\n",
              "      background-color: #E2EBFA;\n",
              "      box-shadow: 0px 1px 2px rgba(60, 64, 67, 0.3), 0px 1px 3px 1px rgba(60, 64, 67, 0.15);\n",
              "      fill: #174EA6;\n",
              "    }\n",
              "\n",
              "    [theme=dark] .colab-df-convert {\n",
              "      background-color: #3B4455;\n",
              "      fill: #D2E3FC;\n",
              "    }\n",
              "\n",
              "    [theme=dark] .colab-df-convert:hover {\n",
              "      background-color: #434B5C;\n",
              "      box-shadow: 0px 1px 3px 1px rgba(0, 0, 0, 0.15);\n",
              "      filter: drop-shadow(0px 1px 2px rgba(0, 0, 0, 0.3));\n",
              "      fill: #FFFFFF;\n",
              "    }\n",
              "  </style>\n",
              "\n",
              "      <script>\n",
              "        const buttonEl =\n",
              "          document.querySelector('#df-fb6cfcca-5a21-478f-8674-f2cc3987c7fd button.colab-df-convert');\n",
              "        buttonEl.style.display =\n",
              "          google.colab.kernel.accessAllowed ? 'block' : 'none';\n",
              "\n",
              "        async function convertToInteractive(key) {\n",
              "          const element = document.querySelector('#df-fb6cfcca-5a21-478f-8674-f2cc3987c7fd');\n",
              "          const dataTable =\n",
              "            await google.colab.kernel.invokeFunction('convertToInteractive',\n",
              "                                                     [key], {});\n",
              "          if (!dataTable) return;\n",
              "\n",
              "          const docLinkHtml = 'Like what you see? Visit the ' +\n",
              "            '<a target=\"_blank\" href=https://colab.research.google.com/notebooks/data_table.ipynb>data table notebook</a>'\n",
              "            + ' to learn more about interactive tables.';\n",
              "          element.innerHTML = '';\n",
              "          dataTable['output_type'] = 'display_data';\n",
              "          await google.colab.output.renderOutput(dataTable, element);\n",
              "          const docLink = document.createElement('div');\n",
              "          docLink.innerHTML = docLinkHtml;\n",
              "          element.appendChild(docLink);\n",
              "        }\n",
              "      </script>\n",
              "    </div>\n",
              "  </div>\n",
              "  "
            ]
          },
          "metadata": {},
          "execution_count": 38
        }
      ],
      "source": [
        "# Create a DataFrame with the scaled data\n",
        "df_market_data_scaled = pd.DataFrame(\n",
        "    scaled_data,\n",
        "    columns=df_market_data.columns\n",
        ")\n",
        "\n",
        "\n",
        "# Copy the crypto names from the original data\n",
        "df_market_data_scaled[\"coin_id\"] = df_market_data.index\n",
        "\n",
        "# Set the coinid column as index\n",
        "df_market_data_scaled = df_market_data_scaled.set_index(\"coin_id\")\n",
        "\n",
        "# Display sample data\n",
        "df_market_data_scaled.head()"
      ]
    },
    {
      "cell_type": "markdown",
      "metadata": {
        "id": "dVybwqW5xKuS"
      },
      "source": [
        "---"
      ]
    },
    {
      "cell_type": "markdown",
      "metadata": {
        "id": "9GtuLkIaxKuU"
      },
      "source": [
        "### Find the Best Value for k Using the Original Data."
      ]
    },
    {
      "cell_type": "code",
      "execution_count": null,
      "metadata": {
        "id": "MfBpQVTFxKuW"
      },
      "outputs": [],
      "source": [
        "# Create a list with the number of k-values from 1 to 11\n",
        "k = list(range(1, 11))"
      ]
    },
    {
      "cell_type": "code",
      "execution_count": null,
      "metadata": {
        "id": "pWwQXolixKuY"
      },
      "outputs": [],
      "source": [
        "# Create an empty list to store the inertia values\n",
        "inertia = []\n"
      ]
    },
    {
      "cell_type": "code",
      "source": [
        "# Create a for loop to compute the inertia with each possible value of k\n",
        "# Inside the loop:\n",
        "# 1. Create a KMeans model using the loop counter for the n_clusters\n",
        "# 2. Fit the model to the data using `df_market_data_scaled`\n",
        "# 3. Append the model.inertia_ to the inertia list\n",
        "\n",
        "for i in k:\n",
        "    model = KMeans(n_clusters=i, random_state=0)\n",
        "    model.fit(df_market_data_scaled)\n",
        "    inertia.append(model.inertia_)"
      ],
      "metadata": {
        "colab": {
          "base_uri": "https://localhost:8080/"
        },
        "id": "dCGwOXrvH_s0",
        "outputId": "9abf6ae2-42e1-4d43-9764-79d581871bd0"
      },
      "execution_count": null,
      "outputs": [
        {
          "output_type": "stream",
          "name": "stderr",
          "text": [
            "/usr/local/lib/python3.10/dist-packages/sklearn/cluster/_kmeans.py:870: FutureWarning: The default value of `n_init` will change from 10 to 'auto' in 1.4. Set the value of `n_init` explicitly to suppress the warning\n",
            "  warnings.warn(\n",
            "/usr/local/lib/python3.10/dist-packages/sklearn/cluster/_kmeans.py:870: FutureWarning: The default value of `n_init` will change from 10 to 'auto' in 1.4. Set the value of `n_init` explicitly to suppress the warning\n",
            "  warnings.warn(\n",
            "/usr/local/lib/python3.10/dist-packages/sklearn/cluster/_kmeans.py:870: FutureWarning: The default value of `n_init` will change from 10 to 'auto' in 1.4. Set the value of `n_init` explicitly to suppress the warning\n",
            "  warnings.warn(\n",
            "/usr/local/lib/python3.10/dist-packages/sklearn/cluster/_kmeans.py:870: FutureWarning: The default value of `n_init` will change from 10 to 'auto' in 1.4. Set the value of `n_init` explicitly to suppress the warning\n",
            "  warnings.warn(\n",
            "/usr/local/lib/python3.10/dist-packages/sklearn/cluster/_kmeans.py:870: FutureWarning: The default value of `n_init` will change from 10 to 'auto' in 1.4. Set the value of `n_init` explicitly to suppress the warning\n",
            "  warnings.warn(\n",
            "/usr/local/lib/python3.10/dist-packages/sklearn/cluster/_kmeans.py:870: FutureWarning: The default value of `n_init` will change from 10 to 'auto' in 1.4. Set the value of `n_init` explicitly to suppress the warning\n",
            "  warnings.warn(\n",
            "/usr/local/lib/python3.10/dist-packages/sklearn/cluster/_kmeans.py:870: FutureWarning: The default value of `n_init` will change from 10 to 'auto' in 1.4. Set the value of `n_init` explicitly to suppress the warning\n",
            "  warnings.warn(\n",
            "/usr/local/lib/python3.10/dist-packages/sklearn/cluster/_kmeans.py:870: FutureWarning: The default value of `n_init` will change from 10 to 'auto' in 1.4. Set the value of `n_init` explicitly to suppress the warning\n",
            "  warnings.warn(\n",
            "/usr/local/lib/python3.10/dist-packages/sklearn/cluster/_kmeans.py:870: FutureWarning: The default value of `n_init` will change from 10 to 'auto' in 1.4. Set the value of `n_init` explicitly to suppress the warning\n",
            "  warnings.warn(\n",
            "/usr/local/lib/python3.10/dist-packages/sklearn/cluster/_kmeans.py:870: FutureWarning: The default value of `n_init` will change from 10 to 'auto' in 1.4. Set the value of `n_init` explicitly to suppress the warning\n",
            "  warnings.warn(\n"
          ]
        }
      ]
    },
    {
      "cell_type": "code",
      "execution_count": null,
      "metadata": {
        "colab": {
          "base_uri": "https://localhost:8080/",
          "height": 206
        },
        "id": "cThez2OyxKuZ",
        "outputId": "7ebed0d1-4f10-40bb-a0ad-b537068c7198"
      },
      "outputs": [
        {
          "output_type": "execute_result",
          "data": {
            "text/plain": [
              "   k     inertia\n",
              "0  1  287.000000\n",
              "1  2  195.820218\n",
              "2  3  123.190482\n",
              "3  4   79.022435\n",
              "4  5   65.302379"
            ],
            "text/html": [
              "\n",
              "  <div id=\"df-a03e654b-9a71-422f-b164-6ea049001f11\">\n",
              "    <div class=\"colab-df-container\">\n",
              "      <div>\n",
              "<style scoped>\n",
              "    .dataframe tbody tr th:only-of-type {\n",
              "        vertical-align: middle;\n",
              "    }\n",
              "\n",
              "    .dataframe tbody tr th {\n",
              "        vertical-align: top;\n",
              "    }\n",
              "\n",
              "    .dataframe thead th {\n",
              "        text-align: right;\n",
              "    }\n",
              "</style>\n",
              "<table border=\"1\" class=\"dataframe\">\n",
              "  <thead>\n",
              "    <tr style=\"text-align: right;\">\n",
              "      <th></th>\n",
              "      <th>k</th>\n",
              "      <th>inertia</th>\n",
              "    </tr>\n",
              "  </thead>\n",
              "  <tbody>\n",
              "    <tr>\n",
              "      <th>0</th>\n",
              "      <td>1</td>\n",
              "      <td>287.000000</td>\n",
              "    </tr>\n",
              "    <tr>\n",
              "      <th>1</th>\n",
              "      <td>2</td>\n",
              "      <td>195.820218</td>\n",
              "    </tr>\n",
              "    <tr>\n",
              "      <th>2</th>\n",
              "      <td>3</td>\n",
              "      <td>123.190482</td>\n",
              "    </tr>\n",
              "    <tr>\n",
              "      <th>3</th>\n",
              "      <td>4</td>\n",
              "      <td>79.022435</td>\n",
              "    </tr>\n",
              "    <tr>\n",
              "      <th>4</th>\n",
              "      <td>5</td>\n",
              "      <td>65.302379</td>\n",
              "    </tr>\n",
              "  </tbody>\n",
              "</table>\n",
              "</div>\n",
              "      <button class=\"colab-df-convert\" onclick=\"convertToInteractive('df-a03e654b-9a71-422f-b164-6ea049001f11')\"\n",
              "              title=\"Convert this dataframe to an interactive table.\"\n",
              "              style=\"display:none;\">\n",
              "        \n",
              "  <svg xmlns=\"http://www.w3.org/2000/svg\" height=\"24px\"viewBox=\"0 0 24 24\"\n",
              "       width=\"24px\">\n",
              "    <path d=\"M0 0h24v24H0V0z\" fill=\"none\"/>\n",
              "    <path d=\"M18.56 5.44l.94 2.06.94-2.06 2.06-.94-2.06-.94-.94-2.06-.94 2.06-2.06.94zm-11 1L8.5 8.5l.94-2.06 2.06-.94-2.06-.94L8.5 2.5l-.94 2.06-2.06.94zm10 10l.94 2.06.94-2.06 2.06-.94-2.06-.94-.94-2.06-.94 2.06-2.06.94z\"/><path d=\"M17.41 7.96l-1.37-1.37c-.4-.4-.92-.59-1.43-.59-.52 0-1.04.2-1.43.59L10.3 9.45l-7.72 7.72c-.78.78-.78 2.05 0 2.83L4 21.41c.39.39.9.59 1.41.59.51 0 1.02-.2 1.41-.59l7.78-7.78 2.81-2.81c.8-.78.8-2.07 0-2.86zM5.41 20L4 18.59l7.72-7.72 1.47 1.35L5.41 20z\"/>\n",
              "  </svg>\n",
              "      </button>\n",
              "      \n",
              "  <style>\n",
              "    .colab-df-container {\n",
              "      display:flex;\n",
              "      flex-wrap:wrap;\n",
              "      gap: 12px;\n",
              "    }\n",
              "\n",
              "    .colab-df-convert {\n",
              "      background-color: #E8F0FE;\n",
              "      border: none;\n",
              "      border-radius: 50%;\n",
              "      cursor: pointer;\n",
              "      display: none;\n",
              "      fill: #1967D2;\n",
              "      height: 32px;\n",
              "      padding: 0 0 0 0;\n",
              "      width: 32px;\n",
              "    }\n",
              "\n",
              "    .colab-df-convert:hover {\n",
              "      background-color: #E2EBFA;\n",
              "      box-shadow: 0px 1px 2px rgba(60, 64, 67, 0.3), 0px 1px 3px 1px rgba(60, 64, 67, 0.15);\n",
              "      fill: #174EA6;\n",
              "    }\n",
              "\n",
              "    [theme=dark] .colab-df-convert {\n",
              "      background-color: #3B4455;\n",
              "      fill: #D2E3FC;\n",
              "    }\n",
              "\n",
              "    [theme=dark] .colab-df-convert:hover {\n",
              "      background-color: #434B5C;\n",
              "      box-shadow: 0px 1px 3px 1px rgba(0, 0, 0, 0.15);\n",
              "      filter: drop-shadow(0px 1px 2px rgba(0, 0, 0, 0.3));\n",
              "      fill: #FFFFFF;\n",
              "    }\n",
              "  </style>\n",
              "\n",
              "      <script>\n",
              "        const buttonEl =\n",
              "          document.querySelector('#df-a03e654b-9a71-422f-b164-6ea049001f11 button.colab-df-convert');\n",
              "        buttonEl.style.display =\n",
              "          google.colab.kernel.accessAllowed ? 'block' : 'none';\n",
              "\n",
              "        async function convertToInteractive(key) {\n",
              "          const element = document.querySelector('#df-a03e654b-9a71-422f-b164-6ea049001f11');\n",
              "          const dataTable =\n",
              "            await google.colab.kernel.invokeFunction('convertToInteractive',\n",
              "                                                     [key], {});\n",
              "          if (!dataTable) return;\n",
              "\n",
              "          const docLinkHtml = 'Like what you see? Visit the ' +\n",
              "            '<a target=\"_blank\" href=https://colab.research.google.com/notebooks/data_table.ipynb>data table notebook</a>'\n",
              "            + ' to learn more about interactive tables.';\n",
              "          element.innerHTML = '';\n",
              "          dataTable['output_type'] = 'display_data';\n",
              "          await google.colab.output.renderOutput(dataTable, element);\n",
              "          const docLink = document.createElement('div');\n",
              "          docLink.innerHTML = docLinkHtml;\n",
              "          element.appendChild(docLink);\n",
              "        }\n",
              "      </script>\n",
              "    </div>\n",
              "  </div>\n",
              "  "
            ]
          },
          "metadata": {},
          "execution_count": 42
        }
      ],
      "source": [
        "# Create a dictionary with the data to plot the Elbow curve\n",
        "elbow_data = {\n",
        "    \"k\": k,\n",
        "    \"inertia\": inertia\n",
        "}\n",
        "\n",
        "# Create a DataFrame with the data to plot the Elbow curve\n",
        "df_elbow = pd.DataFrame(elbow_data)\n",
        "df_elbow.head()"
      ]
    },
    {
      "cell_type": "code",
      "execution_count": null,
      "metadata": {
        "colab": {
          "base_uri": "https://localhost:8080/",
          "height": 466
        },
        "id": "0MnyDRbpxKua",
        "outputId": "522d8cbe-cd06-4e99-a520-a7c4d146b114"
      },
      "outputs": [
        {
          "output_type": "execute_result",
          "data": {
            "text/plain": [
              "<Axes: xlabel='k'>"
            ]
          },
          "metadata": {},
          "execution_count": 70
        },
        {
          "output_type": "display_data",
          "data": {
            "text/plain": [
              "<Figure size 640x480 with 1 Axes>"
            ],
            "image/png": "[encoded data removed]"
          },
          "metadata": {}
        }
      ],
      "source": [
        "# Plot a line chart with all the inertia values computed with\n",
        "# the different values of k to visually identify the optimal value for k.\n",
        "df_elbow.plot(\"k\",\"inertia\")"
      ]
    },
    {
      "cell_type": "markdown",
      "metadata": {
        "id": "kdPUJTbIxKuc"
      },
      "source": [
        "#### Answer the following question:\n",
        "\n",
        "**Question:** What is the best value for `k`?\n",
        "\n",
        "**Answer:** 4"
      ]
    },
    {
      "cell_type": "markdown",
      "metadata": {
        "id": "JqJiGcWlxKud"
      },
      "source": [
        "---"
      ]
    },
    {
      "cell_type": "markdown",
      "metadata": {
        "id": "WKr-cEgVxKue"
      },
      "source": [
        "### Cluster Cryptocurrencies with K-means Using the Original Data"
      ]
    },
    {
      "cell_type": "code",
      "execution_count": null,
      "metadata": {
        "id": "6V8-RLpjxKuf"
      },
      "outputs": [],
      "source": [
        "# Initialize the K-Means model using the best value for k\n",
        "model = KMeans(n_clusters=4, random_state= 0)"
      ]
    },
    {
      "cell_type": "code",
      "execution_count": null,
      "metadata": {
        "colab": {
          "base_uri": "https://localhost:8080/",
          "height": 129
        },
        "id": "dF-o_q2GxKug",
        "outputId": "5221ea7e-0024-4df5-bedf-43136b6f6036"
      },
      "outputs": [
        {
          "output_type": "stream",
          "name": "stderr",
          "text": [
            "/usr/local/lib/python3.10/dist-packages/sklearn/cluster/_kmeans.py:870: FutureWarning: The default value of `n_init` will change from 10 to 'auto' in 1.4. Set the value of `n_init` explicitly to suppress the warning\n",
            "  warnings.warn(\n"
          ]
        },
        {
          "output_type": "execute_result",
          "data": {
            "text/plain": [
              "KMeans(n_clusters=4, random_state=0)"
            ],
            "text/html": [
              "<style>#sk-container-id-1 {color: black;background-color: white;}#sk-container-id-1 pre{padding: 0;}#sk-container-id-1 div.sk-toggleable {background-color: white;}#sk-container-id-1 label.sk-toggleable__label {cursor: pointer;display: block;width: 100%;margin-bottom: 0;padding: 0.3em;box-sizing: border-box;text-align: center;}#sk-container-id-1 label.sk-toggleable__label-arrow:before {content: \"▸\";float: left;margin-right: 0.25em;color: #696969;}#sk-container-id-1 label.sk-toggleable__label-arrow:hover:before {color: black;}#sk-container-id-1 div.sk-estimator:hover label.sk-toggleable__label-arrow:before {color: black;}#sk-container-id-1 div.sk-toggleable__content {max-height: 0;max-width: 0;overflow: hidden;text-align: left;background-color: #f0f8ff;}#sk-container-id-1 div.sk-toggleable__content pre {margin: 0.2em;color: black;border-radius: 0.25em;background-color: #f0f8ff;}#sk-container-id-1 input.sk-toggleable__control:checked~div.sk-toggleable__content {max-height: 200px;max-width: 100%;overflow: auto;}#sk-container-id-1 input.sk-toggleable__control:checked~label.sk-toggleable__label-arrow:before {content: \"▾\";}#sk-container-id-1 div.sk-estimator input.sk-toggleable__control:checked~label.sk-toggleable__label {background-color: #d4ebff;}#sk-container-id-1 div.sk-label input.sk-toggleable__control:checked~label.sk-toggleable__label {background-color: #d4ebff;}#sk-container-id-1 input.sk-hidden--visually {border: 0;clip: rect(1px 1px 1px 1px);clip: rect(1px, 1px, 1px, 1px);height: 1px;margin: -1px;overflow: hidden;padding: 0;position: absolute;width: 1px;}#sk-container-id-1 div.sk-estimator {font-family: monospace;background-color: #f0f8ff;border: 1px dotted black;border-radius: 0.25em;box-sizing: border-box;margin-bottom: 0.5em;}#sk-container-id-1 div.sk-estimator:hover {background-color: #d4ebff;}#sk-container-id-1 div.sk-parallel-item::after {content: \"\";width: 100%;border-bottom: 1px solid gray;flex-grow: 1;}#sk-container-id-1 div.sk-label:hover label.sk-toggleable__label {background-color: #d4ebff;}#sk-container-id-1 div.sk-serial::before {content: \"\";position: absolute;border-left: 1px solid gray;box-sizing: border-box;top: 0;bottom: 0;left: 50%;z-index: 0;}#sk-container-id-1 div.sk-serial {display: flex;flex-direction: column;align-items: center;background-color: white;padding-right: 0.2em;padding-left: 0.2em;position: relative;}#sk-container-id-1 div.sk-item {position: relative;z-index: 1;}#sk-container-id-1 div.sk-parallel {display: flex;align-items: stretch;justify-content: center;background-color: white;position: relative;}#sk-container-id-1 div.sk-item::before, #sk-container-id-1 div.sk-parallel-item::before {content: \"\";position: absolute;border-left: 1px solid gray;box-sizing: border-box;top: 0;bottom: 0;left: 50%;z-index: -1;}#sk-container-id-1 div.sk-parallel-item {display: flex;flex-direction: column;z-index: 1;position: relative;background-color: white;}#sk-container-id-1 div.sk-parallel-item:first-child::after {align-self: flex-end;width: 50%;}#sk-container-id-1 div.sk-parallel-item:last-child::after {align-self: flex-start;width: 50%;}#sk-container-id-1 div.sk-parallel-item:only-child::after {width: 0;}#sk-container-id-1 div.sk-dashed-wrapped {border: 1px dashed gray;margin: 0 0.4em 0.5em 0.4em;box-sizing: border-box;padding-bottom: 0.4em;background-color: white;}#sk-container-id-1 div.sk-label label {font-family: monospace;font-weight: bold;display: inline-block;line-height: 1.2em;}#sk-container-id-1 div.sk-label-container {text-align: center;}#sk-container-id-1 div.sk-container {/* jupyter's `normalize.less` sets `[hidden] { display: none; }` but bootstrap.min.css set `[hidden] { display: none !important; }` so we also need the `!important` here to be able to override the default hidden behavior on the sphinx rendered scikit-learn.org. See: https://github.com/scikit-learn/scikit-learn/issues/21755 */display: inline-block !important;position: relative;}#sk-container-id-1 div.sk-text-repr-fallback {display: none;}</style><div id=\"sk-container-id-1\" class=\"sk-top-container\"><div class=\"sk-text-repr-fallback\"><pre>KMeans(n_clusters=4, random_state=0)</pre><b>In a Jupyter environment, please rerun this cell to show the HTML representation or trust the notebook. <br />On GitHub, the HTML representation is unable to render, please try loading this page with nbviewer.org.</b></div><div class=\"sk-container\" hidden><div class=\"sk-item\"><div class=\"sk-estimator sk-toggleable\"><input class=\"sk-toggleable__control sk-hidden--visually\" id=\"sk-estimator-id-1\" type=\"checkbox\" checked><label for=\"sk-estimator-id-1\" class=\"sk-toggleable__label sk-toggleable__label-arrow\">KMeans</label><div class=\"sk-toggleable__content\"><pre>KMeans(n_clusters=4, random_state=0)</pre></div></div></div></div></div>"
            ]
          },
          "metadata": {},
          "execution_count": 44
        }
      ],
      "source": [
        "# Fit the K-Means model using the scaled data\n",
        "model.fit(df_market_data_scaled)"
      ]
    },
    {
      "cell_type": "code",
      "execution_count": null,
      "metadata": {
        "colab": {
          "base_uri": "https://localhost:8080/"
        },
        "id": "ugnpzSPkxKuh",
        "outputId": "f22e735f-24f3-43ba-c674-793dec312e8f"
      },
      "outputs": [
        {
          "output_type": "execute_result",
          "data": {
            "text/plain": [
              "array([0, 0, 3, 3, 0, 0, 0, 0, 0, 3, 3, 3, 3, 0, 3, 0, 3, 3, 0, 3, 3, 0,\n",
              "       3, 3, 3, 3, 3, 3, 0, 3, 3, 3, 1, 0, 3, 3, 2, 3, 3, 3, 3],\n",
              "      dtype=int32)"
            ]
          },
          "metadata": {},
          "execution_count": 47
        }
      ],
      "source": [
        "# Predict the clusters to group the cryptocurrencies using the scaled data\n",
        "data_predict = model.predict(df_market_data_scaled)\n",
        "\n",
        "# Print the resulting array of cluster values.\n",
        "data_predict"
      ]
    },
    {
      "cell_type": "code",
      "execution_count": null,
      "metadata": {
        "id": "FHpjeBV6xKui"
      },
      "outputs": [],
      "source": [
        "# Create a copy of the DataFrame\n",
        "df_crypto = df_market_data_scaled.copy()"
      ]
    },
    {
      "cell_type": "code",
      "execution_count": null,
      "metadata": {
        "colab": {
          "base_uri": "https://localhost:8080/",
          "height": 336
        },
        "id": "_vOeXA0fxKuk",
        "outputId": "6054f6f6-d4c3-48a1-9775-991f129987b4"
      },
      "outputs": [
        {
          "output_type": "execute_result",
          "data": {
            "text/plain": [
              "              price_change_percentage_24h  price_change_percentage_7d  \\\n",
              "coin_id                                                                 \n",
              "bitcoin                          0.508529                    0.493193   \n",
              "ethereum                         0.185446                    0.934445   \n",
              "tether                           0.021774                   -0.706337   \n",
              "ripple                          -0.040764                   -0.810928   \n",
              "bitcoin-cash                     1.193036                    2.000959   \n",
              "\n",
              "              price_change_percentage_14d  price_change_percentage_30d  \\\n",
              "coin_id                                                                  \n",
              "bitcoin                          0.772200                     0.235460   \n",
              "ethereum                         0.558692                    -0.054341   \n",
              "tether                          -0.021680                    -0.061030   \n",
              "ripple                           0.249458                    -0.050388   \n",
              "bitcoin-cash                     1.760610                     0.545842   \n",
              "\n",
              "              price_change_percentage_60d  price_change_percentage_200d  \\\n",
              "coin_id                                                                   \n",
              "bitcoin                         -0.067495                     -0.355953   \n",
              "ethereum                        -0.273483                     -0.115759   \n",
              "tether                           0.008005                     -0.550247   \n",
              "ripple                          -0.373164                     -0.458259   \n",
              "bitcoin-cash                    -0.291203                     -0.499848   \n",
              "\n",
              "              price_change_percentage_1y  Predicted Clusters  \n",
              "coin_id                                                       \n",
              "bitcoin                        -0.251637                   0  \n",
              "ethereum                       -0.199352                   0  \n",
              "tether                         -0.282061                   3  \n",
              "ripple                         -0.295546                   3  \n",
              "bitcoin-cash                   -0.270317                   0  "
            ],
            "text/html": [
              "\n",
              "  <div id=\"df-ad38dcea-9035-4a3f-944e-22bb6b4e9d09\">\n",
              "    <div class=\"colab-df-container\">\n",
              "      <div>\n",
              "<style scoped>\n",
              "    .dataframe tbody tr th:only-of-type {\n",
              "        vertical-align: middle;\n",
              "    }\n",
              "\n",
              "    .dataframe tbody tr th {\n",
              "        vertical-align: top;\n",
              "    }\n",
              "\n",
              "    .dataframe thead th {\n",
              "        text-align: right;\n",
              "    }\n",
              "</style>\n",
              "<table border=\"1\" class=\"dataframe\">\n",
              "  <thead>\n",
              "    <tr style=\"text-align: right;\">\n",
              "      <th></th>\n",
              "      <th>price_change_percentage_24h</th>\n",
              "      <th>price_change_percentage_7d</th>\n",
              "      <th>price_change_percentage_14d</th>\n",
              "      <th>price_change_percentage_30d</th>\n",
              "      <th>price_change_percentage_60d</th>\n",
              "      <th>price_change_percentage_200d</th>\n",
              "      <th>price_change_percentage_1y</th>\n",
              "      <th>Predicted Clusters</th>\n",
              "    </tr>\n",
              "    <tr>\n",
              "      <th>coin_id</th>\n",
              "      <th></th>\n",
              "      <th></th>\n",
              "      <th></th>\n",
              "      <th></th>\n",
              "      <th></th>\n",
              "      <th></th>\n",
              "      <th></th>\n",
              "      <th></th>\n",
              "    </tr>\n",
              "  </thead>\n",
              "  <tbody>\n",
              "    <tr>\n",
              "      <th>bitcoin</th>\n",
              "      <td>0.508529</td>\n",
              "      <td>0.493193</td>\n",
              "      <td>0.772200</td>\n",
              "      <td>0.235460</td>\n",
              "      <td>-0.067495</td>\n",
              "      <td>-0.355953</td>\n",
              "      <td>-0.251637</td>\n",
              "      <td>0</td>\n",
              "    </tr>\n",
              "    <tr>\n",
              "      <th>ethereum</th>\n",
              "      <td>0.185446</td>\n",
              "      <td>0.934445</td>\n",
              "      <td>0.558692</td>\n",
              "      <td>-0.054341</td>\n",
              "      <td>-0.273483</td>\n",
              "      <td>-0.115759</td>\n",
              "      <td>-0.199352</td>\n",
              "      <td>0</td>\n",
              "    </tr>\n",
              "    <tr>\n",
              "      <th>tether</th>\n",
              "      <td>0.021774</td>\n",
              "      <td>-0.706337</td>\n",
              "      <td>-0.021680</td>\n",
              "      <td>-0.061030</td>\n",
              "      <td>0.008005</td>\n",
              "      <td>-0.550247</td>\n",
              "      <td>-0.282061</td>\n",
              "      <td>3</td>\n",
              "    </tr>\n",
              "    <tr>\n",
              "      <th>ripple</th>\n",
              "      <td>-0.040764</td>\n",
              "      <td>-0.810928</td>\n",
              "      <td>0.249458</td>\n",
              "      <td>-0.050388</td>\n",
              "      <td>-0.373164</td>\n",
              "      <td>-0.458259</td>\n",
              "      <td>-0.295546</td>\n",
              "      <td>3</td>\n",
              "    </tr>\n",
              "    <tr>\n",
              "      <th>bitcoin-cash</th>\n",
              "      <td>1.193036</td>\n",
              "      <td>2.000959</td>\n",
              "      <td>1.760610</td>\n",
              "      <td>0.545842</td>\n",
              "      <td>-0.291203</td>\n",
              "      <td>-0.499848</td>\n",
              "      <td>-0.270317</td>\n",
              "      <td>0</td>\n",
              "    </tr>\n",
              "  </tbody>\n",
              "</table>\n",
              "</div>\n",
              "      <button class=\"colab-df-convert\" onclick=\"convertToInteractive('df-ad38dcea-9035-4a3f-944e-22bb6b4e9d09')\"\n",
              "              title=\"Convert this dataframe to an interactive table.\"\n",
              "              style=\"display:none;\">\n",
              "        \n",
              "  <svg xmlns=\"http://www.w3.org/2000/svg\" height=\"24px\"viewBox=\"0 0 24 24\"\n",
              "       width=\"24px\">\n",
              "    <path d=\"M0 0h24v24H0V0z\" fill=\"none\"/>\n",
              "    <path d=\"M18.56 5.44l.94 2.06.94-2.06 2.06-.94-2.06-.94-.94-2.06-.94 2.06-2.06.94zm-11 1L8.5 8.5l.94-2.06 2.06-.94-2.06-.94L8.5 2.5l-.94 2.06-2.06.94zm10 10l.94 2.06.94-2.06 2.06-.94-2.06-.94-.94-2.06-.94 2.06-2.06.94z\"/><path d=\"M17.41 7.96l-1.37-1.37c-.4-.4-.92-.59-1.43-.59-.52 0-1.04.2-1.43.59L10.3 9.45l-7.72 7.72c-.78.78-.78 2.05 0 2.83L4 21.41c.39.39.9.59 1.41.59.51 0 1.02-.2 1.41-.59l7.78-7.78 2.81-2.81c.8-.78.8-2.07 0-2.86zM5.41 20L4 18.59l7.72-7.72 1.47 1.35L5.41 20z\"/>\n",
              "  </svg>\n",
              "      </button>\n",
              "      \n",
              "  <style>\n",
              "    .colab-df-container {\n",
              "      display:flex;\n",
              "      flex-wrap:wrap;\n",
              "      gap: 12px;\n",
              "    }\n",
              "\n",
              "    .colab-df-convert {\n",
              "      background-color: #E8F0FE;\n",
              "      border: none;\n",
              "      border-radius: 50%;\n",
              "      cursor: pointer;\n",
              "      display: none;\n",
              "      fill: #1967D2;\n",
              "      height: 32px;\n",
              "      padding: 0 0 0 0;\n",
              "      width: 32px;\n",
              "    }\n",
              "\n",
              "    .colab-df-convert:hover {\n",
              "      background-color: #E2EBFA;\n",
              "      box-shadow: 0px 1px 2px rgba(60, 64, 67, 0.3), 0px 1px 3px 1px rgba(60, 64, 67, 0.15);\n",
              "      fill: #174EA6;\n",
              "    }\n",
              "\n",
              "    [theme=dark] .colab-df-convert {\n",
              "      background-color: #3B4455;\n",
              "      fill: #D2E3FC;\n",
              "    }\n",
              "\n",
              "    [theme=dark] .colab-df-convert:hover {\n",
              "      background-color: #434B5C;\n",
              "      box-shadow: 0px 1px 3px 1px rgba(0, 0, 0, 0.15);\n",
              "      filter: drop-shadow(0px 1px 2px rgba(0, 0, 0, 0.3));\n",
              "      fill: #FFFFFF;\n",
              "    }\n",
              "  </style>\n",
              "\n",
              "      <script>\n",
              "        const buttonEl =\n",
              "          document.querySelector('#df-ad38dcea-9035-4a3f-944e-22bb6b4e9d09 button.colab-df-convert');\n",
              "        buttonEl.style.display =\n",
              "          google.colab.kernel.accessAllowed ? 'block' : 'none';\n",
              "\n",
              "        async function convertToInteractive(key) {\n",
              "          const element = document.querySelector('#df-ad38dcea-9035-4a3f-944e-22bb6b4e9d09');\n",
              "          const dataTable =\n",
              "            await google.colab.kernel.invokeFunction('convertToInteractive',\n",
              "                                                     [key], {});\n",
              "          if (!dataTable) return;\n",
              "\n",
              "          const docLinkHtml = 'Like what you see? Visit the ' +\n",
              "            '<a target=\"_blank\" href=https://colab.research.google.com/notebooks/data_table.ipynb>data table notebook</a>'\n",
              "            + ' to learn more about interactive tables.';\n",
              "          element.innerHTML = '';\n",
              "          dataTable['output_type'] = 'display_data';\n",
              "          await google.colab.output.renderOutput(dataTable, element);\n",
              "          const docLink = document.createElement('div');\n",
              "          docLink.innerHTML = docLinkHtml;\n",
              "          element.appendChild(docLink);\n",
              "        }\n",
              "      </script>\n",
              "    </div>\n",
              "  </div>\n",
              "  "
            ]
          },
          "metadata": {},
          "execution_count": 49
        }
      ],
      "source": [
        "# Add a new column to the DataFrame with the predicted clusters\n",
        "df_crypto[\"Predicted Clusters\"] = data_predict\n",
        "\n",
        "# Display sample data\n",
        "df_crypto.head()"
      ]
    },
    {
      "cell_type": "code",
      "execution_count": null,
      "metadata": {
        "colab": {
          "base_uri": "https://localhost:8080/"
        },
        "id": "JOj3QSOpxKul",
        "outputId": "727c56a5-2394-4468-cc88-a395ec195748"
      },
      "outputs": [
        {
          "output_type": "stream",
          "name": "stdout",
          "text": [
            "Launching server at http://localhost:44821\n"
          ]
        }
      ],
      "source": [
        "# Create a scatter plot using hvPlot by setting\n",
        "# `x=\"price_change_percentage_24h\"` and `y=\"price_change_percentage_7d\"`.\n",
        "# Color the graph points with the labels found using K-Means and\n",
        "# add the crypto name in the `hover_cols` parameter to identify\n",
        "# the cryptocurrency represented by each data point.\n",
        "k4_scatter =df_crypto.hvplot.scatter(\n",
        "    x=\"price_change_percentage_24h\",\n",
        "    y=\"price_change_percentage_7d\",\n",
        "    c=\"Predicted Clusters\",\n",
        "    hover_cols = \"coin_id\",\n",
        "    title=\"Segement Clusters\",\n",
        "    xlabel=\" Price Change Percentage 24 Hours\",\n",
        "    ylabel=\"Price Change Percentage 7 Days\",\n",
        ")\n",
        "\n",
        "hvplot.show(k4_scatter)"
      ]
    },
    {
      "cell_type": "code",
      "source": [
        "df_crypto.plot.scatter(\"price_change_percentage_24h\", \"price_change_percentage_7d\", c=\"Predicted Clusters\", cmap= \"viridis\")"
      ],
      "metadata": {
        "colab": {
          "base_uri": "https://localhost:8080/",
          "height": 472
        },
        "id": "EziRy7LxjSrm",
        "outputId": "c4580c71-c68e-4250-837f-5c4dd8eb4961"
      },
      "execution_count": null,
      "outputs": [
        {
          "output_type": "execute_result",
          "data": {
            "text/plain": [
              "<Axes: xlabel='price_change_percentage_24h', ylabel='price_change_percentage_7d'>"
            ]
          },
          "metadata": {},
          "execution_count": 51
        },
        {
          "output_type": "display_data",
          "data": {
            "text/plain": [
              "<Figure size 640x480 with 2 Axes>"
            ],
            "image/png": "[encoded data removed]"
          },
          "metadata": {}
        }
      ]
    },
    {
      "cell_type": "markdown",
      "metadata": {
        "id": "KzBfsPYCxKun"
      },
      "source": [
        "---"
      ]
    },
    {
      "cell_type": "markdown",
      "metadata": {
        "id": "byZFOFJ2xKuo"
      },
      "source": [
        "### Optimize Clusters with Principal Component Analysis."
      ]
    },
    {
      "cell_type": "code",
      "execution_count": null,
      "metadata": {
        "id": "FB0ttVUPxKup"
      },
      "outputs": [],
      "source": [
        "# Create a PCA model instance and set `n_components=3`.\n",
        "pca = PCA(n_components=3)"
      ]
    },
    {
      "cell_type": "code",
      "execution_count": null,
      "metadata": {
        "colab": {
          "base_uri": "https://localhost:8080/"
        },
        "id": "4g82Z9fOxKup",
        "outputId": "4665c8bf-9815-4355-e84f-2d79c516cea2"
      },
      "outputs": [
        {
          "output_type": "execute_result",
          "data": {
            "text/plain": [
              "array([[-0.60066733,  0.84276006,  0.46159457],\n",
              "       [-0.45826071,  0.45846566,  0.95287678],\n",
              "       [-0.43306981, -0.16812638, -0.64175193],\n",
              "       [-0.47183495, -0.22266008, -0.47905316],\n",
              "       [-1.15779997,  2.04120919,  1.85971527]])"
            ]
          },
          "metadata": {},
          "execution_count": 53
        }
      ],
      "source": [
        "# Use the PCA model with `fit_transform` to reduce to\n",
        "# three principal components.\n",
        "df_market_pca = pca.fit_transform(df_market_data_scaled)\n",
        "# View the first five rows of the DataFrame.\n",
        "df_market_pca[:5]"
      ]
    },
    {
      "cell_type": "code",
      "execution_count": null,
      "metadata": {
        "colab": {
          "base_uri": "https://localhost:8080/"
        },
        "id": "Dd5eiLw6xKuq",
        "outputId": "7d3ad627-37ae-4b22-ec93-c12318edeb87"
      },
      "outputs": [
        {
          "output_type": "execute_result",
          "data": {
            "text/plain": [
              "array([0.3719856 , 0.34700813, 0.17603793])"
            ]
          },
          "metadata": {},
          "execution_count": 54
        }
      ],
      "source": [
        "# Retrieve the explained variance to determine how much information\n",
        "# can be attributed to each principal component.\n",
        "pca.explained_variance_ratio_"
      ]
    },
    {
      "cell_type": "markdown",
      "metadata": {
        "id": "nabdTmQOxKur"
      },
      "source": [
        "#### Answer the following question:\n",
        "\n",
        "**Question:** What is the total explained variance of the three principal components?\n",
        "\n",
        "**Answer:** Roughly 89%"
      ]
    },
    {
      "cell_type": "code",
      "execution_count": null,
      "metadata": {
        "colab": {
          "base_uri": "https://localhost:8080/",
          "height": 394
        },
        "id": "QJ6pdx2GxKus",
        "outputId": "820ac999-f7fb-4466-cb54-eb1c10df1db4"
      },
      "outputs": [
        {
          "output_type": "execute_result",
          "data": {
            "text/plain": [
              "                          PCA1      PCA2      PCA3\n",
              "coin_id                                           \n",
              "nem                   0.608974  0.563532 -1.148742\n",
              "tron                 -0.393352 -0.108192 -0.012756\n",
              "theta-token           2.676868 -0.013954 -1.965207\n",
              "ftx-token            -0.593142  0.021485  0.209911\n",
              "digibyte             -0.297910 -0.191126 -0.909602\n",
              "ontology             -0.632355 -2.108117 -0.652227\n",
              "okb                   0.064075 -1.269825 -1.098829\n",
              "ethereum-classic     -0.579924 -0.356334 -0.114942\n",
              "celsius-degree-token  4.792395  6.767679 -1.986985\n",
              "ethereum             -0.458261  0.458466  0.952877"
            ],
            "text/html": [
              "\n",
              "  <div id=\"df-bf69b625-6711-4f90-a6e6-14ebb3772c00\">\n",
              "    <div class=\"colab-df-container\">\n",
              "      <div>\n",
              "<style scoped>\n",
              "    .dataframe tbody tr th:only-of-type {\n",
              "        vertical-align: middle;\n",
              "    }\n",
              "\n",
              "    .dataframe tbody tr th {\n",
              "        vertical-align: top;\n",
              "    }\n",
              "\n",
              "    .dataframe thead th {\n",
              "        text-align: right;\n",
              "    }\n",
              "</style>\n",
              "<table border=\"1\" class=\"dataframe\">\n",
              "  <thead>\n",
              "    <tr style=\"text-align: right;\">\n",
              "      <th></th>\n",
              "      <th>PCA1</th>\n",
              "      <th>PCA2</th>\n",
              "      <th>PCA3</th>\n",
              "    </tr>\n",
              "    <tr>\n",
              "      <th>coin_id</th>\n",
              "      <th></th>\n",
              "      <th></th>\n",
              "      <th></th>\n",
              "    </tr>\n",
              "  </thead>\n",
              "  <tbody>\n",
              "    <tr>\n",
              "      <th>nem</th>\n",
              "      <td>0.608974</td>\n",
              "      <td>0.563532</td>\n",
              "      <td>-1.148742</td>\n",
              "    </tr>\n",
              "    <tr>\n",
              "      <th>tron</th>\n",
              "      <td>-0.393352</td>\n",
              "      <td>-0.108192</td>\n",
              "      <td>-0.012756</td>\n",
              "    </tr>\n",
              "    <tr>\n",
              "      <th>theta-token</th>\n",
              "      <td>2.676868</td>\n",
              "      <td>-0.013954</td>\n",
              "      <td>-1.965207</td>\n",
              "    </tr>\n",
              "    <tr>\n",
              "      <th>ftx-token</th>\n",
              "      <td>-0.593142</td>\n",
              "      <td>0.021485</td>\n",
              "      <td>0.209911</td>\n",
              "    </tr>\n",
              "    <tr>\n",
              "      <th>digibyte</th>\n",
              "      <td>-0.297910</td>\n",
              "      <td>-0.191126</td>\n",
              "      <td>-0.909602</td>\n",
              "    </tr>\n",
              "    <tr>\n",
              "      <th>ontology</th>\n",
              "      <td>-0.632355</td>\n",
              "      <td>-2.108117</td>\n",
              "      <td>-0.652227</td>\n",
              "    </tr>\n",
              "    <tr>\n",
              "      <th>okb</th>\n",
              "      <td>0.064075</td>\n",
              "      <td>-1.269825</td>\n",
              "      <td>-1.098829</td>\n",
              "    </tr>\n",
              "    <tr>\n",
              "      <th>ethereum-classic</th>\n",
              "      <td>-0.579924</td>\n",
              "      <td>-0.356334</td>\n",
              "      <td>-0.114942</td>\n",
              "    </tr>\n",
              "    <tr>\n",
              "      <th>celsius-degree-token</th>\n",
              "      <td>4.792395</td>\n",
              "      <td>6.767679</td>\n",
              "      <td>-1.986985</td>\n",
              "    </tr>\n",
              "    <tr>\n",
              "      <th>ethereum</th>\n",
              "      <td>-0.458261</td>\n",
              "      <td>0.458466</td>\n",
              "      <td>0.952877</td>\n",
              "    </tr>\n",
              "  </tbody>\n",
              "</table>\n",
              "</div>\n",
              "      <button class=\"colab-df-convert\" onclick=\"convertToInteractive('df-bf69b625-6711-4f90-a6e6-14ebb3772c00')\"\n",
              "              title=\"Convert this dataframe to an interactive table.\"\n",
              "              style=\"display:none;\">\n",
              "        \n",
              "  <svg xmlns=\"http://www.w3.org/2000/svg\" height=\"24px\"viewBox=\"0 0 24 24\"\n",
              "       width=\"24px\">\n",
              "    <path d=\"M0 0h24v24H0V0z\" fill=\"none\"/>\n",
              "    <path d=\"M18.56 5.44l.94 2.06.94-2.06 2.06-.94-2.06-.94-.94-2.06-.94 2.06-2.06.94zm-11 1L8.5 8.5l.94-2.06 2.06-.94-2.06-.94L8.5 2.5l-.94 2.06-2.06.94zm10 10l.94 2.06.94-2.06 2.06-.94-2.06-.94-.94-2.06-.94 2.06-2.06.94z\"/><path d=\"M17.41 7.96l-1.37-1.37c-.4-.4-.92-.59-1.43-.59-.52 0-1.04.2-1.43.59L10.3 9.45l-7.72 7.72c-.78.78-.78 2.05 0 2.83L4 21.41c.39.39.9.59 1.41.59.51 0 1.02-.2 1.41-.59l7.78-7.78 2.81-2.81c.8-.78.8-2.07 0-2.86zM5.41 20L4 18.59l7.72-7.72 1.47 1.35L5.41 20z\"/>\n",
              "  </svg>\n",
              "      </button>\n",
              "      \n",
              "  <style>\n",
              "    .colab-df-container {\n",
              "      display:flex;\n",
              "      flex-wrap:wrap;\n",
              "      gap: 12px;\n",
              "    }\n",
              "\n",
              "    .colab-df-convert {\n",
              "      background-color: #E8F0FE;\n",
              "      border: none;\n",
              "      border-radius: 50%;\n",
              "      cursor: pointer;\n",
              "      display: none;\n",
              "      fill: #1967D2;\n",
              "      height: 32px;\n",
              "      padding: 0 0 0 0;\n",
              "      width: 32px;\n",
              "    }\n",
              "\n",
              "    .colab-df-convert:hover {\n",
              "      background-color: #E2EBFA;\n",
              "      box-shadow: 0px 1px 2px rgba(60, 64, 67, 0.3), 0px 1px 3px 1px rgba(60, 64, 67, 0.15);\n",
              "      fill: #174EA6;\n",
              "    }\n",
              "\n",
              "    [theme=dark] .colab-df-convert {\n",
              "      background-color: #3B4455;\n",
              "      fill: #D2E3FC;\n",
              "    }\n",
              "\n",
              "    [theme=dark] .colab-df-convert:hover {\n",
              "      background-color: #434B5C;\n",
              "      box-shadow: 0px 1px 3px 1px rgba(0, 0, 0, 0.15);\n",
              "      filter: drop-shadow(0px 1px 2px rgba(0, 0, 0, 0.3));\n",
              "      fill: #FFFFFF;\n",
              "    }\n",
              "  </style>\n",
              "\n",
              "      <script>\n",
              "        const buttonEl =\n",
              "          document.querySelector('#df-bf69b625-6711-4f90-a6e6-14ebb3772c00 button.colab-df-convert');\n",
              "        buttonEl.style.display =\n",
              "          google.colab.kernel.accessAllowed ? 'block' : 'none';\n",
              "\n",
              "        async function convertToInteractive(key) {\n",
              "          const element = document.querySelector('#df-bf69b625-6711-4f90-a6e6-14ebb3772c00');\n",
              "          const dataTable =\n",
              "            await google.colab.kernel.invokeFunction('convertToInteractive',\n",
              "                                                     [key], {});\n",
              "          if (!dataTable) return;\n",
              "\n",
              "          const docLinkHtml = 'Like what you see? Visit the ' +\n",
              "            '<a target=\"_blank\" href=https://colab.research.google.com/notebooks/data_table.ipynb>data table notebook</a>'\n",
              "            + ' to learn more about interactive tables.';\n",
              "          element.innerHTML = '';\n",
              "          dataTable['output_type'] = 'display_data';\n",
              "          await google.colab.output.renderOutput(dataTable, element);\n",
              "          const docLink = document.createElement('div');\n",
              "          docLink.innerHTML = docLinkHtml;\n",
              "          element.appendChild(docLink);\n",
              "        }\n",
              "      </script>\n",
              "    </div>\n",
              "  </div>\n",
              "  "
            ]
          },
          "metadata": {},
          "execution_count": 69
        }
      ],
      "source": [
        "# Create a new DataFrame with the PCA data.\n",
        "# Creating a DataFrame with the PCA data\n",
        "df_scaled_market_pca = pd.DataFrame(\n",
        "    df_market_pca,\n",
        "    columns=[\"PCA1\", \"PCA2\",\"PCA3\"])\n",
        "\n",
        "\n",
        "# Copy the crypto names from the original data\n",
        "df_scaled_market_pca[\"coin_id\"] = df_market_data.index\n",
        "\n",
        "# Set the coinid column as index\n",
        "df_scaled_market_pca= df_scaled_market_pca.set_index(\"coin_id\")\n",
        "\n",
        "# Display sample data\n",
        "df_scaled_market_pca.sample(10)"
      ]
    },
    {
      "cell_type": "markdown",
      "metadata": {
        "id": "G7s-oBu3xKut"
      },
      "source": [
        "---"
      ]
    },
    {
      "cell_type": "markdown",
      "metadata": {
        "id": "tunl_fSFxKuu"
      },
      "source": [
        "### Find the Best Value for k Using the PCA Data"
      ]
    },
    {
      "cell_type": "code",
      "execution_count": null,
      "metadata": {
        "id": "N0wqMBs1xKuv"
      },
      "outputs": [],
      "source": [
        "# Create a list with the number of k-values from 1 to 11\n",
        "k_pca = list(range(1, 11))"
      ]
    },
    {
      "cell_type": "code",
      "execution_count": null,
      "metadata": {
        "id": "gR859xdUxKuw"
      },
      "outputs": [],
      "source": [
        "# Create an empty list to store the inertia values\n",
        "inertia_pca = []\n"
      ]
    },
    {
      "cell_type": "code",
      "source": [
        "# Create a for loop to compute the inertia with each possible value of k\n",
        "# Inside the loop:\n",
        "# 1. Create a KMeans model using the loop counter for the n_clusters\n",
        "# 2. Fit the model to the data using `df_market_data_pca`\n",
        "# 3. Append the model.inertia_ to the inertia list\n",
        "\n",
        "for j in k:\n",
        "    pca_model = KMeans(n_clusters=j, random_state=0)\n",
        "    pca_model.fit(df_scaled_market_pca)\n",
        "    inertia_pca.append(pca_model.inertia_)"
      ],
      "metadata": {
        "colab": {
          "base_uri": "https://localhost:8080/"
        },
        "id": "CA9ldxEPJ28U",
        "outputId": "c6a6afe0-369c-4142-e40c-30ff4ed685f2"
      },
      "execution_count": null,
      "outputs": [
        {
          "output_type": "stream",
          "name": "stderr",
          "text": [
            "/usr/local/lib/python3.10/dist-packages/sklearn/cluster/_kmeans.py:870: FutureWarning: The default value of `n_init` will change from 10 to 'auto' in 1.4. Set the value of `n_init` explicitly to suppress the warning\n",
            "  warnings.warn(\n",
            "/usr/local/lib/python3.10/dist-packages/sklearn/cluster/_kmeans.py:870: FutureWarning: The default value of `n_init` will change from 10 to 'auto' in 1.4. Set the value of `n_init` explicitly to suppress the warning\n",
            "  warnings.warn(\n",
            "/usr/local/lib/python3.10/dist-packages/sklearn/cluster/_kmeans.py:870: FutureWarning: The default value of `n_init` will change from 10 to 'auto' in 1.4. Set the value of `n_init` explicitly to suppress the warning\n",
            "  warnings.warn(\n",
            "/usr/local/lib/python3.10/dist-packages/sklearn/cluster/_kmeans.py:870: FutureWarning: The default value of `n_init` will change from 10 to 'auto' in 1.4. Set the value of `n_init` explicitly to suppress the warning\n",
            "  warnings.warn(\n",
            "/usr/local/lib/python3.10/dist-packages/sklearn/cluster/_kmeans.py:870: FutureWarning: The default value of `n_init` will change from 10 to 'auto' in 1.4. Set the value of `n_init` explicitly to suppress the warning\n",
            "  warnings.warn(\n",
            "/usr/local/lib/python3.10/dist-packages/sklearn/cluster/_kmeans.py:870: FutureWarning: The default value of `n_init` will change from 10 to 'auto' in 1.4. Set the value of `n_init` explicitly to suppress the warning\n",
            "  warnings.warn(\n",
            "/usr/local/lib/python3.10/dist-packages/sklearn/cluster/_kmeans.py:870: FutureWarning: The default value of `n_init` will change from 10 to 'auto' in 1.4. Set the value of `n_init` explicitly to suppress the warning\n",
            "  warnings.warn(\n",
            "/usr/local/lib/python3.10/dist-packages/sklearn/cluster/_kmeans.py:870: FutureWarning: The default value of `n_init` will change from 10 to 'auto' in 1.4. Set the value of `n_init` explicitly to suppress the warning\n",
            "  warnings.warn(\n",
            "/usr/local/lib/python3.10/dist-packages/sklearn/cluster/_kmeans.py:870: FutureWarning: The default value of `n_init` will change from 10 to 'auto' in 1.4. Set the value of `n_init` explicitly to suppress the warning\n",
            "  warnings.warn(\n",
            "/usr/local/lib/python3.10/dist-packages/sklearn/cluster/_kmeans.py:870: FutureWarning: The default value of `n_init` will change from 10 to 'auto' in 1.4. Set the value of `n_init` explicitly to suppress the warning\n",
            "  warnings.warn(\n"
          ]
        }
      ]
    },
    {
      "cell_type": "code",
      "execution_count": null,
      "metadata": {
        "colab": {
          "base_uri": "https://localhost:8080/",
          "height": 363
        },
        "id": "2wapzyCKxKux",
        "outputId": "f356dcc3-17db-45ee-b783-3eafa3c84c0b"
      },
      "outputs": [
        {
          "output_type": "execute_result",
          "data": {
            "text/plain": [
              "   k_pca  inertia_pca\n",
              "0      1   256.874086\n",
              "1      2   165.901994\n",
              "2      3    93.774626\n",
              "3      4    49.665497\n",
              "4      5    37.878747\n",
              "5      6    27.618972\n",
              "6      7    21.182776\n",
              "7      8    17.389823\n",
              "8      9    13.593650\n",
              "9     10    10.559358"
            ],
            "text/html": [
              "\n",
              "  <div id=\"df-64309f7a-951d-404b-b0fb-b7c289a1af15\">\n",
              "    <div class=\"colab-df-container\">\n",
              "      <div>\n",
              "<style scoped>\n",
              "    .dataframe tbody tr th:only-of-type {\n",
              "        vertical-align: middle;\n",
              "    }\n",
              "\n",
              "    .dataframe tbody tr th {\n",
              "        vertical-align: top;\n",
              "    }\n",
              "\n",
              "    .dataframe thead th {\n",
              "        text-align: right;\n",
              "    }\n",
              "</style>\n",
              "<table border=\"1\" class=\"dataframe\">\n",
              "  <thead>\n",
              "    <tr style=\"text-align: right;\">\n",
              "      <th></th>\n",
              "      <th>k_pca</th>\n",
              "      <th>inertia_pca</th>\n",
              "    </tr>\n",
              "  </thead>\n",
              "  <tbody>\n",
              "    <tr>\n",
              "      <th>0</th>\n",
              "      <td>1</td>\n",
              "      <td>256.874086</td>\n",
              "    </tr>\n",
              "    <tr>\n",
              "      <th>1</th>\n",
              "      <td>2</td>\n",
              "      <td>165.901994</td>\n",
              "    </tr>\n",
              "    <tr>\n",
              "      <th>2</th>\n",
              "      <td>3</td>\n",
              "      <td>93.774626</td>\n",
              "    </tr>\n",
              "    <tr>\n",
              "      <th>3</th>\n",
              "      <td>4</td>\n",
              "      <td>49.665497</td>\n",
              "    </tr>\n",
              "    <tr>\n",
              "      <th>4</th>\n",
              "      <td>5</td>\n",
              "      <td>37.878747</td>\n",
              "    </tr>\n",
              "    <tr>\n",
              "      <th>5</th>\n",
              "      <td>6</td>\n",
              "      <td>27.618972</td>\n",
              "    </tr>\n",
              "    <tr>\n",
              "      <th>6</th>\n",
              "      <td>7</td>\n",
              "      <td>21.182776</td>\n",
              "    </tr>\n",
              "    <tr>\n",
              "      <th>7</th>\n",
              "      <td>8</td>\n",
              "      <td>17.389823</td>\n",
              "    </tr>\n",
              "    <tr>\n",
              "      <th>8</th>\n",
              "      <td>9</td>\n",
              "      <td>13.593650</td>\n",
              "    </tr>\n",
              "    <tr>\n",
              "      <th>9</th>\n",
              "      <td>10</td>\n",
              "      <td>10.559358</td>\n",
              "    </tr>\n",
              "  </tbody>\n",
              "</table>\n",
              "</div>\n",
              "      <button class=\"colab-df-convert\" onclick=\"convertToInteractive('df-64309f7a-951d-404b-b0fb-b7c289a1af15')\"\n",
              "              title=\"Convert this dataframe to an interactive table.\"\n",
              "              style=\"display:none;\">\n",
              "        \n",
              "  <svg xmlns=\"http://www.w3.org/2000/svg\" height=\"24px\"viewBox=\"0 0 24 24\"\n",
              "       width=\"24px\">\n",
              "    <path d=\"M0 0h24v24H0V0z\" fill=\"none\"/>\n",
              "    <path d=\"M18.56 5.44l.94 2.06.94-2.06 2.06-.94-2.06-.94-.94-2.06-.94 2.06-2.06.94zm-11 1L8.5 8.5l.94-2.06 2.06-.94-2.06-.94L8.5 2.5l-.94 2.06-2.06.94zm10 10l.94 2.06.94-2.06 2.06-.94-2.06-.94-.94-2.06-.94 2.06-2.06.94z\"/><path d=\"M17.41 7.96l-1.37-1.37c-.4-.4-.92-.59-1.43-.59-.52 0-1.04.2-1.43.59L10.3 9.45l-7.72 7.72c-.78.78-.78 2.05 0 2.83L4 21.41c.39.39.9.59 1.41.59.51 0 1.02-.2 1.41-.59l7.78-7.78 2.81-2.81c.8-.78.8-2.07 0-2.86zM5.41 20L4 18.59l7.72-7.72 1.47 1.35L5.41 20z\"/>\n",
              "  </svg>\n",
              "      </button>\n",
              "      \n",
              "  <style>\n",
              "    .colab-df-container {\n",
              "      display:flex;\n",
              "      flex-wrap:wrap;\n",
              "      gap: 12px;\n",
              "    }\n",
              "\n",
              "    .colab-df-convert {\n",
              "      background-color: #E8F0FE;\n",
              "      border: none;\n",
              "      border-radius: 50%;\n",
              "      cursor: pointer;\n",
              "      display: none;\n",
              "      fill: #1967D2;\n",
              "      height: 32px;\n",
              "      padding: 0 0 0 0;\n",
              "      width: 32px;\n",
              "    }\n",
              "\n",
              "    .colab-df-convert:hover {\n",
              "      background-color: #E2EBFA;\n",
              "      box-shadow: 0px 1px 2px rgba(60, 64, 67, 0.3), 0px 1px 3px 1px rgba(60, 64, 67, 0.15);\n",
              "      fill: #174EA6;\n",
              "    }\n",
              "\n",
              "    [theme=dark] .colab-df-convert {\n",
              "      background-color: #3B4455;\n",
              "      fill: #D2E3FC;\n",
              "    }\n",
              "\n",
              "    [theme=dark] .colab-df-convert:hover {\n",
              "      background-color: #434B5C;\n",
              "      box-shadow: 0px 1px 3px 1px rgba(0, 0, 0, 0.15);\n",
              "      filter: drop-shadow(0px 1px 2px rgba(0, 0, 0, 0.3));\n",
              "      fill: #FFFFFF;\n",
              "    }\n",
              "  </style>\n",
              "\n",
              "      <script>\n",
              "        const buttonEl =\n",
              "          document.querySelector('#df-64309f7a-951d-404b-b0fb-b7c289a1af15 button.colab-df-convert');\n",
              "        buttonEl.style.display =\n",
              "          google.colab.kernel.accessAllowed ? 'block' : 'none';\n",
              "\n",
              "        async function convertToInteractive(key) {\n",
              "          const element = document.querySelector('#df-64309f7a-951d-404b-b0fb-b7c289a1af15');\n",
              "          const dataTable =\n",
              "            await google.colab.kernel.invokeFunction('convertToInteractive',\n",
              "                                                     [key], {});\n",
              "          if (!dataTable) return;\n",
              "\n",
              "          const docLinkHtml = 'Like what you see? Visit the ' +\n",
              "            '<a target=\"_blank\" href=https://colab.research.google.com/notebooks/data_table.ipynb>data table notebook</a>'\n",
              "            + ' to learn more about interactive tables.';\n",
              "          element.innerHTML = '';\n",
              "          dataTable['output_type'] = 'display_data';\n",
              "          await google.colab.output.renderOutput(dataTable, element);\n",
              "          const docLink = document.createElement('div');\n",
              "          docLink.innerHTML = docLinkHtml;\n",
              "          element.appendChild(docLink);\n",
              "        }\n",
              "      </script>\n",
              "    </div>\n",
              "  </div>\n",
              "  "
            ]
          },
          "metadata": {},
          "execution_count": 83
        }
      ],
      "source": [
        "# Create a dictionary with the data to plot the Elbow curve\n",
        "elbow_data_pca = {\n",
        "    \"k_pca\": k_pca,\n",
        "    \"inertia_pca\": inertia_pca\n",
        "}\n",
        "\n",
        "# Create a DataFrame with the data to plot the Elbow curve\n",
        "df_elbow_pca = pd.DataFrame(elbow_data_pca)\n",
        "df_elbow_pca"
      ]
    },
    {
      "cell_type": "code",
      "execution_count": null,
      "metadata": {
        "colab": {
          "base_uri": "https://localhost:8080/",
          "height": 467
        },
        "id": "c9TEfxgdxKuy",
        "outputId": "02708ce8-0b20-40d8-bc62-f3ebcb8c0d13"
      },
      "outputs": [
        {
          "output_type": "execute_result",
          "data": {
            "text/plain": [
              "<Axes: xlabel='k_pca'>"
            ]
          },
          "metadata": {},
          "execution_count": 84
        },
        {
          "output_type": "display_data",
          "data": {
            "text/plain": [
              "<Figure size 640x480 with 1 Axes>"
            ],
            "image/png": "[encoded data removed]"
          },
          "metadata": {}
        }
      ],
      "source": [
        "# Plot a line chart with all the inertia values computed with\n",
        "# the different values of k to visually identify the optimal value for k.\n",
        "df_elbow_pca.plot(\"k_pca\", \"inertia_pca\")"
      ]
    },
    {
      "cell_type": "markdown",
      "metadata": {
        "id": "l3iCS4MFxKuz"
      },
      "source": [
        "#### Answer the following questions:\n",
        "\n",
        "* **Question:** What is the best value for `k` when using the PCA data?\n",
        "\n",
        "  * **Answer:** 4\n",
        "\n",
        "\n",
        "* **Question:** Does it differ from the best k value found using the original data?\n",
        "\n",
        "  * **Answer:** No it doesn't"
      ]
    },
    {
      "cell_type": "markdown",
      "metadata": {
        "id": "Xzj4I_CWxKu0"
      },
      "source": [
        "### Cluster Cryptocurrencies with K-means Using the PCA Data"
      ]
    },
    {
      "cell_type": "code",
      "execution_count": null,
      "metadata": {
        "id": "03ad5fSjxKu0"
      },
      "outputs": [],
      "source": [
        "# Initialize the K-Means model using the best value for k\n",
        "k_pca = model = KMeans(n_clusters=4)"
      ]
    },
    {
      "cell_type": "code",
      "execution_count": null,
      "metadata": {
        "colab": {
          "base_uri": "https://localhost:8080/",
          "height": 129
        },
        "id": "EfwB5nSbxKvK",
        "outputId": "63925310-da71-4c49-d75d-c5c467b391f5"
      },
      "outputs": [
        {
          "output_type": "stream",
          "name": "stderr",
          "text": [
            "/usr/local/lib/python3.10/dist-packages/sklearn/cluster/_kmeans.py:870: FutureWarning: The default value of `n_init` will change from 10 to 'auto' in 1.4. Set the value of `n_init` explicitly to suppress the warning\n",
            "  warnings.warn(\n"
          ]
        },
        {
          "output_type": "execute_result",
          "data": {
            "text/plain": [
              "KMeans(n_clusters=4)"
            ],
            "text/html": [
              "<style>#sk-container-id-2 {color: black;background-color: white;}#sk-container-id-2 pre{padding: 0;}#sk-container-id-2 div.sk-toggleable {background-color: white;}#sk-container-id-2 label.sk-toggleable__label {cursor: pointer;display: block;width: 100%;margin-bottom: 0;padding: 0.3em;box-sizing: border-box;text-align: center;}#sk-container-id-2 label.sk-toggleable__label-arrow:before {content: \"▸\";float: left;margin-right: 0.25em;color: #696969;}#sk-container-id-2 label.sk-toggleable__label-arrow:hover:before {color: black;}#sk-container-id-2 div.sk-estimator:hover label.sk-toggleable__label-arrow:before {color: black;}#sk-container-id-2 div.sk-toggleable__content {max-height: 0;max-width: 0;overflow: hidden;text-align: left;background-color: #f0f8ff;}#sk-container-id-2 div.sk-toggleable__content pre {margin: 0.2em;color: black;border-radius: 0.25em;background-color: #f0f8ff;}#sk-container-id-2 input.sk-toggleable__control:checked~div.sk-toggleable__content {max-height: 200px;max-width: 100%;overflow: auto;}#sk-container-id-2 input.sk-toggleable__control:checked~label.sk-toggleable__label-arrow:before {content: \"▾\";}#sk-container-id-2 div.sk-estimator input.sk-toggleable__control:checked~label.sk-toggleable__label {background-color: #d4ebff;}#sk-container-id-2 div.sk-label input.sk-toggleable__control:checked~label.sk-toggleable__label {background-color: #d4ebff;}#sk-container-id-2 input.sk-hidden--visually {border: 0;clip: rect(1px 1px 1px 1px);clip: rect(1px, 1px, 1px, 1px);height: 1px;margin: -1px;overflow: hidden;padding: 0;position: absolute;width: 1px;}#sk-container-id-2 div.sk-estimator {font-family: monospace;background-color: #f0f8ff;border: 1px dotted black;border-radius: 0.25em;box-sizing: border-box;margin-bottom: 0.5em;}#sk-container-id-2 div.sk-estimator:hover {background-color: #d4ebff;}#sk-container-id-2 div.sk-parallel-item::after {content: \"\";width: 100%;border-bottom: 1px solid gray;flex-grow: 1;}#sk-container-id-2 div.sk-label:hover label.sk-toggleable__label {background-color: #d4ebff;}#sk-container-id-2 div.sk-serial::before {content: \"\";position: absolute;border-left: 1px solid gray;box-sizing: border-box;top: 0;bottom: 0;left: 50%;z-index: 0;}#sk-container-id-2 div.sk-serial {display: flex;flex-direction: column;align-items: center;background-color: white;padding-right: 0.2em;padding-left: 0.2em;position: relative;}#sk-container-id-2 div.sk-item {position: relative;z-index: 1;}#sk-container-id-2 div.sk-parallel {display: flex;align-items: stretch;justify-content: center;background-color: white;position: relative;}#sk-container-id-2 div.sk-item::before, #sk-container-id-2 div.sk-parallel-item::before {content: \"\";position: absolute;border-left: 1px solid gray;box-sizing: border-box;top: 0;bottom: 0;left: 50%;z-index: -1;}#sk-container-id-2 div.sk-parallel-item {display: flex;flex-direction: column;z-index: 1;position: relative;background-color: white;}#sk-container-id-2 div.sk-parallel-item:first-child::after {align-self: flex-end;width: 50%;}#sk-container-id-2 div.sk-parallel-item:last-child::after {align-self: flex-start;width: 50%;}#sk-container-id-2 div.sk-parallel-item:only-child::after {width: 0;}#sk-container-id-2 div.sk-dashed-wrapped {border: 1px dashed gray;margin: 0 0.4em 0.5em 0.4em;box-sizing: border-box;padding-bottom: 0.4em;background-color: white;}#sk-container-id-2 div.sk-label label {font-family: monospace;font-weight: bold;display: inline-block;line-height: 1.2em;}#sk-container-id-2 div.sk-label-container {text-align: center;}#sk-container-id-2 div.sk-container {/* jupyter's `normalize.less` sets `[hidden] { display: none; }` but bootstrap.min.css set `[hidden] { display: none !important; }` so we also need the `!important` here to be able to override the default hidden behavior on the sphinx rendered scikit-learn.org. See: https://github.com/scikit-learn/scikit-learn/issues/21755 */display: inline-block !important;position: relative;}#sk-container-id-2 div.sk-text-repr-fallback {display: none;}</style><div id=\"sk-container-id-2\" class=\"sk-top-container\"><div class=\"sk-text-repr-fallback\"><pre>KMeans(n_clusters=4)</pre><b>In a Jupyter environment, please rerun this cell to show the HTML representation or trust the notebook. <br />On GitHub, the HTML representation is unable to render, please try loading this page with nbviewer.org.</b></div><div class=\"sk-container\" hidden><div class=\"sk-item\"><div class=\"sk-estimator sk-toggleable\"><input class=\"sk-toggleable__control sk-hidden--visually\" id=\"sk-estimator-id-2\" type=\"checkbox\" checked><label for=\"sk-estimator-id-2\" class=\"sk-toggleable__label sk-toggleable__label-arrow\">KMeans</label><div class=\"sk-toggleable__content\"><pre>KMeans(n_clusters=4)</pre></div></div></div></div></div>"
            ]
          },
          "metadata": {},
          "execution_count": 86
        }
      ],
      "source": [
        "# Fit the K-Means model using the PCA data\n",
        "k_pca.fit(df_scaled_market_pca)"
      ]
    },
    {
      "cell_type": "code",
      "execution_count": null,
      "metadata": {
        "colab": {
          "base_uri": "https://localhost:8080/"
        },
        "id": "tGzSdilYxKvL",
        "outputId": "daf82eaf-6daf-4289-ef12-d0a2632fa1a6"
      },
      "outputs": [
        {
          "output_type": "execute_result",
          "data": {
            "text/plain": [
              "array([0, 0, 1, 1, 0], dtype=int32)"
            ]
          },
          "metadata": {},
          "execution_count": 87
        }
      ],
      "source": [
        "# Predict the clusters to group the cryptocurrencies using the PCA data\n",
        "data_predict_pca = k_pca.predict(df_scaled_market_pca)\n",
        "\n",
        "# Print the resulting array of cluster values.\n",
        "data_predict_pca[:5]"
      ]
    },
    {
      "cell_type": "code",
      "execution_count": null,
      "metadata": {
        "colab": {
          "base_uri": "https://localhost:8080/",
          "height": 394
        },
        "id": "gasTYz-JxKvN",
        "outputId": "cba8f015-4bde-4b8e-e488-92ce281bc4b7"
      },
      "outputs": [
        {
          "output_type": "execute_result",
          "data": {
            "text/plain": [
              "                      PCA1      PCA2      PCA3  predicted clusters\n",
              "coin_id                                                           \n",
              "theta-token       2.676868 -0.013954 -1.965207                   1\n",
              "crypto-com-chain -0.248198 -1.376252 -1.462026                   1\n",
              "binancecoin      -0.516534  1.388377  0.804071                   0\n",
              "eos              -0.693425 -0.473815 -0.527597                   1\n",
              "okb               0.064075 -1.269825 -1.098829                   1\n",
              "tether           -0.433070 -0.168126 -0.641752                   1\n",
              "leo-token        -0.413296 -0.674115 -1.076628                   1\n",
              "ontology         -0.632355 -2.108117 -0.652227                   1\n",
              "ethlend           8.089018 -3.896891  2.301382                   2\n",
              "huobi-token      -0.407483 -0.212507 -0.351426                   1"
            ],
            "text/html": [
              "\n",
              "  <div id=\"df-d83afa59-bd1a-4876-bb61-fb9f3163952c\">\n",
              "    <div class=\"colab-df-container\">\n",
              "      <div>\n",
              "<style scoped>\n",
              "    .dataframe tbody tr th:only-of-type {\n",
              "        vertical-align: middle;\n",
              "    }\n",
              "\n",
              "    .dataframe tbody tr th {\n",
              "        vertical-align: top;\n",
              "    }\n",
              "\n",
              "    .dataframe thead th {\n",
              "        text-align: right;\n",
              "    }\n",
              "</style>\n",
              "<table border=\"1\" class=\"dataframe\">\n",
              "  <thead>\n",
              "    <tr style=\"text-align: right;\">\n",
              "      <th></th>\n",
              "      <th>PCA1</th>\n",
              "      <th>PCA2</th>\n",
              "      <th>PCA3</th>\n",
              "      <th>predicted clusters</th>\n",
              "    </tr>\n",
              "    <tr>\n",
              "      <th>coin_id</th>\n",
              "      <th></th>\n",
              "      <th></th>\n",
              "      <th></th>\n",
              "      <th></th>\n",
              "    </tr>\n",
              "  </thead>\n",
              "  <tbody>\n",
              "    <tr>\n",
              "      <th>theta-token</th>\n",
              "      <td>2.676868</td>\n",
              "      <td>-0.013954</td>\n",
              "      <td>-1.965207</td>\n",
              "      <td>1</td>\n",
              "    </tr>\n",
              "    <tr>\n",
              "      <th>crypto-com-chain</th>\n",
              "      <td>-0.248198</td>\n",
              "      <td>-1.376252</td>\n",
              "      <td>-1.462026</td>\n",
              "      <td>1</td>\n",
              "    </tr>\n",
              "    <tr>\n",
              "      <th>binancecoin</th>\n",
              "      <td>-0.516534</td>\n",
              "      <td>1.388377</td>\n",
              "      <td>0.804071</td>\n",
              "      <td>0</td>\n",
              "    </tr>\n",
              "    <tr>\n",
              "      <th>eos</th>\n",
              "      <td>-0.693425</td>\n",
              "      <td>-0.473815</td>\n",
              "      <td>-0.527597</td>\n",
              "      <td>1</td>\n",
              "    </tr>\n",
              "    <tr>\n",
              "      <th>okb</th>\n",
              "      <td>0.064075</td>\n",
              "      <td>-1.269825</td>\n",
              "      <td>-1.098829</td>\n",
              "      <td>1</td>\n",
              "    </tr>\n",
              "    <tr>\n",
              "      <th>tether</th>\n",
              "      <td>-0.433070</td>\n",
              "      <td>-0.168126</td>\n",
              "      <td>-0.641752</td>\n",
              "      <td>1</td>\n",
              "    </tr>\n",
              "    <tr>\n",
              "      <th>leo-token</th>\n",
              "      <td>-0.413296</td>\n",
              "      <td>-0.674115</td>\n",
              "      <td>-1.076628</td>\n",
              "      <td>1</td>\n",
              "    </tr>\n",
              "    <tr>\n",
              "      <th>ontology</th>\n",
              "      <td>-0.632355</td>\n",
              "      <td>-2.108117</td>\n",
              "      <td>-0.652227</td>\n",
              "      <td>1</td>\n",
              "    </tr>\n",
              "    <tr>\n",
              "      <th>ethlend</th>\n",
              "      <td>8.089018</td>\n",
              "      <td>-3.896891</td>\n",
              "      <td>2.301382</td>\n",
              "      <td>2</td>\n",
              "    </tr>\n",
              "    <tr>\n",
              "      <th>huobi-token</th>\n",
              "      <td>-0.407483</td>\n",
              "      <td>-0.212507</td>\n",
              "      <td>-0.351426</td>\n",
              "      <td>1</td>\n",
              "    </tr>\n",
              "  </tbody>\n",
              "</table>\n",
              "</div>\n",
              "      <button class=\"colab-df-convert\" onclick=\"convertToInteractive('df-d83afa59-bd1a-4876-bb61-fb9f3163952c')\"\n",
              "              title=\"Convert this dataframe to an interactive table.\"\n",
              "              style=\"display:none;\">\n",
              "        \n",
              "  <svg xmlns=\"http://www.w3.org/2000/svg\" height=\"24px\"viewBox=\"0 0 24 24\"\n",
              "       width=\"24px\">\n",
              "    <path d=\"M0 0h24v24H0V0z\" fill=\"none\"/>\n",
              "    <path d=\"M18.56 5.44l.94 2.06.94-2.06 2.06-.94-2.06-.94-.94-2.06-.94 2.06-2.06.94zm-11 1L8.5 8.5l.94-2.06 2.06-.94-2.06-.94L8.5 2.5l-.94 2.06-2.06.94zm10 10l.94 2.06.94-2.06 2.06-.94-2.06-.94-.94-2.06-.94 2.06-2.06.94z\"/><path d=\"M17.41 7.96l-1.37-1.37c-.4-.4-.92-.59-1.43-.59-.52 0-1.04.2-1.43.59L10.3 9.45l-7.72 7.72c-.78.78-.78 2.05 0 2.83L4 21.41c.39.39.9.59 1.41.59.51 0 1.02-.2 1.41-.59l7.78-7.78 2.81-2.81c.8-.78.8-2.07 0-2.86zM5.41 20L4 18.59l7.72-7.72 1.47 1.35L5.41 20z\"/>\n",
              "  </svg>\n",
              "      </button>\n",
              "      \n",
              "  <style>\n",
              "    .colab-df-container {\n",
              "      display:flex;\n",
              "      flex-wrap:wrap;\n",
              "      gap: 12px;\n",
              "    }\n",
              "\n",
              "    .colab-df-convert {\n",
              "      background-color: #E8F0FE;\n",
              "      border: none;\n",
              "      border-radius: 50%;\n",
              "      cursor: pointer;\n",
              "      display: none;\n",
              "      fill: #1967D2;\n",
              "      height: 32px;\n",
              "      padding: 0 0 0 0;\n",
              "      width: 32px;\n",
              "    }\n",
              "\n",
              "    .colab-df-convert:hover {\n",
              "      background-color: #E2EBFA;\n",
              "      box-shadow: 0px 1px 2px rgba(60, 64, 67, 0.3), 0px 1px 3px 1px rgba(60, 64, 67, 0.15);\n",
              "      fill: #174EA6;\n",
              "    }\n",
              "\n",
              "    [theme=dark] .colab-df-convert {\n",
              "      background-color: #3B4455;\n",
              "      fill: #D2E3FC;\n",
              "    }\n",
              "\n",
              "    [theme=dark] .colab-df-convert:hover {\n",
              "      background-color: #434B5C;\n",
              "      box-shadow: 0px 1px 3px 1px rgba(0, 0, 0, 0.15);\n",
              "      filter: drop-shadow(0px 1px 2px rgba(0, 0, 0, 0.3));\n",
              "      fill: #FFFFFF;\n",
              "    }\n",
              "  </style>\n",
              "\n",
              "      <script>\n",
              "        const buttonEl =\n",
              "          document.querySelector('#df-d83afa59-bd1a-4876-bb61-fb9f3163952c button.colab-df-convert');\n",
              "        buttonEl.style.display =\n",
              "          google.colab.kernel.accessAllowed ? 'block' : 'none';\n",
              "\n",
              "        async function convertToInteractive(key) {\n",
              "          const element = document.querySelector('#df-d83afa59-bd1a-4876-bb61-fb9f3163952c');\n",
              "          const dataTable =\n",
              "            await google.colab.kernel.invokeFunction('convertToInteractive',\n",
              "                                                     [key], {});\n",
              "          if (!dataTable) return;\n",
              "\n",
              "          const docLinkHtml = 'Like what you see? Visit the ' +\n",
              "            '<a target=\"_blank\" href=https://colab.research.google.com/notebooks/data_table.ipynb>data table notebook</a>'\n",
              "            + ' to learn more about interactive tables.';\n",
              "          element.innerHTML = '';\n",
              "          dataTable['output_type'] = 'display_data';\n",
              "          await google.colab.output.renderOutput(dataTable, element);\n",
              "          const docLink = document.createElement('div');\n",
              "          docLink.innerHTML = docLinkHtml;\n",
              "          element.appendChild(docLink);\n",
              "        }\n",
              "      </script>\n",
              "    </div>\n",
              "  </div>\n",
              "  "
            ]
          },
          "metadata": {},
          "execution_count": 89
        }
      ],
      "source": [
        "# Create a copy of the DataFrame with the PCA data\n",
        "df_pca_crypto = df_scaled_market_pca.copy()\n",
        "\n",
        "# Add a new column to the DataFrame with the predicted clusters\n",
        "df_pca_crypto[\"predicted clusters\"]=data_predict_pca\n",
        "\n",
        "# Display sample data\n",
        "df_pca_crypto.sample(10)"
      ]
    },
    {
      "cell_type": "code",
      "execution_count": null,
      "metadata": {
        "colab": {
          "base_uri": "https://localhost:8080/"
        },
        "id": "gz_LxzU-xKvO",
        "outputId": "ab84d970-fbbb-4475-ffda-2a995a613a6d"
      },
      "outputs": [
        {
          "output_type": "stream",
          "name": "stdout",
          "text": [
            "Launching server at http://localhost:46083\n"
          ]
        }
      ],
      "source": [
        "# Create a scatter plot using hvPlot by setting\n",
        "# `x=\"PC1\"` and `y=\"PC2\"`.\n",
        "# Color the graph points with the labels found using K-Means and\n",
        "# add the crypto name in the `hover_cols` parameter to identify\n",
        "# the cryptocurrency represented by each data point.\n",
        "crypto_scatter = df_pca_crypto.hvplot.scatter(\n",
        "    x=\"PCA1\",\n",
        "    y=\"PCA2\",\n",
        "    c=\"predicted clusters\",\n",
        "    cmap = \"viridis\",\n",
        "    hover_cols = \"coin_id\",\n",
        "    title=\"Segement Clusters\",\n",
        "    xlabel=\" PCA1\",\n",
        "    ylabel=\"PCA2\",\n",
        ")\n",
        "hvplot.show(crypto_scatter)"
      ]
    },
    {
      "cell_type": "code",
      "source": [
        "df_pca_crypto.plot.scatter('PCA1','PCA2', c = 'predicted clusters', cmap = 'viridis')"
      ],
      "metadata": {
        "colab": {
          "base_uri": "https://localhost:8080/",
          "height": 472
        },
        "id": "-6R4EVIMzl2q",
        "outputId": "b02462c5-73ce-4d33-a87b-b9ca95be6d6b"
      },
      "execution_count": null,
      "outputs": [
        {
          "output_type": "execute_result",
          "data": {
            "text/plain": [
              "<Axes: xlabel='PCA1', ylabel='PCA2'>"
            ]
          },
          "metadata": {},
          "execution_count": 98
        },
        {
          "output_type": "display_data",
          "data": {
            "text/plain": [
              "<Figure size 640x480 with 2 Axes>"
            ],
            "image/png": "[encoded data removed]"
          },
          "metadata": {}
        }
      ]
    },
    {
      "cell_type": "markdown",
      "metadata": {
        "id": "_YHbEO_exKvP"
      },
      "source": [
        "### Visualize and Compare the Results\n",
        "\n",
        "In this section, you will visually analyze the cluster analysis results by contrasting the outcome with and without using the optimization techniques."
      ]
    },
    {
      "cell_type": "code",
      "execution_count": null,
      "metadata": {
        "colab": {
          "base_uri": "https://localhost:8080/",
          "height": 17
        },
        "id": "1PYn85HqxKvQ",
        "outputId": "aee82ed1-cc58-4794-be9a-05552c6f3748"
      },
      "outputs": [
        {
          "output_type": "display_data",
          "data": {},
          "metadata": {}
        },
        {
          "output_type": "execute_result",
          "data": {
            "text/html": [
              "<div id='2428'>\n",
              "  <div class=\"bk-root\" id=\"88611e8d-d235-4d23-9d5e-240b87486238\" data-root-id=\"2428\"></div>\n",
              "</div>\n",
              "<script type=\"application/javascript\">(function(root) {\n",
              "  function embed_document(root) {\n",
              "    var docs_json = {\"e19c125d-a32d-4ff5-bb63-c068cc8fad80\":{\"defs\":[{\"extends\":null,\"module\":null,\"name\":\"ReactiveHTML1\",\"overrides\":[],\"properties\":[]},{\"extends\":null,\"module\":null,\"name\":\"FlexBox1\",\"overrides\":[],\"properties\":[{\"default\":\"flex-start\",\"kind\":null,\"name\":\"align_content\"},{\"default\":\"flex-start\",\"kind\":null,\"name\":\"align_items\"},{\"default\":\"row\",\"kind\":null,\"name\":\"flex_direction\"},{\"default\":\"wrap\",\"kind\":null,\"name\":\"flex_wrap\"},{\"default\":\"flex-start\",\"kind\":null,\"name\":\"justify_content\"}]},{\"extends\":null,\"module\":null,\"name\":\"GridStack1\",\"overrides\":[],\"properties\":[{\"default\":\"warn\",\"kind\":null,\"name\":\"mode\"},{\"default\":null,\"kind\":null,\"name\":\"ncols\"},{\"default\":null,\"kind\":null,\"name\":\"nrows\"},{\"default\":true,\"kind\":null,\"name\":\"allow_resize\"},{\"default\":true,\"kind\":null,\"name\":\"allow_drag\"},{\"default\":[],\"kind\":null,\"name\":\"state\"}]},{\"extends\":null,\"module\":null,\"name\":\"click1\",\"overrides\":[],\"properties\":[{\"default\":\"\",\"kind\":null,\"name\":\"terminal_output\"},{\"default\":\"\",\"kind\":null,\"name\":\"debug_name\"},{\"default\":0,\"kind\":null,\"name\":\"clears\"}]},{\"extends\":null,\"module\":null,\"name\":\"NotificationAreaBase1\",\"overrides\":[],\"properties\":[{\"default\":\"bottom-right\",\"kind\":null,\"name\":\"position\"},{\"default\":0,\"kind\":null,\"name\":\"_clear\"}]},{\"extends\":null,\"module\":null,\"name\":\"NotificationArea1\",\"overrides\":[],\"properties\":[{\"default\":[],\"kind\":null,\"name\":\"notifications\"},{\"default\":\"bottom-right\",\"kind\":null,\"name\":\"position\"},{\"default\":0,\"kind\":null,\"name\":\"_clear\"},{\"default\":[{\"background\":\"#ffc107\",\"icon\":{\"className\":\"fas fa-exclamation-triangle\",\"color\":\"white\",\"tagName\":\"i\"},\"type\":\"warning\"},{\"background\":\"#007bff\",\"icon\":{\"className\":\"fas fa-info-circle\",\"color\":\"white\",\"tagName\":\"i\"},\"type\":\"info\"}],\"kind\":null,\"name\":\"types\"}]},{\"extends\":null,\"module\":null,\"name\":\"Notification\",\"overrides\":[],\"properties\":[{\"default\":null,\"kind\":null,\"name\":\"background\"},{\"default\":3000,\"kind\":null,\"name\":\"duration\"},{\"default\":null,\"kind\":null,\"name\":\"icon\"},{\"default\":\"\",\"kind\":null,\"name\":\"message\"},{\"default\":null,\"kind\":null,\"name\":\"notification_type\"},{\"default\":false,\"kind\":null,\"name\":\"_destroyed\"}]},{\"extends\":null,\"module\":null,\"name\":\"TemplateActions1\",\"overrides\":[],\"properties\":[{\"default\":0,\"kind\":null,\"name\":\"open_modal\"},{\"default\":0,\"kind\":null,\"name\":\"close_modal\"}]},{\"extends\":null,\"module\":null,\"name\":\"MaterialTemplateActions1\",\"overrides\":[],\"properties\":[{\"default\":0,\"kind\":null,\"name\":\"open_modal\"},{\"default\":0,\"kind\":null,\"name\":\"close_modal\"}]}],\"roots\":{\"references\":[{\"attributes\":{\"axis\":{\"id\":\"2445\"},\"coordinates\":null,\"dimension\":1,\"grid_line_color\":null,\"group\":null,\"ticker\":null},\"id\":\"2448\",\"type\":\"Grid\"},{\"attributes\":{\"below\":[{\"id\":\"2441\"}],\"center\":[{\"id\":\"2444\"},{\"id\":\"2448\"}],\"height\":300,\"left\":[{\"id\":\"2445\"}],\"margin\":null,\"min_border_bottom\":10,\"min_border_left\":10,\"min_border_right\":10,\"min_border_top\":10,\"renderers\":[{\"id\":\"2468\"}],\"sizing_mode\":\"fixed\",\"title\":{\"id\":\"2433\"},\"toolbar\":{\"id\":\"2455\"},\"toolbar_location\":null,\"width\":700,\"x_range\":{\"id\":\"2429\"},\"x_scale\":{\"id\":\"2437\"},\"y_range\":{\"id\":\"2430\"},\"y_scale\":{\"id\":\"2439\"}},\"id\":\"2432\",\"subtype\":\"Figure\",\"type\":\"Plot\"},{\"attributes\":{},\"id\":\"2446\",\"type\":\"BasicTicker\"},{\"attributes\":{},\"id\":\"2451\",\"type\":\"WheelZoomTool\"},{\"attributes\":{\"source\":{\"id\":\"2462\"}},\"id\":\"2469\",\"type\":\"CDSView\"},{\"attributes\":{\"ticks\":[1,2,3,4,5,6,7,8,9,10]},\"id\":\"2524\",\"type\":\"FixedTicker\"},{\"attributes\":{\"line_alpha\":0.2,\"line_color\":\"#30a2da\",\"line_width\":2,\"x\":{\"field\":\"k\"},\"y\":{\"field\":\"inertia\"}},\"id\":\"2467\",\"type\":\"Line\"},{\"attributes\":{\"end\":10.0,\"reset_end\":10.0,\"reset_start\":1.0,\"start\":1.0,\"tags\":[[[\"k\",\"k\",null]]]},\"id\":\"2429\",\"type\":\"Range1d\"},{\"attributes\":{\"children\":[[{\"id\":\"2432\"},0,0],[{\"id\":\"2485\"},0,1]]},\"id\":\"2557\",\"type\":\"GridBox\"},{\"attributes\":{\"toolbar\":{\"id\":\"2558\"},\"toolbar_location\":\"above\"},\"id\":\"2559\",\"type\":\"ToolbarBox\"},{\"attributes\":{},\"id\":\"2532\",\"type\":\"AllLabels\"},{\"attributes\":{\"data\":{\"inertia\":{\"__ndarray__\":\"J5/15ohWdEC9hG4d62loQChDqmWLKltA7MH1whDxQ0B5DVYHSJE9QNK+92y6TTVAZOZnr0YFMEDbschTcTMpQOGcY3X1wyRAbtNMqMHnIEA=\",\"dtype\":\"float64\",\"order\":\"little\",\"shape\":[10]},\"k\":[1,2,3,4,5,6,7,8,9,10]},\"selected\":{\"id\":\"2516\"},\"selection_policy\":{\"id\":\"2553\"}},\"id\":\"2515\",\"type\":\"ColumnDataSource\"},{\"attributes\":{\"source\":{\"id\":\"2515\"}},\"id\":\"2522\",\"type\":\"CDSView\"},{\"attributes\":{\"data\":{\"inertia\":{\"__ndarray__\":\"AAAAAADwcUByhzI6P3poQOCRvNowzF5AGO6ulG/BU0BnEQsuWlNQQOXqC/e6cUpAiCebkxT1RUBu++EeLsJCQMB0IF8cPkBAineL7Q85PEA=\",\"dtype\":\"float64\",\"order\":\"little\",\"shape\":[10]},\"k\":[1,2,3,4,5,6,7,8,9,10]},\"selected\":{\"id\":\"2463\"},\"selection_policy\":{\"id\":\"2543\"}},\"id\":\"2462\",\"type\":\"ColumnDataSource\"},{\"attributes\":{\"coordinates\":null,\"data_source\":{\"id\":\"2462\"},\"glyph\":{\"id\":\"2465\"},\"group\":null,\"hover_glyph\":null,\"muted_glyph\":{\"id\":\"2467\"},\"nonselection_glyph\":{\"id\":\"2466\"},\"selection_glyph\":{\"id\":\"2470\"},\"view\":{\"id\":\"2469\"}},\"id\":\"2468\",\"type\":\"GlyphRenderer\"},{\"attributes\":{\"overlay\":{\"id\":\"2454\"}},\"id\":\"2452\",\"type\":\"BoxZoomTool\"},{\"attributes\":{\"toolbars\":[{\"id\":\"2455\"},{\"id\":\"2508\"}],\"tools\":[{\"id\":\"2431\"},{\"id\":\"2449\"},{\"id\":\"2450\"},{\"id\":\"2451\"},{\"id\":\"2452\"},{\"id\":\"2453\"},{\"id\":\"2484\"},{\"id\":\"2502\"},{\"id\":\"2503\"},{\"id\":\"2504\"},{\"id\":\"2505\"},{\"id\":\"2506\"}]},\"id\":\"2558\",\"type\":\"ProxyToolbar\"},{\"attributes\":{\"axis_label\":\"inertia\",\"coordinates\":null,\"formatter\":{\"id\":\"2531\"},\"group\":null,\"major_label_policy\":{\"id\":\"2532\"},\"ticker\":{\"id\":\"2499\"}},\"id\":\"2498\",\"type\":\"LinearAxis\"},{\"attributes\":{\"active_drag\":{\"id\":\"2503\"},\"active_scroll\":{\"id\":\"2504\"},\"tools\":[{\"id\":\"2484\"},{\"id\":\"2502\"},{\"id\":\"2503\"},{\"id\":\"2504\"},{\"id\":\"2505\"},{\"id\":\"2506\"}]},\"id\":\"2508\",\"type\":\"Toolbar\"},{\"attributes\":{\"line_alpha\":0.1,\"line_color\":\"#30a2da\",\"line_width\":2,\"x\":{\"field\":\"k\"},\"y\":{\"field\":\"inertia\"}},\"id\":\"2466\",\"type\":\"Line\"},{\"attributes\":{},\"id\":\"2450\",\"type\":\"PanTool\"},{\"attributes\":{\"bottom_units\":\"screen\",\"coordinates\":null,\"fill_alpha\":0.5,\"fill_color\":\"lightgrey\",\"group\":null,\"left_units\":\"screen\",\"level\":\"overlay\",\"line_alpha\":1.0,\"line_color\":\"black\",\"line_dash\":[4,4],\"line_width\":2,\"right_units\":\"screen\",\"syncable\":false,\"top_units\":\"screen\"},\"id\":\"2454\",\"type\":\"BoxAnnotation\"},{\"attributes\":{},\"id\":\"2499\",\"type\":\"BasicTicker\"},{\"attributes\":{},\"id\":\"2504\",\"type\":\"WheelZoomTool\"},{\"attributes\":{},\"id\":\"2492\",\"type\":\"LinearScale\"},{\"attributes\":{\"line_alpha\":0.2,\"line_color\":\"#30a2da\",\"line_width\":2,\"x\":{\"field\":\"k\"},\"y\":{\"field\":\"inertia\"}},\"id\":\"2520\",\"type\":\"Line\"},{\"attributes\":{\"axis\":{\"id\":\"2498\"},\"coordinates\":null,\"dimension\":1,\"grid_line_color\":null,\"group\":null,\"ticker\":null},\"id\":\"2501\",\"type\":\"Grid\"},{\"attributes\":{\"coordinates\":null,\"group\":null,\"text\":\"Elbow Curve\",\"text_color\":\"black\",\"text_font_size\":\"12pt\"},\"id\":\"2433\",\"type\":\"Title\"},{\"attributes\":{\"axis_label\":\"k\",\"coordinates\":null,\"formatter\":{\"id\":\"2526\"},\"group\":null,\"major_label_policy\":{\"id\":\"2527\"},\"ticker\":{\"id\":\"2524\"}},\"id\":\"2494\",\"type\":\"LinearAxis\"},{\"attributes\":{},\"id\":\"2527\",\"type\":\"AllLabels\"},{\"attributes\":{\"axis_label\":\"k\",\"coordinates\":null,\"formatter\":{\"id\":\"2473\"},\"group\":null,\"major_label_policy\":{\"id\":\"2474\"},\"ticker\":{\"id\":\"2471\"}},\"id\":\"2441\",\"type\":\"LinearAxis\"},{\"attributes\":{},\"id\":\"2526\",\"type\":\"BasicTickFormatter\"},{\"attributes\":{\"ticks\":[1,2,3,4,5,6,7,8,9,10]},\"id\":\"2471\",\"type\":\"FixedTicker\"},{\"attributes\":{\"axis\":{\"id\":\"2441\"},\"coordinates\":null,\"grid_line_color\":null,\"group\":null,\"ticker\":null},\"id\":\"2444\",\"type\":\"Grid\"},{\"attributes\":{\"line_color\":\"#30a2da\",\"line_width\":2,\"x\":{\"field\":\"k\"},\"y\":{\"field\":\"inertia\"}},\"id\":\"2470\",\"type\":\"Line\"},{\"attributes\":{},\"id\":\"2453\",\"type\":\"ResetTool\"},{\"attributes\":{},\"id\":\"2502\",\"type\":\"SaveTool\"},{\"attributes\":{},\"id\":\"2531\",\"type\":\"BasicTickFormatter\"},{\"attributes\":{},\"id\":\"2439\",\"type\":\"LinearScale\"},{\"attributes\":{},\"id\":\"2490\",\"type\":\"LinearScale\"},{\"attributes\":{\"below\":[{\"id\":\"2494\"}],\"center\":[{\"id\":\"2497\"},{\"id\":\"2501\"}],\"height\":300,\"left\":[{\"id\":\"2498\"}],\"margin\":null,\"min_border_bottom\":10,\"min_border_left\":10,\"min_border_right\":10,\"min_border_top\":10,\"renderers\":[{\"id\":\"2521\"}],\"sizing_mode\":\"fixed\",\"title\":{\"id\":\"2486\"},\"toolbar\":{\"id\":\"2508\"},\"toolbar_location\":null,\"width\":700,\"x_range\":{\"id\":\"2429\"},\"x_scale\":{\"id\":\"2490\"},\"y_range\":{\"id\":\"2430\"},\"y_scale\":{\"id\":\"2492\"}},\"id\":\"2485\",\"subtype\":\"Figure\",\"type\":\"Plot\"},{\"attributes\":{\"axis\":{\"id\":\"2494\"},\"coordinates\":null,\"grid_line_color\":null,\"group\":null,\"ticker\":null},\"id\":\"2497\",\"type\":\"Grid\"},{\"attributes\":{},\"id\":\"2474\",\"type\":\"AllLabels\"},{\"attributes\":{},\"id\":\"2553\",\"type\":\"UnionRenderers\"},{\"attributes\":{\"coordinates\":null,\"data_source\":{\"id\":\"2515\"},\"glyph\":{\"id\":\"2518\"},\"group\":null,\"hover_glyph\":null,\"muted_glyph\":{\"id\":\"2520\"},\"nonselection_glyph\":{\"id\":\"2519\"},\"selection_glyph\":{\"id\":\"2523\"},\"view\":{\"id\":\"2522\"}},\"id\":\"2521\",\"type\":\"GlyphRenderer\"},{\"attributes\":{\"children\":[{\"id\":\"2559\"},{\"id\":\"2557\"}]},\"id\":\"2560\",\"type\":\"Column\"},{\"attributes\":{},\"id\":\"2478\",\"type\":\"BasicTickFormatter\"},{\"attributes\":{},\"id\":\"2506\",\"type\":\"ResetTool\"},{\"attributes\":{\"line_color\":\"#30a2da\",\"line_width\":2,\"x\":{\"field\":\"k\"},\"y\":{\"field\":\"inertia\"}},\"id\":\"2465\",\"type\":\"Line\"},{\"attributes\":{},\"id\":\"2479\",\"type\":\"AllLabels\"},{\"attributes\":{},\"id\":\"2437\",\"type\":\"LinearScale\"},{\"attributes\":{},\"id\":\"2516\",\"type\":\"Selection\"},{\"attributes\":{\"callback\":null,\"renderers\":[{\"id\":\"2521\"}],\"tags\":[\"hv_created\"],\"tooltips\":[[\"k\",\"@{k}\"],[\"inertia\",\"@{inertia}\"]]},\"id\":\"2484\",\"type\":\"HoverTool\"},{\"attributes\":{},\"id\":\"2449\",\"type\":\"SaveTool\"},{\"attributes\":{},\"id\":\"2503\",\"type\":\"PanTool\"},{\"attributes\":{\"active_drag\":{\"id\":\"2450\"},\"active_scroll\":{\"id\":\"2451\"},\"tools\":[{\"id\":\"2431\"},{\"id\":\"2449\"},{\"id\":\"2450\"},{\"id\":\"2451\"},{\"id\":\"2452\"},{\"id\":\"2453\"}]},\"id\":\"2455\",\"type\":\"Toolbar\"},{\"attributes\":{\"children\":[{\"id\":\"2560\"}],\"margin\":[0,0,0,0],\"name\":\"Row06966\",\"tags\":[\"embedded\"]},\"id\":\"2428\",\"type\":\"Row\"},{\"attributes\":{},\"id\":\"2473\",\"type\":\"BasicTickFormatter\"},{\"attributes\":{\"overlay\":{\"id\":\"2507\"}},\"id\":\"2505\",\"type\":\"BoxZoomTool\"},{\"attributes\":{\"coordinates\":null,\"group\":null,\"text\":\"Elbow Curve\",\"text_color\":\"black\",\"text_font_size\":\"12pt\"},\"id\":\"2486\",\"type\":\"Title\"},{\"attributes\":{},\"id\":\"2463\",\"type\":\"Selection\"},{\"attributes\":{\"end\":357.1040007872275,\"reset_end\":357.1040007872275,\"reset_start\":-23.242928038244248,\"start\":-23.242928038244248,\"tags\":[[[\"inertia\",\"inertia\",null]]]},\"id\":\"2430\",\"type\":\"Range1d\"},{\"attributes\":{\"axis_label\":\"inertia\",\"coordinates\":null,\"formatter\":{\"id\":\"2478\"},\"group\":null,\"major_label_policy\":{\"id\":\"2479\"},\"ticker\":{\"id\":\"2446\"}},\"id\":\"2445\",\"type\":\"LinearAxis\"},{\"attributes\":{\"line_color\":\"#30a2da\",\"line_width\":2,\"x\":{\"field\":\"k\"},\"y\":{\"field\":\"inertia\"}},\"id\":\"2518\",\"type\":\"Line\"},{\"attributes\":{\"line_alpha\":0.1,\"line_color\":\"#30a2da\",\"line_width\":2,\"x\":{\"field\":\"k\"},\"y\":{\"field\":\"inertia\"}},\"id\":\"2519\",\"type\":\"Line\"},{\"attributes\":{\"callback\":null,\"renderers\":[{\"id\":\"2468\"}],\"tags\":[\"hv_created\"],\"tooltips\":[[\"k\",\"@{k}\"],[\"inertia\",\"@{inertia}\"]]},\"id\":\"2431\",\"type\":\"HoverTool\"},{\"attributes\":{},\"id\":\"2543\",\"type\":\"UnionRenderers\"},{\"attributes\":{\"bottom_units\":\"screen\",\"coordinates\":null,\"fill_alpha\":0.5,\"fill_color\":\"lightgrey\",\"group\":null,\"left_units\":\"screen\",\"level\":\"overlay\",\"line_alpha\":1.0,\"line_color\":\"black\",\"line_dash\":[4,4],\"line_width\":2,\"right_units\":\"screen\",\"syncable\":false,\"top_units\":\"screen\"},\"id\":\"2507\",\"type\":\"BoxAnnotation\"},{\"attributes\":{\"line_color\":\"#30a2da\",\"line_width\":2,\"x\":{\"field\":\"k\"},\"y\":{\"field\":\"inertia\"}},\"id\":\"2523\",\"type\":\"Line\"}],\"root_ids\":[\"2428\"]},\"title\":\"Bokeh Application\",\"version\":\"2.4.3\"}};\n",
              "    var render_items = [{\"docid\":\"e19c125d-a32d-4ff5-bb63-c068cc8fad80\",\"root_ids\":[\"2428\"],\"roots\":{\"2428\":\"88611e8d-d235-4d23-9d5e-240b87486238\"}}];\n",
              "    root.Bokeh.embed.embed_items_notebook(docs_json, render_items);\n",
              "    for (const render_item of render_items) {\n",
              "      for (const root_id of render_item.root_ids) {\n",
              "\tconst id_el = document.getElementById(root_id)\n",
              "\tif (id_el.children.length && (id_el.children[0].className === 'bk-root')) {\n",
              "\t  const root_el = id_el.children[0]\n",
              "\t  root_el.id = root_el.id + '-rendered'\n",
              "\t}\n",
              "      }\n",
              "    }\n",
              "  }\n",
              "  if (root.Bokeh !== undefined && root.Bokeh.Panel !== undefined) {\n",
              "    embed_document(root);\n",
              "  } else {\n",
              "    var attempts = 0;\n",
              "    var timer = setInterval(function(root) {\n",
              "      if (root.Bokeh !== undefined && root.Bokeh.Panel !== undefined) {\n",
              "        clearInterval(timer);\n",
              "        embed_document(root);\n",
              "      } else if (document.readyState == \"complete\") {\n",
              "        attempts++;\n",
              "        if (attempts > 200) {\n",
              "          clearInterval(timer);\n",
              "          console.log(\"Bokeh: ERROR: Unable to run BokehJS code because BokehJS library is missing\");\n",
              "        }\n",
              "      }\n",
              "    }, 25, root)\n",
              "  }\n",
              "})(window);</script>"
            ],
            "application/vnd.holoviews_exec.v0+json": "",
            "text/plain": [
              ":Layout\n",
              "   .Curve.I  :Curve   [k]   (inertia)\n",
              "   .Curve.II :Curve   [k]   (inertia)"
            ]
          },
          "metadata": {
            "application/vnd.holoviews_exec.v0+json": {
              "id": "2428"
            }
          },
          "execution_count": 60
        }
      ],
      "source": [
        "# Composite plot to contrast the Elbow curves\n",
        "df_elbow.hvplot.line(x=\"k\", y=\"inertia\", title=\"Elbow Curve\", xticks=k) +df_elbow_pca.hvplot.line(x=\"k_pca\", y=\"inertia_pca\", title=\"PCA Elbow Curve\", xticks=k)\n"
      ]
    },
    {
      "cell_type": "code",
      "source": [
        "fig, ax = plt.subplots()\n",
        "\n",
        "ax.plot(df_elbow_pca['k_pca'], df_elbow_pca['inertia_pca'], label='PCA Elbow Curve')\n",
        "\n",
        "ax.plot(df_elbow['k'], df_elbow['inertia'], label='Elbow Curve')\n",
        "\n",
        "ax.set_xlabel('Number of Clusters (k)')\n",
        "ax.set_ylabel('Inertia')\n",
        "ax.set_title('Elbow Curves Comparison')\n",
        "ax.legend()\n",
        "\n",
        "\n",
        "plt.tight_layout()\n",
        "plt.show()"
      ],
      "metadata": {
        "colab": {
          "base_uri": "https://localhost:8080/",
          "height": 487
        },
        "id": "ENrPA4m00WXz",
        "outputId": "c809ddf5-14e9-47cc-990b-fcc27e02473f"
      },
      "execution_count": null,
      "outputs": [
        {
          "output_type": "display_data",
          "data": {
            "text/plain": [
              "<Figure size 640x480 with 1 Axes>"
            ],
            "image/png": "[encoded data removed]"
          },
          "metadata": {}
        }
      ]
    },
    {
      "cell_type": "code",
      "execution_count": null,
      "metadata": {
        "colab": {
          "base_uri": "https://localhost:8080/",
          "height": 17
        },
        "id": "LiwnXeAIxKvR",
        "outputId": "d0f55538-2c38-4fb5-c23b-0a6d3e4982c1"
      },
      "outputs": [
        {
          "output_type": "display_data",
          "data": {},
          "metadata": {}
        },
        {
          "output_type": "execute_result",
          "data": {
            "text/html": [
              "<div id='1732'>\n",
              "  <div class=\"bk-root\" id=\"fbf5a156-c5ca-4d18-9a2e-f3e1cf016cd5\" data-root-id=\"1732\"></div>\n",
              "</div>\n",
              "<script type=\"application/javascript\">(function(root) {\n",
              "  function embed_document(root) {\n",
              "    var docs_json = {\"130df3f3-821b-4b31-bfdc-4be55cf6c86d\":{\"defs\":[{\"extends\":null,\"module\":null,\"name\":\"ReactiveHTML1\",\"overrides\":[],\"properties\":[]},{\"extends\":null,\"module\":null,\"name\":\"FlexBox1\",\"overrides\":[],\"properties\":[{\"default\":\"flex-start\",\"kind\":null,\"name\":\"align_content\"},{\"default\":\"flex-start\",\"kind\":null,\"name\":\"align_items\"},{\"default\":\"row\",\"kind\":null,\"name\":\"flex_direction\"},{\"default\":\"wrap\",\"kind\":null,\"name\":\"flex_wrap\"},{\"default\":\"flex-start\",\"kind\":null,\"name\":\"justify_content\"}]},{\"extends\":null,\"module\":null,\"name\":\"GridStack1\",\"overrides\":[],\"properties\":[{\"default\":\"warn\",\"kind\":null,\"name\":\"mode\"},{\"default\":null,\"kind\":null,\"name\":\"ncols\"},{\"default\":null,\"kind\":null,\"name\":\"nrows\"},{\"default\":true,\"kind\":null,\"name\":\"allow_resize\"},{\"default\":true,\"kind\":null,\"name\":\"allow_drag\"},{\"default\":[],\"kind\":null,\"name\":\"state\"}]},{\"extends\":null,\"module\":null,\"name\":\"click1\",\"overrides\":[],\"properties\":[{\"default\":\"\",\"kind\":null,\"name\":\"terminal_output\"},{\"default\":\"\",\"kind\":null,\"name\":\"debug_name\"},{\"default\":0,\"kind\":null,\"name\":\"clears\"}]},{\"extends\":null,\"module\":null,\"name\":\"NotificationAreaBase1\",\"overrides\":[],\"properties\":[{\"default\":\"bottom-right\",\"kind\":null,\"name\":\"position\"},{\"default\":0,\"kind\":null,\"name\":\"_clear\"}]},{\"extends\":null,\"module\":null,\"name\":\"NotificationArea1\",\"overrides\":[],\"properties\":[{\"default\":[],\"kind\":null,\"name\":\"notifications\"},{\"default\":\"bottom-right\",\"kind\":null,\"name\":\"position\"},{\"default\":0,\"kind\":null,\"name\":\"_clear\"},{\"default\":[{\"background\":\"#ffc107\",\"icon\":{\"className\":\"fas fa-exclamation-triangle\",\"color\":\"white\",\"tagName\":\"i\"},\"type\":\"warning\"},{\"background\":\"#007bff\",\"icon\":{\"className\":\"fas fa-info-circle\",\"color\":\"white\",\"tagName\":\"i\"},\"type\":\"info\"}],\"kind\":null,\"name\":\"types\"}]},{\"extends\":null,\"module\":null,\"name\":\"Notification\",\"overrides\":[],\"properties\":[{\"default\":null,\"kind\":null,\"name\":\"background\"},{\"default\":3000,\"kind\":null,\"name\":\"duration\"},{\"default\":null,\"kind\":null,\"name\":\"icon\"},{\"default\":\"\",\"kind\":null,\"name\":\"message\"},{\"default\":null,\"kind\":null,\"name\":\"notification_type\"},{\"default\":false,\"kind\":null,\"name\":\"_destroyed\"}]},{\"extends\":null,\"module\":null,\"name\":\"TemplateActions1\",\"overrides\":[],\"properties\":[{\"default\":0,\"kind\":null,\"name\":\"open_modal\"},{\"default\":0,\"kind\":null,\"name\":\"close_modal\"}]},{\"extends\":null,\"module\":null,\"name\":\"MaterialTemplateActions1\",\"overrides\":[],\"properties\":[{\"default\":0,\"kind\":null,\"name\":\"open_modal\"},{\"default\":0,\"kind\":null,\"name\":\"close_modal\"}]}],\"roots\":{\"references\":[{\"attributes\":{\"data\":{\"PCA1\":{\"__ndarray__\":\"PPXQrqo447/x0e2+JFTdvy6WfGpqt9u/12B8Nosy3r90E49DWYbyvznTCdRxh+C/J1tHYHTY3L84/sd7Th7Wv51tTPNwyOS/1fJrm9dJ6L+++nOg98TPv2yH9NfeDty/ehkZU4ow5r+sr0+KvvmuP25MI6evLNm/ljHFU0V66b/fBbsJMGewP5eyldMFTN+/Bc+LH/eZ078C6SrB0W7gv68WiTH7LNe/6N1vxyJW479wEjtnb3Pav7MRKLozFNq/g2XZqrZ84z/TTdZjQtDcv4TYvTIjeOi/yLHvblTN4b988+bQmjXbv+hGFZE5agVAlCC8UEGl47+yvuS6vI7iv05VosuTLSBAykmjFh7m2L+OCisnUrTrP02Suv+8lrw/ORQ7s2krE0BDXMBgQDzkv5YbmkYF++K/+rxJmQJS3b8D4q/49hDTvw==\",\"dtype\":\"float64\",\"order\":\"little\",\"shape\":[41]},\"PCA2\":{\"__ndarray__\":\"iwJY8+P36j8xP81egFfdP3rRe08qhcW/eo9VGiCAzL+URDd7ZVQAQGOkcU7LNvY/dWTwvP2Q4D9cxP1IkVfnPzEtO/eXqNs/vuHMJurAyb+/OhRjIAX2v51mxoRtcca/PMkgkvpS3r+M9tOGdUYHQJErtCB4sru/qKSem2Sk379hgFApNFH0vwahJl5vcue/QENue2CC5j+3kppKWUfCv7CIS4bNlO+/QwsYmwp66j9b+cMuWpLlv6nd4x5qM8u/zBdkhXQI4j9OLiH9mlTDv0LrhbGEkuC/UG24gOcC/7+edLLu64zfP0VkJoz3k4y/qI8PRXSt3r8Y37YoLM7WvxEN8PHULA/AFkntLg0gxT9k/tbKVRgCwAYiKIaGads/L1rQWxoSG0A+qFKDbN0AwIYN7msnAJY/OvWtmbtfwb8gSPDBzXbIvw==\",\"dtype\":\"float64\",\"order\":\"little\",\"shape\":[41]},\"coin_id\":[\"bitcoin\",\"ethereum\",\"tether\",\"ripple\",\"bitcoin-cash\",\"binancecoin\",\"chainlink\",\"cardano\",\"litecoin\",\"bitcoin-cash-sv\",\"crypto-com-chain\",\"usd-coin\",\"eos\",\"monero\",\"tron\",\"tezos\",\"okb\",\"stellar\",\"cosmos\",\"cdai\",\"neo\",\"wrapped-bitcoin\",\"leo-token\",\"huobi-token\",\"nem\",\"binance-usd\",\"iota\",\"vechain\",\"zcash\",\"theta-token\",\"dash\",\"ethereum-classic\",\"ethlend\",\"maker\",\"havven\",\"omisego\",\"celsius-degree-token\",\"ontology\",\"ftx-token\",\"true-usd\",\"digibyte\"],\"color\":{\"__ndarray__\":\"AAAAAAAAAAABAAAAAQAAAAAAAAAAAAAAAAAAAAAAAAAAAAAAAQAAAAEAAAABAAAAAQAAAAAAAAABAAAAAAAAAAEAAAABAAAAAAAAAAEAAAABAAAAAAAAAAEAAAABAAAAAQAAAAEAAAABAAAAAQAAAAAAAAABAAAAAQAAAAEAAAACAAAAAAAAAAEAAAABAAAAAwAAAAEAAAABAAAAAQAAAAEAAAA=\",\"dtype\":\"int32\",\"order\":\"little\",\"shape\":[41]},\"predicted_clusters\":{\"__ndarray__\":\"AAAAAAAAAAABAAAAAQAAAAAAAAAAAAAAAAAAAAAAAAAAAAAAAQAAAAEAAAABAAAAAQAAAAAAAAABAAAAAAAAAAEAAAABAAAAAAAAAAEAAAABAAAAAAAAAAEAAAABAAAAAQAAAAEAAAABAAAAAQAAAAAAAAABAAAAAQAAAAEAAAACAAAAAAAAAAEAAAABAAAAAwAAAAEAAAABAAAAAQAAAAEAAAA=\",\"dtype\":\"int32\",\"order\":\"little\",\"shape\":[41]}},\"selected\":{\"id\":\"1824\"},\"selection_policy\":{\"id\":\"1865\"}},\"id\":\"1823\",\"type\":\"ColumnDataSource\"},{\"attributes\":{\"callback\":null,\"renderers\":[{\"id\":\"1775\"}],\"tags\":[\"hv_created\"],\"tooltips\":[[\"price_change_percentage_24h\",\"@{price_change_percentage_24h}\"],[\"price_change_percentage_7d\",\"@{price_change_percentage_7d}\"],[\"Predicted Clusters\",\"@{Predicted_Clusters}\"],[\"coin_id\",\"@{coin_id}\"]]},\"id\":\"1735\",\"type\":\"HoverTool\"},{\"attributes\":{\"high\":3,\"low\":0,\"palette\":[\"#b3fef5\",\"#b0fef5\",\"#adfdf5\",\"#a9fcf5\",\"#a6fbf6\",\"#a3faf6\",\"#a0faf6\",\"#9df9f6\",\"#9af8f6\",\"#97f7f6\",\"#93f7f6\",\"#90f6f6\",\"#8df5f6\",\"#8af4f7\",\"#87f3f7\",\"#83f2f7\",\"#80f2f7\",\"#7df1f7\",\"#79f0f7\",\"#76eff7\",\"#73eef7\",\"#6fedf8\",\"#6cecf8\",\"#68ecf8\",\"#65ebf8\",\"#61eaf8\",\"#5ee9f8\",\"#5ae8f8\",\"#57e7f8\",\"#53e6f8\",\"#50e5f9\",\"#4ce4f9\",\"#49e3f9\",\"#45e2f9\",\"#42e1f9\",\"#3ee0f9\",\"#3bdff9\",\"#38def9\",\"#35ddf9\",\"#32dcf9\",\"#30dbfa\",\"#2ed9fa\",\"#2dd8fa\",\"#2cd7fa\",\"#2bd6fa\",\"#2bd5fa\",\"#2ad3fa\",\"#2ad2fa\",\"#29d1fa\",\"#29d0fb\",\"#29cffb\",\"#28cdfb\",\"#28ccfb\",\"#28cbfb\",\"#28cafb\",\"#28c8fb\",\"#28c7fb\",\"#29c6fb\",\"#29c5fb\",\"#29c4fb\",\"#29c2fb\",\"#2ac1fb\",\"#2ac0fb\",\"#2bbffb\",\"#2bbdfc\",\"#2cbcfc\",\"#2dbbfc\",\"#2db9fc\",\"#2eb8fc\",\"#2fb7fc\",\"#2fb6fc\",\"#30b4fc\",\"#31b3fc\",\"#32b2fc\",\"#32b0fc\",\"#33affc\",\"#33aefc\",\"#34adfc\",\"#34abfc\",\"#34aafc\",\"#35a9fc\",\"#35a8fc\",\"#35a6fc\",\"#35a5fc\",\"#35a4fc\",\"#35a3fc\",\"#35a1fc\",\"#35a0fc\",\"#359ffc\",\"#359dfc\",\"#359cfc\",\"#359bfc\",\"#349afd\",\"#3498fd\",\"#3497fd\",\"#3396fd\",\"#3395fd\",\"#3293fd\",\"#3292fd\",\"#3191fd\",\"#3090fd\",\"#308ffd\",\"#2f8dfd\",\"#2f8cfd\",\"#2e8bfd\",\"#2e8afd\",\"#2d88fd\",\"#2d87fd\",\"#2c86fd\",\"#2c84fd\",\"#2c83fd\",\"#2c82fd\",\"#2b81fd\",\"#2b7ffd\",\"#2b7efd\",\"#2b7dfd\",\"#2b7bfd\",\"#2b7afd\",\"#2b79fd\",\"#2b77fd\",\"#2b76fd\",\"#2b75fd\",\"#2b73fd\",\"#2c72fd\",\"#2c71fd\",\"#2c6ffd\",\"#2c6efd\",\"#2d6cfd\",\"#2d6bfd\",\"#2d6afc\",\"#2e68fc\",\"#2e67fc\",\"#2e65fc\",\"#2e64fc\",\"#2f62fc\",\"#2f61fc\",\"#2f5ffc\",\"#2f5efc\",\"#2f5dfc\",\"#2f5bfc\",\"#2f5afc\",\"#2f58fb\",\"#2f57fb\",\"#2f55fb\",\"#2f53fb\",\"#2f52fb\",\"#2f50fb\",\"#2f4ffb\",\"#2f4dfb\",\"#2e4cfb\",\"#2e4afb\",\"#2e48fb\",\"#2e47fa\",\"#2d45fa\",\"#2d43fa\",\"#2d42fa\",\"#2d40fa\",\"#2c3efa\",\"#2c3dfa\",\"#2b3bf9\",\"#2b39f9\",\"#2a37f9\",\"#2a36f8\",\"#2934f8\",\"#2832f7\",\"#2831f7\",\"#272ff6\",\"#262ef5\",\"#252cf5\",\"#252af4\",\"#2429f3\",\"#2327f2\",\"#2226f1\",\"#2124f0\",\"#2023ef\",\"#1f22ee\",\"#1e20ed\",\"#1d1feb\",\"#1c1eea\",\"#1b1ce9\",\"#1a1be7\",\"#181ae6\",\"#1719e5\",\"#1618e3\",\"#1417e1\",\"#1316e0\",\"#1215de\",\"#1014dc\",\"#0f13db\",\"#0e12d9\",\"#0d11d7\",\"#0c10d5\",\"#0b0fd3\",\"#0a0ed1\",\"#090dd0\",\"#080dce\",\"#080ccc\",\"#070bca\",\"#070ac8\",\"#0709c6\",\"#0708c4\",\"#0707c2\",\"#0707bf\",\"#0806bd\",\"#0806bb\",\"#0905b9\",\"#0904b7\",\"#0a04b5\",\"#0a04b2\",\"#0b03b0\",\"#0c03ae\",\"#0d02ab\",\"#0e02a9\",\"#0e02a7\",\"#0f02a4\",\"#0f01a2\",\"#1001a0\",\"#10019d\",\"#10019b\",\"#100199\",\"#100197\",\"#100194\",\"#0f0192\",\"#0f0190\",\"#0f018e\",\"#0e018b\",\"#0e0189\",\"#0d0187\",\"#0d0185\",\"#0c0183\",\"#0b0181\",\"#0b017e\",\"#0a017c\",\"#09017a\",\"#090178\",\"#080276\",\"#070274\",\"#060272\",\"#060270\",\"#05026e\",\"#04026c\",\"#030269\",\"#030267\",\"#020265\",\"#010263\",\"#010261\",\"#00025f\",\"#00025d\",\"#00025b\",\"#000259\",\"#000257\",\"#000255\",\"#000154\",\"#000152\",\"#000150\",\"#00004e\"]},\"id\":\"1766\",\"type\":\"LinearColorMapper\"},{\"attributes\":{\"data\":{\"Predicted_Clusters\":{\"__ndarray__\":\"AAAAAAAAAAADAAAAAwAAAAAAAAAAAAAAAAAAAAAAAAAAAAAAAwAAAAMAAAADAAAAAwAAAAAAAAADAAAAAAAAAAMAAAADAAAAAAAAAAMAAAADAAAAAAAAAAMAAAADAAAAAwAAAAMAAAADAAAAAwAAAAAAAAADAAAAAwAAAAMAAAABAAAAAAAAAAMAAAADAAAAAgAAAAMAAAADAAAAAwAAAAMAAAA=\",\"dtype\":\"int32\",\"order\":\"little\",\"shape\":[41]},\"coin_id\":[\"bitcoin\",\"ethereum\",\"tether\",\"ripple\",\"bitcoin-cash\",\"binancecoin\",\"chainlink\",\"cardano\",\"litecoin\",\"bitcoin-cash-sv\",\"crypto-com-chain\",\"usd-coin\",\"eos\",\"monero\",\"tron\",\"tezos\",\"okb\",\"stellar\",\"cosmos\",\"cdai\",\"neo\",\"wrapped-bitcoin\",\"leo-token\",\"huobi-token\",\"nem\",\"binance-usd\",\"iota\",\"vechain\",\"zcash\",\"theta-token\",\"dash\",\"ethereum-classic\",\"ethlend\",\"maker\",\"havven\",\"omisego\",\"celsius-degree-token\",\"ontology\",\"ftx-token\",\"true-usd\",\"digibyte\"],\"color\":{\"__ndarray__\":\"AAAAAAAAAAADAAAAAwAAAAAAAAAAAAAAAAAAAAAAAAAAAAAAAwAAAAMAAAADAAAAAwAAAAAAAAADAAAAAAAAAAMAAAADAAAAAAAAAAMAAAADAAAAAAAAAAMAAAADAAAAAwAAAAMAAAADAAAAAwAAAAAAAAADAAAAAwAAAAMAAAABAAAAAAAAAAMAAAADAAAAAgAAAAMAAAADAAAAAwAAAAMAAAA=\",\"dtype\":\"int32\",\"order\":\"little\",\"shape\":[41]},\"price_change_percentage_24h\":{\"__ndarray__\":\"DdlqYN9F4D86azDosLzHP5giRdTpS5Y/5iURtxHfpL8wCyMArRbzP/cOjHA0iuw/1QxzqW9Xhz8zBL2hZD+6P0nbN/ba1rM/WpkZGJ+73D/+slcesDPVP/IxOp6elqE/H2STd0ruwz9Epj8/c9DQPxk0XoR2pcA/jEB40RVnw790fnl54Irtv9XPDahDw9G/qq8st/Fh0L/5U5ZBISbHP6Slu6TDVtI/BVlpN5h+4D+njODODoCqPwXDDo/fo6q/woaukuXmy79od0yHwmevP8HhEPEMldA/ypmU5gu54j+sKNPN2lDAv1YH9WGFy/m/N7JuVBEB07/EU4GAhEGyv91nhz6W7BPA/ACFOIMFwL/DnH9IcNv2v5azwSWNt/4/VLqXBn668D/IKcQzxy3av5WrmDyeito/Bf22eE/6sz9Y362Ir3rzPw==\",\"dtype\":\"float64\",\"order\":\"little\",\"shape\":[41]},\"price_change_percentage_7d\":{\"__ndarray__\":\"U1k8q3mQ3z9yoPpI+ebtP22UiL5Pmua/Ubo8ah/z6b8wAdnT9gEAQIJpDjGZPPU/BTbpSPiTBEAmUWkixiD4P/OMI2gdZdU/DZTtp1doyL936vtUZtb5v0QZLH/ydOe/it8GjguF7b8rMp3jf678PwRAcFxBAKW/ZWZRGoqp5j8Udj8VbP/2vySelkVDp9i/XK6ZksNx/T/tJm9WzI7mvy674lUf4tS/Q3zKstaO3T84jfoETLXtv6NqpXs9Q92/wrTyyiEu678mI2rMB53mv1Euo6Hk788/3UZrgr7Q778kzwwdV7vtP/9TV66U6fq/ZWX+mWVCuD8GJ0pHuV/Nv3SFotqbIae/srW7TleV4j/JyBNmVh+av008Y/5ntdc/Nv03JFjJ47+Htdvf1gXtv2Avihmzf9o/e31xtwIC5r/STlu6Y3Ljvw==\",\"dtype\":\"float64\",\"order\":\"little\",\"shape\":[41]}},\"selected\":{\"id\":\"1768\"},\"selection_policy\":{\"id\":\"1853\"}},\"id\":\"1767\",\"type\":\"ColumnDataSource\"},{\"attributes\":{\"end\":2.2155632386560065,\"reset_end\":2.2155632386560065,\"reset_start\":-5.276792781891412,\"start\":-5.276792781891412,\"tags\":[[[\"price_change_percentage_24h\",\"price_change_percentage_24h\",null]]]},\"id\":\"1733\",\"type\":\"Range1d\"},{\"attributes\":{\"end\":2.997678656273595,\"reset_end\":2.997678656273595,\"reset_start\":-2.107454305728652,\"start\":-2.107454305728652,\"tags\":[[[\"price_change_percentage_7d\",\"price_change_percentage_7d\",null]]]},\"id\":\"1734\",\"type\":\"Range1d\"},{\"attributes\":{\"fill_color\":{\"field\":\"color\",\"transform\":{\"id\":\"1766\"}},\"hatch_color\":{\"field\":\"color\",\"transform\":{\"id\":\"1766\"}},\"line_color\":{\"field\":\"color\",\"transform\":{\"id\":\"1766\"}},\"size\":{\"value\":5.477225575051661},\"x\":{\"field\":\"price_change_percentage_24h\"},\"y\":{\"field\":\"price_change_percentage_7d\"}},\"id\":\"1772\",\"type\":\"Scatter\"},{\"attributes\":{\"below\":[{\"id\":\"1801\"}],\"center\":[{\"id\":\"1804\"},{\"id\":\"1808\"}],\"height\":300,\"left\":[{\"id\":\"1805\"}],\"margin\":null,\"min_border_bottom\":10,\"min_border_left\":10,\"min_border_right\":10,\"min_border_top\":10,\"renderers\":[{\"id\":\"1831\"}],\"right\":[{\"id\":\"1834\"}],\"sizing_mode\":\"fixed\",\"title\":{\"id\":\"1793\"},\"toolbar\":{\"id\":\"1815\"},\"toolbar_location\":null,\"width\":700,\"x_range\":{\"id\":\"1789\"},\"x_scale\":{\"id\":\"1797\"},\"y_range\":{\"id\":\"1790\"},\"y_scale\":{\"id\":\"1799\"}},\"id\":\"1792\",\"subtype\":\"Figure\",\"type\":\"Plot\"},{\"attributes\":{},\"id\":\"1781\",\"type\":\"AllLabels\"},{\"attributes\":{\"bottom_units\":\"screen\",\"coordinates\":null,\"fill_alpha\":0.5,\"fill_color\":\"lightgrey\",\"group\":null,\"left_units\":\"screen\",\"level\":\"overlay\",\"line_alpha\":1.0,\"line_color\":\"black\",\"line_dash\":[4,4],\"line_width\":2,\"right_units\":\"screen\",\"syncable\":false,\"top_units\":\"screen\"},\"id\":\"1758\",\"type\":\"BoxAnnotation\"},{\"attributes\":{},\"id\":\"1839\",\"type\":\"BasicTickFormatter\"},{\"attributes\":{\"coordinates\":null,\"data_source\":{\"id\":\"1767\"},\"glyph\":{\"id\":\"1770\"},\"group\":null,\"hover_glyph\":{\"id\":\"1773\"},\"muted_glyph\":{\"id\":\"1774\"},\"nonselection_glyph\":{\"id\":\"1771\"},\"selection_glyph\":{\"id\":\"1772\"},\"view\":{\"id\":\"1776\"}},\"id\":\"1775\",\"type\":\"GlyphRenderer\"},{\"attributes\":{},\"id\":\"1750\",\"type\":\"BasicTicker\"},{\"attributes\":{\"source\":{\"id\":\"1767\"}},\"id\":\"1776\",\"type\":\"CDSView\"},{\"attributes\":{\"fill_color\":{\"field\":\"color\",\"transform\":{\"id\":\"1822\"}},\"hatch_color\":{\"field\":\"color\",\"transform\":{\"id\":\"1822\"}},\"line_color\":{\"field\":\"color\",\"transform\":{\"id\":\"1822\"}},\"size\":{\"value\":5.477225575051661},\"x\":{\"field\":\"PCA1\"},\"y\":{\"field\":\"PCA2\"}},\"id\":\"1829\",\"type\":\"Scatter\"},{\"attributes\":{},\"id\":\"1840\",\"type\":\"AllLabels\"},{\"attributes\":{\"fill_color\":{\"field\":\"color\",\"transform\":{\"id\":\"1822\"}},\"hatch_color\":{\"field\":\"color\",\"transform\":{\"id\":\"1822\"}},\"line_color\":{\"field\":\"color\",\"transform\":{\"id\":\"1822\"}},\"size\":{\"value\":5.477225575051661},\"x\":{\"field\":\"PCA1\"},\"y\":{\"field\":\"PCA2\"}},\"id\":\"1828\",\"type\":\"Scatter\"},{\"attributes\":{\"bar_line_color\":\"black\",\"color_mapper\":{\"id\":\"1766\"},\"coordinates\":null,\"group\":null,\"label_standoff\":8,\"location\":[0,0],\"major_label_policy\":{\"id\":\"1849\"},\"major_tick_line_color\":\"black\",\"ticker\":{\"id\":\"1777\"}},\"id\":\"1778\",\"type\":\"ColorBar\"},{\"attributes\":{\"axis\":{\"id\":\"1749\"},\"coordinates\":null,\"dimension\":1,\"grid_line_color\":null,\"group\":null,\"ticker\":null},\"id\":\"1752\",\"type\":\"Grid\"},{\"attributes\":{\"fill_alpha\":{\"value\":0.2},\"fill_color\":{\"field\":\"color\",\"transform\":{\"id\":\"1822\"}},\"hatch_alpha\":{\"value\":0.2},\"hatch_color\":{\"field\":\"color\",\"transform\":{\"id\":\"1822\"}},\"line_alpha\":{\"value\":0.2},\"line_color\":{\"field\":\"color\",\"transform\":{\"id\":\"1822\"}},\"size\":{\"value\":5.477225575051661},\"x\":{\"field\":\"PCA1\"},\"y\":{\"field\":\"PCA2\"}},\"id\":\"1830\",\"type\":\"Scatter\"},{\"attributes\":{\"axis_label\":\"Price Change Percentage 7 Days\",\"coordinates\":null,\"formatter\":{\"id\":\"1783\"},\"group\":null,\"major_label_policy\":{\"id\":\"1784\"},\"ticker\":{\"id\":\"1750\"}},\"id\":\"1749\",\"type\":\"LinearAxis\"},{\"attributes\":{},\"id\":\"1783\",\"type\":\"BasicTickFormatter\"},{\"attributes\":{\"bar_line_color\":\"black\",\"color_mapper\":{\"id\":\"1822\"},\"coordinates\":null,\"group\":null,\"label_standoff\":8,\"location\":[0,0],\"major_label_policy\":{\"id\":\"1861\"},\"major_tick_line_color\":\"black\",\"ticker\":{\"id\":\"1833\"}},\"id\":\"1834\",\"type\":\"ColorBar\"},{\"attributes\":{},\"id\":\"1865\",\"type\":\"UnionRenderers\"},{\"attributes\":{\"axis_label\":\" Price Change Percentage 24 Hours\",\"coordinates\":null,\"formatter\":{\"id\":\"1780\"},\"group\":null,\"major_label_policy\":{\"id\":\"1781\"},\"ticker\":{\"id\":\"1746\"}},\"id\":\"1745\",\"type\":\"LinearAxis\"},{\"attributes\":{\"axis\":{\"id\":\"1801\"},\"coordinates\":null,\"grid_line_color\":null,\"group\":null,\"ticker\":null},\"id\":\"1804\",\"type\":\"Grid\"},{\"attributes\":{\"children\":[[{\"id\":\"1736\"},0,0],[{\"id\":\"1792\"},0,1]]},\"id\":\"1869\",\"type\":\"GridBox\"},{\"attributes\":{\"axis\":{\"id\":\"1805\"},\"coordinates\":null,\"dimension\":1,\"grid_line_color\":null,\"group\":null,\"ticker\":null},\"id\":\"1808\",\"type\":\"Grid\"},{\"attributes\":{\"coordinates\":null,\"group\":null,\"text\":\"Segement Clusters\",\"text_color\":\"black\",\"text_font_size\":\"12pt\"},\"id\":\"1793\",\"type\":\"Title\"},{\"attributes\":{},\"id\":\"1755\",\"type\":\"WheelZoomTool\"},{\"attributes\":{\"axis_label\":\"PCA2\",\"coordinates\":null,\"formatter\":{\"id\":\"1839\"},\"group\":null,\"major_label_policy\":{\"id\":\"1840\"},\"ticker\":{\"id\":\"1806\"}},\"id\":\"1805\",\"type\":\"LinearAxis\"},{\"attributes\":{\"end\":8.485310422788737,\"reset_end\":8.485310422788737,\"reset_start\":-1.5540921804637648,\"start\":-1.5540921804637648,\"tags\":[[[\"PCA1\",\"PCA1\",null]]]},\"id\":\"1789\",\"type\":\"Range1d\"},{\"attributes\":{},\"id\":\"1861\",\"type\":\"NoOverlap\"},{\"attributes\":{},\"id\":\"1741\",\"type\":\"LinearScale\"},{\"attributes\":{},\"id\":\"1810\",\"type\":\"PanTool\"},{\"attributes\":{\"coordinates\":null,\"group\":null,\"text\":\"Segement Clusters\",\"text_color\":\"black\",\"text_font_size\":\"12pt\"},\"id\":\"1737\",\"type\":\"Title\"},{\"attributes\":{},\"id\":\"1799\",\"type\":\"LinearScale\"},{\"attributes\":{\"toolbars\":[{\"id\":\"1759\"},{\"id\":\"1815\"}],\"tools\":[{\"id\":\"1735\"},{\"id\":\"1753\"},{\"id\":\"1754\"},{\"id\":\"1755\"},{\"id\":\"1756\"},{\"id\":\"1757\"},{\"id\":\"1791\"},{\"id\":\"1809\"},{\"id\":\"1810\"},{\"id\":\"1811\"},{\"id\":\"1812\"},{\"id\":\"1813\"}]},\"id\":\"1870\",\"type\":\"ProxyToolbar\"},{\"attributes\":{\"callback\":null,\"renderers\":[{\"id\":\"1831\"}],\"tags\":[\"hv_created\"],\"tooltips\":[[\"PCA1\",\"@{PCA1}\"],[\"PCA2\",\"@{PCA2}\"],[\"predicted clusters\",\"@{predicted_clusters}\"],[\"coin_id\",\"@{coin_id}\"]]},\"id\":\"1791\",\"type\":\"HoverTool\"},{\"attributes\":{\"axis_label\":\" PCA1\",\"coordinates\":null,\"formatter\":{\"id\":\"1836\"},\"group\":null,\"major_label_policy\":{\"id\":\"1837\"},\"ticker\":{\"id\":\"1802\"}},\"id\":\"1801\",\"type\":\"LinearAxis\"},{\"attributes\":{\"toolbar\":{\"id\":\"1870\"},\"toolbar_location\":\"above\"},\"id\":\"1871\",\"type\":\"ToolbarBox\"},{\"attributes\":{},\"id\":\"1806\",\"type\":\"BasicTicker\"},{\"attributes\":{},\"id\":\"1811\",\"type\":\"WheelZoomTool\"},{\"attributes\":{},\"id\":\"1754\",\"type\":\"PanTool\"},{\"attributes\":{\"end\":7.83413559633715,\"reset_end\":7.83413559633715,\"reset_start\":-4.963347456561361,\"start\":-4.963347456561361,\"tags\":[[[\"PCA2\",\"PCA2\",null]]]},\"id\":\"1790\",\"type\":\"Range1d\"},{\"attributes\":{\"children\":[{\"id\":\"1872\"}],\"margin\":[0,0,0,0],\"name\":\"Row03349\",\"tags\":[\"embedded\"]},\"id\":\"1732\",\"type\":\"Row\"},{\"attributes\":{},\"id\":\"1768\",\"type\":\"Selection\"},{\"attributes\":{},\"id\":\"1743\",\"type\":\"LinearScale\"},{\"attributes\":{\"high\":3,\"low\":0,\"palette\":[\"#440154\",\"#440255\",\"#440357\",\"#450558\",\"#45065a\",\"#45085b\",\"#46095c\",\"#460b5e\",\"#460c5f\",\"#460e61\",\"#470f62\",\"#471163\",\"#471265\",\"#471466\",\"#471567\",\"#471669\",\"#47186a\",\"#48196b\",\"#481a6c\",\"#481c6e\",\"#481d6f\",\"#481e70\",\"#482071\",\"#482172\",\"#482273\",\"#482374\",\"#472575\",\"#472676\",\"#472777\",\"#472878\",\"#472a79\",\"#472b7a\",\"#472c7b\",\"#462d7c\",\"#462f7c\",\"#46307d\",\"#46317e\",\"#45327f\",\"#45347f\",\"#453580\",\"#453681\",\"#443781\",\"#443982\",\"#433a83\",\"#433b83\",\"#433c84\",\"#423d84\",\"#423e85\",\"#424085\",\"#414186\",\"#414286\",\"#404387\",\"#404487\",\"#3f4587\",\"#3f4788\",\"#3e4888\",\"#3e4989\",\"#3d4a89\",\"#3d4b89\",\"#3d4c89\",\"#3c4d8a\",\"#3c4e8a\",\"#3b508a\",\"#3b518a\",\"#3a528b\",\"#3a538b\",\"#39548b\",\"#39558b\",\"#38568b\",\"#38578c\",\"#37588c\",\"#37598c\",\"#365a8c\",\"#365b8c\",\"#355c8c\",\"#355d8c\",\"#345e8d\",\"#345f8d\",\"#33608d\",\"#33618d\",\"#32628d\",\"#32638d\",\"#31648d\",\"#31658d\",\"#31668d\",\"#30678d\",\"#30688d\",\"#2f698d\",\"#2f6a8d\",\"#2e6b8e\",\"#2e6c8e\",\"#2e6d8e\",\"#2d6e8e\",\"#2d6f8e\",\"#2c708e\",\"#2c718e\",\"#2c728e\",\"#2b738e\",\"#2b748e\",\"#2a758e\",\"#2a768e\",\"#2a778e\",\"#29788e\",\"#29798e\",\"#287a8e\",\"#287a8e\",\"#287b8e\",\"#277c8e\",\"#277d8e\",\"#277e8e\",\"#267f8e\",\"#26808e\",\"#26818e\",\"#25828e\",\"#25838d\",\"#24848d\",\"#24858d\",\"#24868d\",\"#23878d\",\"#23888d\",\"#23898d\",\"#22898d\",\"#228a8d\",\"#228b8d\",\"#218c8d\",\"#218d8c\",\"#218e8c\",\"#208f8c\",\"#20908c\",\"#20918c\",\"#1f928c\",\"#1f938b\",\"#1f948b\",\"#1f958b\",\"#1f968b\",\"#1e978a\",\"#1e988a\",\"#1e998a\",\"#1e998a\",\"#1e9a89\",\"#1e9b89\",\"#1e9c89\",\"#1e9d88\",\"#1e9e88\",\"#1e9f88\",\"#1ea087\",\"#1fa187\",\"#1fa286\",\"#1fa386\",\"#20a485\",\"#20a585\",\"#21a685\",\"#21a784\",\"#22a784\",\"#23a883\",\"#23a982\",\"#24aa82\",\"#25ab81\",\"#26ac81\",\"#27ad80\",\"#28ae7f\",\"#29af7f\",\"#2ab07e\",\"#2bb17d\",\"#2cb17d\",\"#2eb27c\",\"#2fb37b\",\"#30b47a\",\"#32b57a\",\"#33b679\",\"#35b778\",\"#36b877\",\"#38b976\",\"#39b976\",\"#3bba75\",\"#3dbb74\",\"#3ebc73\",\"#40bd72\",\"#42be71\",\"#44be70\",\"#45bf6f\",\"#47c06e\",\"#49c16d\",\"#4bc26c\",\"#4dc26b\",\"#4fc369\",\"#51c468\",\"#53c567\",\"#55c666\",\"#57c665\",\"#59c764\",\"#5bc862\",\"#5ec961\",\"#60c960\",\"#62ca5f\",\"#64cb5d\",\"#67cc5c\",\"#69cc5b\",\"#6bcd59\",\"#6dce58\",\"#70ce56\",\"#72cf55\",\"#74d054\",\"#77d052\",\"#79d151\",\"#7cd24f\",\"#7ed24e\",\"#81d34c\",\"#83d34b\",\"#86d449\",\"#88d547\",\"#8bd546\",\"#8dd644\",\"#90d643\",\"#92d741\",\"#95d73f\",\"#97d83e\",\"#9ad83c\",\"#9dd93a\",\"#9fd938\",\"#a2da37\",\"#a5da35\",\"#a7db33\",\"#aadb32\",\"#addc30\",\"#afdc2e\",\"#b2dd2c\",\"#b5dd2b\",\"#b7dd29\",\"#bade27\",\"#bdde26\",\"#bfdf24\",\"#c2df22\",\"#c5df21\",\"#c7e01f\",\"#cae01e\",\"#cde01d\",\"#cfe11c\",\"#d2e11b\",\"#d4e11a\",\"#d7e219\",\"#dae218\",\"#dce218\",\"#dfe318\",\"#e1e318\",\"#e4e318\",\"#e7e419\",\"#e9e419\",\"#ece41a\",\"#eee51b\",\"#f1e51c\",\"#f3e51e\",\"#f6e61f\",\"#f8e621\",\"#fae622\",\"#fde724\"]},\"id\":\"1822\",\"type\":\"LinearColorMapper\"},{\"attributes\":{\"fill_alpha\":{\"value\":0.1},\"fill_color\":{\"field\":\"color\",\"transform\":{\"id\":\"1822\"}},\"hatch_alpha\":{\"value\":0.1},\"hatch_color\":{\"field\":\"color\",\"transform\":{\"id\":\"1822\"}},\"line_alpha\":{\"value\":0.1},\"line_color\":{\"field\":\"color\",\"transform\":{\"id\":\"1822\"}},\"size\":{\"value\":5.477225575051661},\"x\":{\"field\":\"PCA1\"},\"y\":{\"field\":\"PCA2\"}},\"id\":\"1827\",\"type\":\"Scatter\"},{\"attributes\":{},\"id\":\"1809\",\"type\":\"SaveTool\"},{\"attributes\":{\"axis\":{\"id\":\"1745\"},\"coordinates\":null,\"grid_line_color\":null,\"group\":null,\"ticker\":null},\"id\":\"1748\",\"type\":\"Grid\"},{\"attributes\":{\"overlay\":{\"id\":\"1814\"}},\"id\":\"1812\",\"type\":\"BoxZoomTool\"},{\"attributes\":{},\"id\":\"1802\",\"type\":\"BasicTicker\"},{\"attributes\":{},\"id\":\"1757\",\"type\":\"ResetTool\"},{\"attributes\":{\"fill_color\":{\"field\":\"color\",\"transform\":{\"id\":\"1766\"}},\"hatch_color\":{\"field\":\"color\",\"transform\":{\"id\":\"1766\"}},\"line_color\":{\"field\":\"color\",\"transform\":{\"id\":\"1766\"}},\"size\":{\"value\":5.477225575051661},\"x\":{\"field\":\"price_change_percentage_24h\"},\"y\":{\"field\":\"price_change_percentage_7d\"}},\"id\":\"1770\",\"type\":\"Scatter\"},{\"attributes\":{},\"id\":\"1836\",\"type\":\"BasicTickFormatter\"},{\"attributes\":{\"children\":[{\"id\":\"1871\"},{\"id\":\"1869\"}]},\"id\":\"1872\",\"type\":\"Column\"},{\"attributes\":{},\"id\":\"1813\",\"type\":\"ResetTool\"},{\"attributes\":{},\"id\":\"1833\",\"type\":\"BasicTicker\"},{\"attributes\":{},\"id\":\"1753\",\"type\":\"SaveTool\"},{\"attributes\":{\"fill_color\":{\"field\":\"color\",\"transform\":{\"id\":\"1766\"}},\"hatch_color\":{\"field\":\"color\",\"transform\":{\"id\":\"1766\"}},\"line_color\":{\"field\":\"color\",\"transform\":{\"id\":\"1766\"}},\"size\":{\"value\":5.477225575051661},\"x\":{\"field\":\"price_change_percentage_24h\"},\"y\":{\"field\":\"price_change_percentage_7d\"}},\"id\":\"1773\",\"type\":\"Scatter\"},{\"attributes\":{},\"id\":\"1797\",\"type\":\"LinearScale\"},{\"attributes\":{},\"id\":\"1780\",\"type\":\"BasicTickFormatter\"},{\"attributes\":{},\"id\":\"1853\",\"type\":\"UnionRenderers\"},{\"attributes\":{\"bottom_units\":\"screen\",\"coordinates\":null,\"fill_alpha\":0.5,\"fill_color\":\"lightgrey\",\"group\":null,\"left_units\":\"screen\",\"level\":\"overlay\",\"line_alpha\":1.0,\"line_color\":\"black\",\"line_dash\":[4,4],\"line_width\":2,\"right_units\":\"screen\",\"syncable\":false,\"top_units\":\"screen\"},\"id\":\"1814\",\"type\":\"BoxAnnotation\"},{\"attributes\":{},\"id\":\"1837\",\"type\":\"AllLabels\"},{\"attributes\":{\"active_drag\":{\"id\":\"1754\"},\"active_scroll\":{\"id\":\"1755\"},\"tools\":[{\"id\":\"1735\"},{\"id\":\"1753\"},{\"id\":\"1754\"},{\"id\":\"1755\"},{\"id\":\"1756\"},{\"id\":\"1757\"}]},\"id\":\"1759\",\"type\":\"Toolbar\"},{\"attributes\":{\"active_drag\":{\"id\":\"1810\"},\"active_scroll\":{\"id\":\"1811\"},\"tools\":[{\"id\":\"1791\"},{\"id\":\"1809\"},{\"id\":\"1810\"},{\"id\":\"1811\"},{\"id\":\"1812\"},{\"id\":\"1813\"}]},\"id\":\"1815\",\"type\":\"Toolbar\"},{\"attributes\":{},\"id\":\"1824\",\"type\":\"Selection\"},{\"attributes\":{\"fill_alpha\":{\"value\":0.1},\"fill_color\":{\"field\":\"color\",\"transform\":{\"id\":\"1766\"}},\"hatch_alpha\":{\"value\":0.1},\"hatch_color\":{\"field\":\"color\",\"transform\":{\"id\":\"1766\"}},\"line_alpha\":{\"value\":0.1},\"line_color\":{\"field\":\"color\",\"transform\":{\"id\":\"1766\"}},\"size\":{\"value\":5.477225575051661},\"x\":{\"field\":\"price_change_percentage_24h\"},\"y\":{\"field\":\"price_change_percentage_7d\"}},\"id\":\"1771\",\"type\":\"Scatter\"},{\"attributes\":{\"overlay\":{\"id\":\"1758\"}},\"id\":\"1756\",\"type\":\"BoxZoomTool\"},{\"attributes\":{\"fill_alpha\":{\"value\":0.2},\"fill_color\":{\"field\":\"color\",\"transform\":{\"id\":\"1766\"}},\"hatch_alpha\":{\"value\":0.2},\"hatch_color\":{\"field\":\"color\",\"transform\":{\"id\":\"1766\"}},\"line_alpha\":{\"value\":0.2},\"line_color\":{\"field\":\"color\",\"transform\":{\"id\":\"1766\"}},\"size\":{\"value\":5.477225575051661},\"x\":{\"field\":\"price_change_percentage_24h\"},\"y\":{\"field\":\"price_change_percentage_7d\"}},\"id\":\"1774\",\"type\":\"Scatter\"},{\"attributes\":{},\"id\":\"1784\",\"type\":\"AllLabels\"},{\"attributes\":{\"source\":{\"id\":\"1823\"}},\"id\":\"1832\",\"type\":\"CDSView\"},{\"attributes\":{},\"id\":\"1777\",\"type\":\"BasicTicker\"},{\"attributes\":{\"fill_color\":{\"field\":\"color\",\"transform\":{\"id\":\"1822\"}},\"hatch_color\":{\"field\":\"color\",\"transform\":{\"id\":\"1822\"}},\"line_color\":{\"field\":\"color\",\"transform\":{\"id\":\"1822\"}},\"size\":{\"value\":5.477225575051661},\"x\":{\"field\":\"PCA1\"},\"y\":{\"field\":\"PCA2\"}},\"id\":\"1826\",\"type\":\"Scatter\"},{\"attributes\":{\"below\":[{\"id\":\"1745\"}],\"center\":[{\"id\":\"1748\"},{\"id\":\"1752\"}],\"height\":300,\"left\":[{\"id\":\"1749\"}],\"margin\":null,\"min_border_bottom\":10,\"min_border_left\":10,\"min_border_right\":10,\"min_border_top\":10,\"renderers\":[{\"id\":\"1775\"}],\"right\":[{\"id\":\"1778\"}],\"sizing_mode\":\"fixed\",\"title\":{\"id\":\"1737\"},\"toolbar\":{\"id\":\"1759\"},\"toolbar_location\":null,\"width\":700,\"x_range\":{\"id\":\"1733\"},\"x_scale\":{\"id\":\"1741\"},\"y_range\":{\"id\":\"1734\"},\"y_scale\":{\"id\":\"1743\"}},\"id\":\"1736\",\"subtype\":\"Figure\",\"type\":\"Plot\"},{\"attributes\":{},\"id\":\"1849\",\"type\":\"NoOverlap\"},{\"attributes\":{},\"id\":\"1746\",\"type\":\"BasicTicker\"},{\"attributes\":{\"coordinates\":null,\"data_source\":{\"id\":\"1823\"},\"glyph\":{\"id\":\"1826\"},\"group\":null,\"hover_glyph\":{\"id\":\"1829\"},\"muted_glyph\":{\"id\":\"1830\"},\"nonselection_glyph\":{\"id\":\"1827\"},\"selection_glyph\":{\"id\":\"1828\"},\"view\":{\"id\":\"1832\"}},\"id\":\"1831\",\"type\":\"GlyphRenderer\"}],\"root_ids\":[\"1732\"]},\"title\":\"Bokeh Application\",\"version\":\"2.4.3\"}};\n",
              "    var render_items = [{\"docid\":\"130df3f3-821b-4b31-bfdc-4be55cf6c86d\",\"root_ids\":[\"1732\"],\"roots\":{\"1732\":\"fbf5a156-c5ca-4d18-9a2e-f3e1cf016cd5\"}}];\n",
              "    root.Bokeh.embed.embed_items_notebook(docs_json, render_items);\n",
              "    for (const render_item of render_items) {\n",
              "      for (const root_id of render_item.root_ids) {\n",
              "\tconst id_el = document.getElementById(root_id)\n",
              "\tif (id_el.children.length && (id_el.children[0].className === 'bk-root')) {\n",
              "\t  const root_el = id_el.children[0]\n",
              "\t  root_el.id = root_el.id + '-rendered'\n",
              "\t}\n",
              "      }\n",
              "    }\n",
              "  }\n",
              "  if (root.Bokeh !== undefined && root.Bokeh.Panel !== undefined) {\n",
              "    embed_document(root);\n",
              "  } else {\n",
              "    var attempts = 0;\n",
              "    var timer = setInterval(function(root) {\n",
              "      if (root.Bokeh !== undefined && root.Bokeh.Panel !== undefined) {\n",
              "        clearInterval(timer);\n",
              "        embed_document(root);\n",
              "      } else if (document.readyState == \"complete\") {\n",
              "        attempts++;\n",
              "        if (attempts > 200) {\n",
              "          clearInterval(timer);\n",
              "          console.log(\"Bokeh: ERROR: Unable to run BokehJS code because BokehJS library is missing\");\n",
              "        }\n",
              "      }\n",
              "    }, 25, root)\n",
              "  }\n",
              "})(window);</script>"
            ],
            "application/vnd.holoviews_exec.v0+json": "",
            "text/plain": [
              ":Layout\n",
              "   .Scatter.I  :Scatter   [price_change_percentage_24h]   (price_change_percentage_7d,Predicted Clusters,coin_id)\n",
              "   .Scatter.II :Scatter   [PCA1]   (PCA2,predicted clusters,coin_id)"
            ]
          },
          "metadata": {
            "application/vnd.holoviews_exec.v0+json": {
              "id": "1732"
            }
          },
          "execution_count": 105
        }
      ],
      "source": [
        "# Composite plot to contrast the clusters\n",
        "df_crypto.hvplot.scatter(\n",
        "    x=\"price_change_percentage_24h\",\n",
        "    y=\"price_change_percentage_7d\",\n",
        "    c=\"Predicted Clusters\",\n",
        "    hover_cols = \"coin_id\",\n",
        "    title=\"Segement Clusters\",\n",
        "    xlabel=\" Price Change Percentage 24 Hours\",\n",
        "    ylabel=\"Price Change Percentage 7 Days\",\n",
        ") + df_pca_crypto.hvplot.scatter(\n",
        "    x=\"PCA1\",\n",
        "    y=\"PCA2\",\n",
        "    c=\"predicted clusters\",\n",
        "    cmap = \"viridis\",\n",
        "    hover_cols = \"coin_id\",\n",
        "    title=\"Segement Clusters\",\n",
        "    xlabel=\" PCA1\",\n",
        "    ylabel=\"PCA2\",\n",
        ")\n",
        "\n"
      ]
    },
    {
      "cell_type": "code",
      "source": [
        "# Composite plot to contrast the clusters\n",
        "fig, ax = plt.subplots(1, 2, figsize=(12, 6))\n",
        "\n",
        "ax[0].scatter(df_pca_crypto['PCA1'], df_pca_crypto['PCA2'], c=df_pca_crypto['predicted clusters'], cmap='viridis')\n",
        "ax[0].set_xlabel('PCA1')\n",
        "ax[0].set_ylabel('PCA2')\n",
        "ax[0].set_title('Clusters - df_pca_crypto')\n",
        "\n",
        "ax[1].scatter(df_crypto['price_change_percentage_24h'], df_crypto['price_change_percentage_7d'], c=df_crypto['Predicted Clusters'], cmap='viridis')\n",
        "ax[1].set_xlabel('Price Change Percentage 24h')\n",
        "ax[1].set_ylabel('Price Change Percentage 7d')\n",
        "ax[1].set_title('Clusters - df_crypto')\n",
        "\n",
        "plt.tight_layout()\n",
        "\n",
        "plt.show()"
      ],
      "metadata": {
        "colab": {
          "base_uri": "https://localhost:8080/",
          "height": 607
        },
        "id": "bDAK20_b1Wtc",
        "outputId": "f8d0ddf4-8cfe-468b-8271-baa68cc4e8af"
      },
      "execution_count": null,
      "outputs": [
        {
          "output_type": "display_data",
          "data": {
            "text/plain": [
              "<Figure size 1200x600 with 2 Axes>"
            ],
            "image/png": "[encoded data removed]"
          },
          "metadata": {}
        }
      ]
    },
    {
      "cell_type": "markdown",
      "metadata": {
        "id": "RaLwcjM0xKvS"
      },
      "source": [
        "#### Answer the following question:\n",
        "\n",
        "  * **Question:** After visually analyzing the cluster analysis results, what is the impact of using fewer features to cluster the data using K-Means?\n",
        "\n",
        "  * **Answer:** The inertia drop a little steeper when using fewer features, and the predicted clusters are a bit more spaced out and overlap a lot less"
      ]
    }
  ],
  "metadata": {
    "kernelspec": {
      "display_name": "Python 3 (ipykernel)",
      "language": "python",
      "name": "python3"
    },
    "language_info": {
      "codemirror_mode": {
        "name": "ipython",
        "version": 3
      },
      "file_extension": ".py",
      "mimetype": "text/x-python",
      "name": "python",
      "nbconvert_exporter": "python",
      "pygments_lexer": "ipython3",
      "version": "3.10.4"
    },
    "nteract": {
      "version": "0.28.0"
    },
    "vscode": {
      "interpreter": {
        "hash": "40d3a090f54c6569ab1632332b64b2c03c39dcf918b08424e98f38b5ae0af88f"
      }
    },
    "colab": {
      "provenance": []
    }
  },
  "nbformat": 4,
  "nbformat_minor": 0
}